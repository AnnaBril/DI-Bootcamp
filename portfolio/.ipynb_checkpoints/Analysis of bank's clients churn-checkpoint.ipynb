{
 "cells": [
  {
   "cell_type": "markdown",
   "metadata": {},
   "source": [
    "# Study of client churn of a regional bank\n",
    "\n",
    "Bank Metanprom is located in Yaroslavl and regional cities: Rostov Veliky and Rybinsk. The bank has recently experienced a strong client churn. The marketing department requested a study of outflow client segments in order to launch marketing campaigns for this contingent of clients.\n",
    "\n",
    "<b>Research Objective:</b> to analyze the bank's clients and identify compact and high-precision segments of clients who tend to leave the bank.\n",
    "\n",
    "<b>Objective of the study:</b> highlighting clear segments of churn clients for subsequent development of a marketing campaign to prevent client churn.\n",
    "\n",
    "<b>The study includes the following steps:</b>\n",
    "\n",
    "- Opening a file and getting general information about a dataset;\n",
    "\n",
    "- Data preprocessing (working with skips, column signatures, duplicates, anomalous values, data types);\n",
    "\n",
    "- Research analysis of data (identification of significant signs of churn (intervals of characteristic values that are associated with increased churn, formation and comparison of portraits of typical clients who are inclined and not inclined to leave the bank, based on comparison of the following attributes: number of properties, number of bank products, activity, balance, etc., study of correlations of both quantitative and qualitative attributes by Phik method);\n",
    "\n",
    "- Allocation of homogeneous segments of clients based on the association of attributes: at least three segments including from 500 to 2000 clients;\n",
    "\n",
    "- Formulation and testing of statistical hypotheses (the first hypothesis about the difference in income between those customers who left and those who stayed, the second hypothesis about the influence of one of the indicators (balance, age, credit card availability, activity, number of bank products) on customer churn);\n",
    "\n",
    "- Formulation of conclusions on the study and development of recommendations for working with customers who, based on the highlighted features, may leave the bank.\n",
    "\n",
    "<b>Data Description:</b>\n",
    "\n",
    "- `userid;\n",
    "- `score` — credit scoring points;\n",
    "- `City`;\n",
    "- `Gender`;\n",
    "- `Age`;\n",
    "- `equity` — property score;\n",
    "- `Balance` —  account balance;\n",
    "- `Products` — number of bank products used by the client;\n",
    "- `CreditCard`;\n",
    "- ` last_activity` —  active client;\n",
    "- `est_salary` — client salary;\n",
    "- `Churn` — whether the client is gone or not."
   ]
  },
  {
   "cell_type": "markdown",
   "metadata": {},
   "source": [
    "## Open the data file and examine the general information"
   ]
  },
  {
   "cell_type": "code",
   "execution_count": 1,
   "metadata": {},
   "outputs": [
    {
     "name": "stdout",
     "output_type": "stream",
     "text": [
      "Requirement already satisfied: phik in /opt/conda/lib/python3.9/site-packages (0.12.3)\n",
      "Requirement already satisfied: joblib>=0.14.1 in /opt/conda/lib/python3.9/site-packages (from phik) (1.1.0)\n",
      "Requirement already satisfied: scipy>=1.5.2 in /opt/conda/lib/python3.9/site-packages (from phik) (1.9.1)\n",
      "Requirement already satisfied: numpy>=1.18.0 in /opt/conda/lib/python3.9/site-packages (from phik) (1.21.1)\n",
      "Requirement already satisfied: pandas>=0.25.1 in /opt/conda/lib/python3.9/site-packages (from phik) (1.2.4)\n",
      "Requirement already satisfied: matplotlib>=2.2.3 in /opt/conda/lib/python3.9/site-packages (from phik) (3.3.4)\n",
      "Requirement already satisfied: pillow>=6.2.0 in /opt/conda/lib/python3.9/site-packages (from matplotlib>=2.2.3->phik) (8.4.0)\n",
      "Requirement already satisfied: kiwisolver>=1.0.1 in /opt/conda/lib/python3.9/site-packages (from matplotlib>=2.2.3->phik) (1.4.4)\n",
      "Requirement already satisfied: cycler>=0.10 in /opt/conda/lib/python3.9/site-packages (from matplotlib>=2.2.3->phik) (0.11.0)\n",
      "Requirement already satisfied: pyparsing!=2.0.4,!=2.1.2,!=2.1.6,>=2.0.3 in /opt/conda/lib/python3.9/site-packages (from matplotlib>=2.2.3->phik) (2.4.7)\n",
      "Requirement already satisfied: python-dateutil>=2.1 in /opt/conda/lib/python3.9/site-packages (from matplotlib>=2.2.3->phik) (2.8.1)\n",
      "Requirement already satisfied: pytz>=2017.3 in /opt/conda/lib/python3.9/site-packages (from pandas>=0.25.1->phik) (2021.1)\n",
      "Requirement already satisfied: six>=1.5 in /opt/conda/lib/python3.9/site-packages (from python-dateutil>=2.1->matplotlib>=2.2.3->phik) (1.16.0)\n"
     ]
    }
   ],
   "source": [
    "import pandas as pd\n",
    "import numpy as np\n",
    "import matplotlib.pyplot as plt\n",
    "import seaborn as sns\n",
    "import plotly.express as px\n",
    "from plotly import graph_objects as go\n",
    "from scipy import stats as st\n",
    "import math as mth\n",
    "from IPython.display import set_matplotlib_formats\n",
    "from pandas.plotting import register_matplotlib_converters\n",
    "register_matplotlib_converters()\n",
    "import warnings; warnings.filterwarnings(action = 'ignore')\n",
    "\n",
    "!pip install phik\n",
    "import phik\n",
    "from phik.report import plot_correlation_matrix\n",
    "from phik import report\n",
    "# library import"
   ]
  },
  {
   "cell_type": "code",
   "execution_count": 2,
   "metadata": {},
   "outputs": [
    {
     "data": {
      "text/html": [
       "<div>\n",
       "<style scoped>\n",
       "    .dataframe tbody tr th:only-of-type {\n",
       "        vertical-align: middle;\n",
       "    }\n",
       "\n",
       "    .dataframe tbody tr th {\n",
       "        vertical-align: top;\n",
       "    }\n",
       "\n",
       "    .dataframe thead th {\n",
       "        text-align: right;\n",
       "    }\n",
       "</style>\n",
       "<table border=\"1\" class=\"dataframe\">\n",
       "  <thead>\n",
       "    <tr style=\"text-align: right;\">\n",
       "      <th></th>\n",
       "      <th>USERID</th>\n",
       "      <th>score</th>\n",
       "      <th>city</th>\n",
       "      <th>gender</th>\n",
       "      <th>age</th>\n",
       "      <th>equity</th>\n",
       "      <th>balance</th>\n",
       "      <th>products</th>\n",
       "      <th>credit_card</th>\n",
       "      <th>last_activity</th>\n",
       "      <th>EST_SALARY</th>\n",
       "      <th>churn</th>\n",
       "    </tr>\n",
       "  </thead>\n",
       "  <tbody>\n",
       "    <tr>\n",
       "      <th>0</th>\n",
       "      <td>183012</td>\n",
       "      <td>850.0</td>\n",
       "      <td>Рыбинск</td>\n",
       "      <td>Ж</td>\n",
       "      <td>25.0</td>\n",
       "      <td>1</td>\n",
       "      <td>59214.82</td>\n",
       "      <td>2</td>\n",
       "      <td>0</td>\n",
       "      <td>1</td>\n",
       "      <td>75719.14</td>\n",
       "      <td>1</td>\n",
       "    </tr>\n",
       "    <tr>\n",
       "      <th>1</th>\n",
       "      <td>146556</td>\n",
       "      <td>861.0</td>\n",
       "      <td>Рыбинск</td>\n",
       "      <td>Ж</td>\n",
       "      <td>37.0</td>\n",
       "      <td>5</td>\n",
       "      <td>850594.33</td>\n",
       "      <td>3</td>\n",
       "      <td>1</td>\n",
       "      <td>0</td>\n",
       "      <td>86621.77</td>\n",
       "      <td>0</td>\n",
       "    </tr>\n",
       "    <tr>\n",
       "      <th>2</th>\n",
       "      <td>120722</td>\n",
       "      <td>892.0</td>\n",
       "      <td>Рыбинск</td>\n",
       "      <td>Ж</td>\n",
       "      <td>30.0</td>\n",
       "      <td>0</td>\n",
       "      <td>NaN</td>\n",
       "      <td>1</td>\n",
       "      <td>1</td>\n",
       "      <td>1</td>\n",
       "      <td>107683.34</td>\n",
       "      <td>0</td>\n",
       "    </tr>\n",
       "    <tr>\n",
       "      <th>3</th>\n",
       "      <td>225363</td>\n",
       "      <td>866.0</td>\n",
       "      <td>Ярославль</td>\n",
       "      <td>Ж</td>\n",
       "      <td>51.0</td>\n",
       "      <td>5</td>\n",
       "      <td>1524746.26</td>\n",
       "      <td>2</td>\n",
       "      <td>0</td>\n",
       "      <td>1</td>\n",
       "      <td>174423.53</td>\n",
       "      <td>1</td>\n",
       "    </tr>\n",
       "    <tr>\n",
       "      <th>4</th>\n",
       "      <td>157978</td>\n",
       "      <td>730.0</td>\n",
       "      <td>Ярославль</td>\n",
       "      <td>М</td>\n",
       "      <td>34.0</td>\n",
       "      <td>5</td>\n",
       "      <td>174.00</td>\n",
       "      <td>1</td>\n",
       "      <td>1</td>\n",
       "      <td>0</td>\n",
       "      <td>67353.16</td>\n",
       "      <td>1</td>\n",
       "    </tr>\n",
       "    <tr>\n",
       "      <th>5</th>\n",
       "      <td>202305</td>\n",
       "      <td>856.0</td>\n",
       "      <td>Рыбинск</td>\n",
       "      <td>М</td>\n",
       "      <td>56.0</td>\n",
       "      <td>4</td>\n",
       "      <td>863687.24</td>\n",
       "      <td>3</td>\n",
       "      <td>1</td>\n",
       "      <td>0</td>\n",
       "      <td>156619.80</td>\n",
       "      <td>0</td>\n",
       "    </tr>\n",
       "    <tr>\n",
       "      <th>6</th>\n",
       "      <td>177259</td>\n",
       "      <td>807.0</td>\n",
       "      <td>Ярославль</td>\n",
       "      <td>Ж</td>\n",
       "      <td>39.0</td>\n",
       "      <td>3</td>\n",
       "      <td>405042.44</td>\n",
       "      <td>3</td>\n",
       "      <td>0</td>\n",
       "      <td>1</td>\n",
       "      <td>103838.32</td>\n",
       "      <td>0</td>\n",
       "    </tr>\n",
       "    <tr>\n",
       "      <th>7</th>\n",
       "      <td>218868</td>\n",
       "      <td>825.0</td>\n",
       "      <td>Ярославль</td>\n",
       "      <td>Ж</td>\n",
       "      <td>38.0</td>\n",
       "      <td>4</td>\n",
       "      <td>458145.40</td>\n",
       "      <td>2</td>\n",
       "      <td>1</td>\n",
       "      <td>1</td>\n",
       "      <td>68085.48</td>\n",
       "      <td>0</td>\n",
       "    </tr>\n",
       "    <tr>\n",
       "      <th>8</th>\n",
       "      <td>211686</td>\n",
       "      <td>923.0</td>\n",
       "      <td>Ярославль</td>\n",
       "      <td>М</td>\n",
       "      <td>54.0</td>\n",
       "      <td>5</td>\n",
       "      <td>1206337.87</td>\n",
       "      <td>2</td>\n",
       "      <td>1</td>\n",
       "      <td>0</td>\n",
       "      <td>155371.79</td>\n",
       "      <td>0</td>\n",
       "    </tr>\n",
       "    <tr>\n",
       "      <th>9</th>\n",
       "      <td>133130</td>\n",
       "      <td>906.0</td>\n",
       "      <td>Ярославль</td>\n",
       "      <td>Ж</td>\n",
       "      <td>67.0</td>\n",
       "      <td>0</td>\n",
       "      <td>NaN</td>\n",
       "      <td>1</td>\n",
       "      <td>0</td>\n",
       "      <td>1</td>\n",
       "      <td>238055.53</td>\n",
       "      <td>0</td>\n",
       "    </tr>\n",
       "    <tr>\n",
       "      <th>10</th>\n",
       "      <td>148929</td>\n",
       "      <td>927.0</td>\n",
       "      <td>Ростов</td>\n",
       "      <td>М</td>\n",
       "      <td>52.0</td>\n",
       "      <td>0</td>\n",
       "      <td>NaN</td>\n",
       "      <td>1</td>\n",
       "      <td>1</td>\n",
       "      <td>1</td>\n",
       "      <td>196820.07</td>\n",
       "      <td>0</td>\n",
       "    </tr>\n",
       "    <tr>\n",
       "      <th>11</th>\n",
       "      <td>172184</td>\n",
       "      <td>921.0</td>\n",
       "      <td>Ростов</td>\n",
       "      <td>М</td>\n",
       "      <td>41.0</td>\n",
       "      <td>0</td>\n",
       "      <td>NaN</td>\n",
       "      <td>1</td>\n",
       "      <td>1</td>\n",
       "      <td>1</td>\n",
       "      <td>217469.48</td>\n",
       "      <td>0</td>\n",
       "    </tr>\n",
       "    <tr>\n",
       "      <th>12</th>\n",
       "      <td>132970</td>\n",
       "      <td>845.0</td>\n",
       "      <td>Ярославль</td>\n",
       "      <td>Ж</td>\n",
       "      <td>31.0</td>\n",
       "      <td>3</td>\n",
       "      <td>591928.52</td>\n",
       "      <td>2</td>\n",
       "      <td>1</td>\n",
       "      <td>1</td>\n",
       "      <td>112697.16</td>\n",
       "      <td>1</td>\n",
       "    </tr>\n",
       "    <tr>\n",
       "      <th>13</th>\n",
       "      <td>166357</td>\n",
       "      <td>837.0</td>\n",
       "      <td>Рыбинск</td>\n",
       "      <td>Ж</td>\n",
       "      <td>28.0</td>\n",
       "      <td>4</td>\n",
       "      <td>302249.22</td>\n",
       "      <td>2</td>\n",
       "      <td>0</td>\n",
       "      <td>1</td>\n",
       "      <td>30950.94</td>\n",
       "      <td>0</td>\n",
       "    </tr>\n",
       "    <tr>\n",
       "      <th>14</th>\n",
       "      <td>172138</td>\n",
       "      <td>815.0</td>\n",
       "      <td>Ярославль</td>\n",
       "      <td>М</td>\n",
       "      <td>35.0</td>\n",
       "      <td>5</td>\n",
       "      <td>547499.87</td>\n",
       "      <td>2</td>\n",
       "      <td>1</td>\n",
       "      <td>1</td>\n",
       "      <td>105883.26</td>\n",
       "      <td>0</td>\n",
       "    </tr>\n",
       "    <tr>\n",
       "      <th>15</th>\n",
       "      <td>120260</td>\n",
       "      <td>731.0</td>\n",
       "      <td>Рыбинск</td>\n",
       "      <td>М</td>\n",
       "      <td>42.0</td>\n",
       "      <td>3</td>\n",
       "      <td>1480548.47</td>\n",
       "      <td>3</td>\n",
       "      <td>1</td>\n",
       "      <td>0</td>\n",
       "      <td>160974.43</td>\n",
       "      <td>0</td>\n",
       "    </tr>\n",
       "    <tr>\n",
       "      <th>16</th>\n",
       "      <td>123335</td>\n",
       "      <td>829.0</td>\n",
       "      <td>Ярославль</td>\n",
       "      <td>М</td>\n",
       "      <td>45.0</td>\n",
       "      <td>5</td>\n",
       "      <td>507842.84</td>\n",
       "      <td>1</td>\n",
       "      <td>1</td>\n",
       "      <td>1</td>\n",
       "      <td>169330.64</td>\n",
       "      <td>0</td>\n",
       "    </tr>\n",
       "    <tr>\n",
       "      <th>17</th>\n",
       "      <td>214277</td>\n",
       "      <td>793.0</td>\n",
       "      <td>Ярославль</td>\n",
       "      <td>М</td>\n",
       "      <td>53.0</td>\n",
       "      <td>3</td>\n",
       "      <td>627034.50</td>\n",
       "      <td>2</td>\n",
       "      <td>1</td>\n",
       "      <td>0</td>\n",
       "      <td>183430.19</td>\n",
       "      <td>0</td>\n",
       "    </tr>\n",
       "    <tr>\n",
       "      <th>18</th>\n",
       "      <td>136651</td>\n",
       "      <td>876.0</td>\n",
       "      <td>Ярославль</td>\n",
       "      <td>М</td>\n",
       "      <td>40.0</td>\n",
       "      <td>5</td>\n",
       "      <td>2307947.36</td>\n",
       "      <td>2</td>\n",
       "      <td>0</td>\n",
       "      <td>0</td>\n",
       "      <td>287010.61</td>\n",
       "      <td>0</td>\n",
       "    </tr>\n",
       "    <tr>\n",
       "      <th>19</th>\n",
       "      <td>127034</td>\n",
       "      <td>922.0</td>\n",
       "      <td>Рыбинск</td>\n",
       "      <td>Ж</td>\n",
       "      <td>53.0</td>\n",
       "      <td>0</td>\n",
       "      <td>NaN</td>\n",
       "      <td>1</td>\n",
       "      <td>0</td>\n",
       "      <td>0</td>\n",
       "      <td>147094.82</td>\n",
       "      <td>0</td>\n",
       "    </tr>\n",
       "  </tbody>\n",
       "</table>\n",
       "</div>"
      ],
      "text/plain": [
       "    USERID  score       city gender   age  equity     balance  products  \\\n",
       "0   183012  850.0    Рыбинск      Ж  25.0       1    59214.82         2   \n",
       "1   146556  861.0    Рыбинск      Ж  37.0       5   850594.33         3   \n",
       "2   120722  892.0    Рыбинск      Ж  30.0       0         NaN         1   \n",
       "3   225363  866.0  Ярославль      Ж  51.0       5  1524746.26         2   \n",
       "4   157978  730.0  Ярославль      М  34.0       5      174.00         1   \n",
       "5   202305  856.0    Рыбинск      М  56.0       4   863687.24         3   \n",
       "6   177259  807.0  Ярославль      Ж  39.0       3   405042.44         3   \n",
       "7   218868  825.0  Ярославль      Ж  38.0       4   458145.40         2   \n",
       "8   211686  923.0  Ярославль      М  54.0       5  1206337.87         2   \n",
       "9   133130  906.0  Ярославль      Ж  67.0       0         NaN         1   \n",
       "10  148929  927.0     Ростов      М  52.0       0         NaN         1   \n",
       "11  172184  921.0     Ростов      М  41.0       0         NaN         1   \n",
       "12  132970  845.0  Ярославль      Ж  31.0       3   591928.52         2   \n",
       "13  166357  837.0    Рыбинск      Ж  28.0       4   302249.22         2   \n",
       "14  172138  815.0  Ярославль      М  35.0       5   547499.87         2   \n",
       "15  120260  731.0    Рыбинск      М  42.0       3  1480548.47         3   \n",
       "16  123335  829.0  Ярославль      М  45.0       5   507842.84         1   \n",
       "17  214277  793.0  Ярославль      М  53.0       3   627034.50         2   \n",
       "18  136651  876.0  Ярославль      М  40.0       5  2307947.36         2   \n",
       "19  127034  922.0    Рыбинск      Ж  53.0       0         NaN         1   \n",
       "\n",
       "    credit_card  last_activity  EST_SALARY  churn  \n",
       "0             0              1    75719.14      1  \n",
       "1             1              0    86621.77      0  \n",
       "2             1              1   107683.34      0  \n",
       "3             0              1   174423.53      1  \n",
       "4             1              0    67353.16      1  \n",
       "5             1              0   156619.80      0  \n",
       "6             0              1   103838.32      0  \n",
       "7             1              1    68085.48      0  \n",
       "8             1              0   155371.79      0  \n",
       "9             0              1   238055.53      0  \n",
       "10            1              1   196820.07      0  \n",
       "11            1              1   217469.48      0  \n",
       "12            1              1   112697.16      1  \n",
       "13            0              1    30950.94      0  \n",
       "14            1              1   105883.26      0  \n",
       "15            1              0   160974.43      0  \n",
       "16            1              1   169330.64      0  \n",
       "17            1              0   183430.19      0  \n",
       "18            0              0   287010.61      0  \n",
       "19            0              0   147094.82      0  "
      ]
     },
     "execution_count": 2,
     "metadata": {},
     "output_type": "execute_result"
    }
   ],
   "source": [
    "data = pd.read_csv('https://code.s3.yandex.net/datasets/bank_scrooge.csv')\n",
    "data.head(20)\n",
    "# opening a file and outputting the first 20 rows"
   ]
  },
  {
   "cell_type": "code",
   "execution_count": 3,
   "metadata": {},
   "outputs": [
    {
     "name": "stdout",
     "output_type": "stream",
     "text": [
      "<class 'pandas.core.frame.DataFrame'>\n",
      "RangeIndex: 10000 entries, 0 to 9999\n",
      "Data columns (total 12 columns):\n",
      " #   Column         Non-Null Count  Dtype  \n",
      "---  ------         --------------  -----  \n",
      " 0   USERID         10000 non-null  int64  \n",
      " 1   score          10000 non-null  float64\n",
      " 2   city           10000 non-null  object \n",
      " 3   gender         10000 non-null  object \n",
      " 4   age            9974 non-null   float64\n",
      " 5   equity         10000 non-null  int64  \n",
      " 6   balance        7705 non-null   float64\n",
      " 7   products       10000 non-null  int64  \n",
      " 8   credit_card    10000 non-null  int64  \n",
      " 9   last_activity  10000 non-null  int64  \n",
      " 10  EST_SALARY     10000 non-null  float64\n",
      " 11  churn          10000 non-null  int64  \n",
      "dtypes: float64(4), int64(6), object(2)\n",
      "memory usage: 937.6+ KB\n"
     ]
    }
   ],
   "source": [
    "data.info()\n",
    "# obtaining general information about data types and their number in columns"
   ]
  },
  {
   "cell_type": "code",
   "execution_count": 4,
   "metadata": {},
   "outputs": [
    {
     "data": {
      "text/plain": [
       "Ярославль    5888\n",
       "Рыбинск      2695\n",
       "Ростов       1417\n",
       "Name: city, dtype: int64"
      ]
     },
     "execution_count": 4,
     "metadata": {},
     "output_type": "execute_result"
    }
   ],
   "source": [
    "data['city'].value_counts()\n",
    "# Determining the number of clients in each of the three cities"
   ]
  },
  {
   "cell_type": "code",
   "execution_count": 5,
   "metadata": {},
   "outputs": [
    {
     "data": {
      "text/plain": [
       "М    5005\n",
       "Ж    4995\n",
       "Name: gender, dtype: int64"
      ]
     },
     "execution_count": 5,
     "metadata": {},
     "output_type": "execute_result"
    }
   ],
   "source": [
    "data['gender'].value_counts()\n",
    "# gender distribution"
   ]
  },
  {
   "cell_type": "code",
   "execution_count": 6,
   "metadata": {},
   "outputs": [
    {
     "data": {
      "text/plain": [
       "count    9974.000000\n",
       "mean       42.734409\n",
       "std        12.179971\n",
       "min        18.000000\n",
       "25%        33.000000\n",
       "50%        40.000000\n",
       "75%        51.000000\n",
       "max        86.000000\n",
       "Name: age, dtype: float64"
      ]
     },
     "metadata": {},
     "output_type": "display_data"
    },
    {
     "data": {
      "image/png": "[encoded data removed]",
      "text/plain": [
       "<Figure size 432x288 with 1 Axes>"
      ]
     },
     "metadata": {
      "needs_background": "light"
     },
     "output_type": "display_data"
    }
   ],
   "source": [
    "display(data['age'].describe())\n",
    "data['age'].hist(bins=30);\n",
    "# age distribution"
   ]
  },
  {
   "cell_type": "code",
   "execution_count": 7,
   "metadata": {},
   "outputs": [
    {
     "data": {
      "text/plain": [
       "0    2592\n",
       "5    1918\n",
       "4    1850\n",
       "3    1543\n",
       "2    1052\n",
       "1     774\n",
       "6     161\n",
       "7      80\n",
       "8      17\n",
       "9      13\n",
       "Name: equity, dtype: int64"
      ]
     },
     "execution_count": 7,
     "metadata": {},
     "output_type": "execute_result"
    }
   ],
   "source": [
    "data['equity'].value_counts()\n",
    "# distribution of clients by number of ownership points"
   ]
  },
  {
   "cell_type": "code",
   "execution_count": 8,
   "metadata": {},
   "outputs": [
    {
     "data": {
      "text/plain": [
       "2    5126\n",
       "1    3341\n",
       "3    1039\n",
       "4     474\n",
       "5      19\n",
       "0       1\n",
       "Name: products, dtype: int64"
      ]
     },
     "execution_count": 8,
     "metadata": {},
     "output_type": "execute_result"
    }
   ],
   "source": [
    "data['products'].value_counts()\n",
    "# distribution of customers by number of bank products"
   ]
  },
  {
   "cell_type": "code",
   "execution_count": 9,
   "metadata": {
    "scrolled": false
   },
   "outputs": [
    {
     "data": {
      "text/plain": [
       "count    10000.000000\n",
       "mean       848.699400\n",
       "std         65.448519\n",
       "min        642.000000\n",
       "25%        802.000000\n",
       "50%        853.000000\n",
       "75%        900.000000\n",
       "max       1000.000000\n",
       "Name: score, dtype: float64"
      ]
     },
     "metadata": {},
     "output_type": "display_data"
    },
    {
     "data": {
      "image/png": "[encoded data removed]",
      "text/plain": [
       "<Figure size 432x288 with 1 Axes>"
      ]
     },
     "metadata": {
      "needs_background": "light"
     },
     "output_type": "display_data"
    }
   ],
   "source": [
    "display(data['score'].describe())\n",
    "data['score'].hist(bins=30);\n",
    "# distribution of clients by credit scoring"
   ]
  },
  {
   "cell_type": "code",
   "execution_count": 10,
   "metadata": {
    "scrolled": true
   },
   "outputs": [
    {
     "data": {
      "text/plain": [
       "1    6804\n",
       "0    3196\n",
       "Name: credit_card, dtype: int64"
      ]
     },
     "execution_count": 10,
     "metadata": {},
     "output_type": "execute_result"
    }
   ],
   "source": [
    "data['credit_card'].value_counts()\n",
    "# client credit cards"
   ]
  },
  {
   "cell_type": "code",
   "execution_count": 11,
   "metadata": {},
   "outputs": [
    {
     "data": {
      "text/plain": [
       "1    5235\n",
       "0    4765\n",
       "Name: last_activity, dtype: int64"
      ]
     },
     "execution_count": 11,
     "metadata": {},
     "output_type": "execute_result"
    }
   ],
   "source": [
    "data['last_activity'].value_counts()\n",
    "# whether the client is active at the time of uploading the database"
   ]
  },
  {
   "cell_type": "code",
   "execution_count": 12,
   "metadata": {},
   "outputs": [
    {
     "data": {
      "text/plain": [
       "0    8180\n",
       "1    1820\n",
       "Name: churn, dtype: int64"
      ]
     },
     "execution_count": 12,
     "metadata": {},
     "output_type": "execute_result"
    }
   ],
   "source": [
    "data['churn'].value_counts()\n",
    "# whether the client has left the bank"
   ]
  },
  {
   "cell_type": "markdown",
   "metadata": {},
   "source": [
    "<div style=\"border:solid green 2px; padding: 20px\">\n",
    "\n",
    "**Overview of general information:** \n",
    "- Interpretation of values in columns with 0 and 1 is standard: 1 - True, 0 - False.\n",
    "- There are 12 columns and 10000 rows in the table, but two columns have less filled values: the column with age (age) and balance (balance).   \n",
    "- In the score, age columns integers are written with float type.\n",
    "- The most clients are in Yaroslavl - 5888, second place is occupied by Rybinsk - 2695, and the least number of clients is in Rostov Velikiy - 1417. This distribution looks logical considering the population in these cities (Rostov is the least).\n",
    "- The number of men and women in the dataset is approximately the same: 5005 and 4995 respectively. \n",
    "- The bank's clients are people aged 18 to 86, which looks plausible. The largest number of customers is between the ages of 33 and 35, and there are just as many customers between the ages of 29 and 45. \n",
    "- There are most customers with an ownership score of 0, just as many customers with scores of 5 and 4, and the least number of customers with maximum scores.\n",
    "- Most clients have 1 or 2 banking products.\n",
    "- The minimum credit scoring score is 642, the maximum is 1000, and the median value is 853. Most clients with scores between 800 and 950.\n",
    "- 6,804 clients have a credit card and 3,196 clients present in the dataset do not have a credit card.\n",
    "- Active clients at the time of unloading the dataset are slightly more than half - 5235, not active 4765.\n",
    "- Clients who terminated the contract with the bank 1820 out of 10000, which is 18.2% of the total number of clients."
   ]
  },
  {
   "cell_type": "markdown",
   "metadata": {},
   "source": [
    "## Data preprocessing"
   ]
  },
  {
   "cell_type": "markdown",
   "metadata": {},
   "source": [
    "### Column renaming, type conversion, skip counting"
   ]
  },
  {
   "cell_type": "code",
   "execution_count": 13,
   "metadata": {},
   "outputs": [],
   "source": [
    "data.columns = data.columns.str.lower() # lowercase column names\n",
    "data = data.rename(columns={'userid' : 'user_id'}) # renaming a column for better readability"
   ]
  },
  {
   "cell_type": "code",
   "execution_count": 14,
   "metadata": {},
   "outputs": [
    {
     "data": {
      "text/plain": [
       "user_id             0\n",
       "score               0\n",
       "city                0\n",
       "gender              0\n",
       "age                26\n",
       "equity              0\n",
       "balance          2295\n",
       "products            0\n",
       "credit_card         0\n",
       "last_activity       0\n",
       "est_salary          0\n",
       "churn               0\n",
       "dtype: int64"
      ]
     },
     "execution_count": 14,
     "metadata": {},
     "output_type": "execute_result"
    }
   ],
   "source": [
    "data.isna().sum() # determining the number of missing values in each column"
   ]
  },
  {
   "cell_type": "code",
   "execution_count": 15,
   "metadata": {
    "scrolled": true
   },
   "outputs": [
    {
     "data": {
      "text/html": [
       "<style  type=\"text/css\" >\n",
       "#T_b8588_row0_col0{\n",
       "            background-color:  #b40426;\n",
       "            color:  #f1f1f1;\n",
       "        }#T_b8588_row1_col0{\n",
       "            background-color:  #3e51c5;\n",
       "            color:  #f1f1f1;\n",
       "        }#T_b8588_row2_col0,#T_b8588_row3_col0,#T_b8588_row4_col0,#T_b8588_row5_col0,#T_b8588_row6_col0,#T_b8588_row7_col0,#T_b8588_row8_col0,#T_b8588_row9_col0,#T_b8588_row10_col0,#T_b8588_row11_col0{\n",
       "            background-color:  #3b4cc0;\n",
       "            color:  #f1f1f1;\n",
       "        }</style><table id=\"T_b8588_\" ><thead>    <tr>        <th class=\"blank level0\" ></th>        <th class=\"col_heading level0 col0\" >0</th>    </tr></thead><tbody>\n",
       "                <tr>\n",
       "                        <th id=\"T_b8588_level0_row0\" class=\"row_heading level0 row0\" >balance</th>\n",
       "                        <td id=\"T_b8588_row0_col0\" class=\"data row0 col0\" >23.000000</td>\n",
       "            </tr>\n",
       "            <tr>\n",
       "                        <th id=\"T_b8588_level0_row1\" class=\"row_heading level0 row1\" >age</th>\n",
       "                        <td id=\"T_b8588_row1_col0\" class=\"data row1 col0\" >0.300000</td>\n",
       "            </tr>\n",
       "            <tr>\n",
       "                        <th id=\"T_b8588_level0_row2\" class=\"row_heading level0 row2\" >user_id</th>\n",
       "                        <td id=\"T_b8588_row2_col0\" class=\"data row2 col0\" >0.000000</td>\n",
       "            </tr>\n",
       "            <tr>\n",
       "                        <th id=\"T_b8588_level0_row3\" class=\"row_heading level0 row3\" >score</th>\n",
       "                        <td id=\"T_b8588_row3_col0\" class=\"data row3 col0\" >0.000000</td>\n",
       "            </tr>\n",
       "            <tr>\n",
       "                        <th id=\"T_b8588_level0_row4\" class=\"row_heading level0 row4\" >city</th>\n",
       "                        <td id=\"T_b8588_row4_col0\" class=\"data row4 col0\" >0.000000</td>\n",
       "            </tr>\n",
       "            <tr>\n",
       "                        <th id=\"T_b8588_level0_row5\" class=\"row_heading level0 row5\" >gender</th>\n",
       "                        <td id=\"T_b8588_row5_col0\" class=\"data row5 col0\" >0.000000</td>\n",
       "            </tr>\n",
       "            <tr>\n",
       "                        <th id=\"T_b8588_level0_row6\" class=\"row_heading level0 row6\" >equity</th>\n",
       "                        <td id=\"T_b8588_row6_col0\" class=\"data row6 col0\" >0.000000</td>\n",
       "            </tr>\n",
       "            <tr>\n",
       "                        <th id=\"T_b8588_level0_row7\" class=\"row_heading level0 row7\" >products</th>\n",
       "                        <td id=\"T_b8588_row7_col0\" class=\"data row7 col0\" >0.000000</td>\n",
       "            </tr>\n",
       "            <tr>\n",
       "                        <th id=\"T_b8588_level0_row8\" class=\"row_heading level0 row8\" >credit_card</th>\n",
       "                        <td id=\"T_b8588_row8_col0\" class=\"data row8 col0\" >0.000000</td>\n",
       "            </tr>\n",
       "            <tr>\n",
       "                        <th id=\"T_b8588_level0_row9\" class=\"row_heading level0 row9\" >last_activity</th>\n",
       "                        <td id=\"T_b8588_row9_col0\" class=\"data row9 col0\" >0.000000</td>\n",
       "            </tr>\n",
       "            <tr>\n",
       "                        <th id=\"T_b8588_level0_row10\" class=\"row_heading level0 row10\" >est_salary</th>\n",
       "                        <td id=\"T_b8588_row10_col0\" class=\"data row10 col0\" >0.000000</td>\n",
       "            </tr>\n",
       "            <tr>\n",
       "                        <th id=\"T_b8588_level0_row11\" class=\"row_heading level0 row11\" >churn</th>\n",
       "                        <td id=\"T_b8588_row11_col0\" class=\"data row11 col0\" >0.000000</td>\n",
       "            </tr>\n",
       "    </tbody></table>"
      ],
      "text/plain": [
       "<pandas.io.formats.style.Styler at 0x7fcfa4904a00>"
      ]
     },
     "execution_count": 15,
     "metadata": {},
     "output_type": "execute_result"
    }
   ],
   "source": [
    "pd.DataFrame(round(data.isna().mean().sort_values(ascending=False)*100,1)).style.background_gradient('coolwarm')\n",
    "# Determining the proportion of omissions in each column"
   ]
  },
  {
   "cell_type": "markdown",
   "metadata": {},
   "source": [
    "<div style=\"border:solid green 2px; padding: 20px\">\n",
    "There are 26 gaps in the column with age, which is 0.26% of the total number of rows. Without specifying the age, it will be problematic to define client portraits, so these rows can be deleted. Let's take a closer look at the omissions in the balance column."
   ]
  },
  {
   "cell_type": "code",
   "execution_count": 16,
   "metadata": {},
   "outputs": [
    {
     "data": {
      "text/plain": [
       "9974"
      ]
     },
     "execution_count": 16,
     "metadata": {},
     "output_type": "execute_result"
    }
   ],
   "source": [
    "data = data.query('age.isna() == False') # removing rows with skips in the \"age\" column from the dataframe\n",
    "data = data.reset_index(drop=True) # creating new indexes and deleting old ones\n",
    "data.shape[0]"
   ]
  },
  {
   "cell_type": "code",
   "execution_count": 17,
   "metadata": {},
   "outputs": [
    {
     "name": "stdout",
     "output_type": "stream",
     "text": [
      "<class 'pandas.core.frame.DataFrame'>\n",
      "RangeIndex: 9974 entries, 0 to 9973\n",
      "Data columns (total 12 columns):\n",
      " #   Column         Non-Null Count  Dtype  \n",
      "---  ------         --------------  -----  \n",
      " 0   user_id        9974 non-null   int64  \n",
      " 1   score          9974 non-null   int64  \n",
      " 2   city           9974 non-null   object \n",
      " 3   gender         9974 non-null   object \n",
      " 4   age            9974 non-null   int64  \n",
      " 5   equity         9974 non-null   int64  \n",
      " 6   balance        7695 non-null   float64\n",
      " 7   products       9974 non-null   int64  \n",
      " 8   credit_card    9974 non-null   int64  \n",
      " 9   last_activity  9974 non-null   int64  \n",
      " 10  est_salary     9974 non-null   float64\n",
      " 11  churn          9974 non-null   int64  \n",
      "dtypes: float64(2), int64(8), object(2)\n",
      "memory usage: 935.2+ KB\n"
     ]
    }
   ],
   "source": [
    "data['score'] = data['score'].astype(int) \n",
    "data['age'] = data['age'].astype(int) \n",
    "# changing the data type in the score and age columns to an integer\n",
    "data.info()"
   ]
  },
  {
   "cell_type": "markdown",
   "metadata": {},
   "source": [
    "### Working with missing values"
   ]
  },
  {
   "cell_type": "code",
   "execution_count": 18,
   "metadata": {},
   "outputs": [
    {
     "data": {
      "text/html": [
       "<div>\n",
       "<style scoped>\n",
       "    .dataframe tbody tr th:only-of-type {\n",
       "        vertical-align: middle;\n",
       "    }\n",
       "\n",
       "    .dataframe tbody tr th {\n",
       "        vertical-align: top;\n",
       "    }\n",
       "\n",
       "    .dataframe thead th {\n",
       "        text-align: right;\n",
       "    }\n",
       "</style>\n",
       "<table border=\"1\" class=\"dataframe\">\n",
       "  <thead>\n",
       "    <tr style=\"text-align: right;\">\n",
       "      <th></th>\n",
       "      <th>user_id</th>\n",
       "      <th>score</th>\n",
       "      <th>city</th>\n",
       "      <th>gender</th>\n",
       "      <th>age</th>\n",
       "      <th>equity</th>\n",
       "      <th>balance</th>\n",
       "      <th>products</th>\n",
       "      <th>credit_card</th>\n",
       "      <th>last_activity</th>\n",
       "      <th>est_salary</th>\n",
       "      <th>churn</th>\n",
       "    </tr>\n",
       "  </thead>\n",
       "  <tbody>\n",
       "    <tr>\n",
       "      <th>2</th>\n",
       "      <td>120722</td>\n",
       "      <td>892</td>\n",
       "      <td>Рыбинск</td>\n",
       "      <td>Ж</td>\n",
       "      <td>30</td>\n",
       "      <td>0</td>\n",
       "      <td>NaN</td>\n",
       "      <td>1</td>\n",
       "      <td>1</td>\n",
       "      <td>1</td>\n",
       "      <td>107683.34</td>\n",
       "      <td>0</td>\n",
       "    </tr>\n",
       "    <tr>\n",
       "      <th>9</th>\n",
       "      <td>133130</td>\n",
       "      <td>906</td>\n",
       "      <td>Ярославль</td>\n",
       "      <td>Ж</td>\n",
       "      <td>67</td>\n",
       "      <td>0</td>\n",
       "      <td>NaN</td>\n",
       "      <td>1</td>\n",
       "      <td>0</td>\n",
       "      <td>1</td>\n",
       "      <td>238055.53</td>\n",
       "      <td>0</td>\n",
       "    </tr>\n",
       "    <tr>\n",
       "      <th>10</th>\n",
       "      <td>148929</td>\n",
       "      <td>927</td>\n",
       "      <td>Ростов</td>\n",
       "      <td>М</td>\n",
       "      <td>52</td>\n",
       "      <td>0</td>\n",
       "      <td>NaN</td>\n",
       "      <td>1</td>\n",
       "      <td>1</td>\n",
       "      <td>1</td>\n",
       "      <td>196820.07</td>\n",
       "      <td>0</td>\n",
       "    </tr>\n",
       "    <tr>\n",
       "      <th>11</th>\n",
       "      <td>172184</td>\n",
       "      <td>921</td>\n",
       "      <td>Ростов</td>\n",
       "      <td>М</td>\n",
       "      <td>41</td>\n",
       "      <td>0</td>\n",
       "      <td>NaN</td>\n",
       "      <td>1</td>\n",
       "      <td>1</td>\n",
       "      <td>1</td>\n",
       "      <td>217469.48</td>\n",
       "      <td>0</td>\n",
       "    </tr>\n",
       "    <tr>\n",
       "      <th>19</th>\n",
       "      <td>127034</td>\n",
       "      <td>922</td>\n",
       "      <td>Рыбинск</td>\n",
       "      <td>Ж</td>\n",
       "      <td>53</td>\n",
       "      <td>0</td>\n",
       "      <td>NaN</td>\n",
       "      <td>1</td>\n",
       "      <td>0</td>\n",
       "      <td>0</td>\n",
       "      <td>147094.82</td>\n",
       "      <td>0</td>\n",
       "    </tr>\n",
       "    <tr>\n",
       "      <th>...</th>\n",
       "      <td>...</td>\n",
       "      <td>...</td>\n",
       "      <td>...</td>\n",
       "      <td>...</td>\n",
       "      <td>...</td>\n",
       "      <td>...</td>\n",
       "      <td>...</td>\n",
       "      <td>...</td>\n",
       "      <td>...</td>\n",
       "      <td>...</td>\n",
       "      <td>...</td>\n",
       "      <td>...</td>\n",
       "    </tr>\n",
       "    <tr>\n",
       "      <th>9950</th>\n",
       "      <td>208085</td>\n",
       "      <td>876</td>\n",
       "      <td>Ростов</td>\n",
       "      <td>М</td>\n",
       "      <td>38</td>\n",
       "      <td>0</td>\n",
       "      <td>NaN</td>\n",
       "      <td>1</td>\n",
       "      <td>0</td>\n",
       "      <td>0</td>\n",
       "      <td>171763.69</td>\n",
       "      <td>0</td>\n",
       "    </tr>\n",
       "    <tr>\n",
       "      <th>9958</th>\n",
       "      <td>125941</td>\n",
       "      <td>729</td>\n",
       "      <td>Ярославль</td>\n",
       "      <td>Ж</td>\n",
       "      <td>42</td>\n",
       "      <td>0</td>\n",
       "      <td>NaN</td>\n",
       "      <td>1</td>\n",
       "      <td>1</td>\n",
       "      <td>1</td>\n",
       "      <td>687538.70</td>\n",
       "      <td>0</td>\n",
       "    </tr>\n",
       "    <tr>\n",
       "      <th>9967</th>\n",
       "      <td>219924</td>\n",
       "      <td>884</td>\n",
       "      <td>Рыбинск</td>\n",
       "      <td>Ж</td>\n",
       "      <td>36</td>\n",
       "      <td>0</td>\n",
       "      <td>NaN</td>\n",
       "      <td>1</td>\n",
       "      <td>1</td>\n",
       "      <td>1</td>\n",
       "      <td>169844.88</td>\n",
       "      <td>0</td>\n",
       "    </tr>\n",
       "    <tr>\n",
       "      <th>9970</th>\n",
       "      <td>139170</td>\n",
       "      <td>894</td>\n",
       "      <td>Ярославль</td>\n",
       "      <td>М</td>\n",
       "      <td>46</td>\n",
       "      <td>0</td>\n",
       "      <td>NaN</td>\n",
       "      <td>1</td>\n",
       "      <td>1</td>\n",
       "      <td>0</td>\n",
       "      <td>196898.29</td>\n",
       "      <td>0</td>\n",
       "    </tr>\n",
       "    <tr>\n",
       "      <th>9971</th>\n",
       "      <td>115639</td>\n",
       "      <td>903</td>\n",
       "      <td>Ярославль</td>\n",
       "      <td>М</td>\n",
       "      <td>24</td>\n",
       "      <td>0</td>\n",
       "      <td>NaN</td>\n",
       "      <td>2</td>\n",
       "      <td>1</td>\n",
       "      <td>1</td>\n",
       "      <td>108905.09</td>\n",
       "      <td>0</td>\n",
       "    </tr>\n",
       "  </tbody>\n",
       "</table>\n",
       "<p>2279 rows × 12 columns</p>\n",
       "</div>"
      ],
      "text/plain": [
       "      user_id  score       city gender  age  equity  balance  products  \\\n",
       "2      120722    892    Рыбинск      Ж   30       0      NaN         1   \n",
       "9      133130    906  Ярославль      Ж   67       0      NaN         1   \n",
       "10     148929    927     Ростов      М   52       0      NaN         1   \n",
       "11     172184    921     Ростов      М   41       0      NaN         1   \n",
       "19     127034    922    Рыбинск      Ж   53       0      NaN         1   \n",
       "...       ...    ...        ...    ...  ...     ...      ...       ...   \n",
       "9950   208085    876     Ростов      М   38       0      NaN         1   \n",
       "9958   125941    729  Ярославль      Ж   42       0      NaN         1   \n",
       "9967   219924    884    Рыбинск      Ж   36       0      NaN         1   \n",
       "9970   139170    894  Ярославль      М   46       0      NaN         1   \n",
       "9971   115639    903  Ярославль      М   24       0      NaN         2   \n",
       "\n",
       "      credit_card  last_activity  est_salary  churn  \n",
       "2               1              1   107683.34      0  \n",
       "9               0              1   238055.53      0  \n",
       "10              1              1   196820.07      0  \n",
       "11              1              1   217469.48      0  \n",
       "19              0              0   147094.82      0  \n",
       "...           ...            ...         ...    ...  \n",
       "9950            0              0   171763.69      0  \n",
       "9958            1              1   687538.70      0  \n",
       "9967            1              1   169844.88      0  \n",
       "9970            1              0   196898.29      0  \n",
       "9971            1              1   108905.09      0  \n",
       "\n",
       "[2279 rows x 12 columns]"
      ]
     },
     "execution_count": 18,
     "metadata": {},
     "output_type": "execute_result"
    }
   ],
   "source": [
    "nan_balance = data.query('balance.isna() == True')\n",
    "nan_balance"
   ]
  },
  {
   "cell_type": "code",
   "execution_count": 19,
   "metadata": {},
   "outputs": [
    {
     "data": {
      "text/plain": [
       "0    2266\n",
       "1      13\n",
       "Name: churn, dtype: int64"
      ]
     },
     "metadata": {},
     "output_type": "display_data"
    },
    {
     "data": {
      "text/plain": [
       "1    1251\n",
       "0    1028\n",
       "Name: last_activity, dtype: int64"
      ]
     },
     "metadata": {},
     "output_type": "display_data"
    },
    {
     "data": {
      "text/plain": [
       "1    1858\n",
       "0     421\n",
       "Name: credit_card, dtype: int64"
      ]
     },
     "metadata": {},
     "output_type": "display_data"
    },
    {
     "data": {
      "text/plain": [
       "1    1934\n",
       "2     315\n",
       "3      29\n",
       "0       1\n",
       "Name: products, dtype: int64"
      ]
     },
     "metadata": {},
     "output_type": "display_data"
    },
    {
     "data": {
      "text/plain": [
       "Ярославль    1458\n",
       "Рыбинск       586\n",
       "Ростов        235\n",
       "Name: city, dtype: int64"
      ]
     },
     "execution_count": 19,
     "metadata": {},
     "output_type": "execute_result"
    }
   ],
   "source": [
    "display(nan_balance['churn'].value_counts()) # determination of the share of departed among clients with balance gaps\n",
    "\n",
    "display(nan_balance['last_activity'].value_counts()) \n",
    "# determining the share of active among clients with balance gaps\n",
    "\n",
    "display(nan_balance['credit_card'].value_counts()) \n",
    "# determining the share of customers with credit cards among customers with skipped balances\n",
    "\n",
    "display(nan_balance['products'].value_counts()) \n",
    "# Determination of the number of bank products of customers with balance gaps\n",
    "\n",
    "nan_balance['city'].value_counts() # Determining the number of clients with skips in the balance in each city"
   ]
  },
  {
   "cell_type": "code",
   "execution_count": 20,
   "metadata": {},
   "outputs": [
    {
     "name": "stdout",
     "output_type": "stream",
     "text": [
      "Процент пропусков в balance от общего количества записей: 22.85\n",
      "Процент клиентов с пропуском balance от общего количества клиентов из г. Ярославль: 24.82\n",
      "Процент клиентов с пропуском balance от общего количества клиентов из г. Рыбинск: 21.84\n",
      "Процент клиентов с пропуском balance от общего количества клиентов из г. Ростов: 16.6\n"
     ]
    }
   ],
   "source": [
    "print('Percentage of missing values in balance of total number of records:', round((len(nan_balance)*100 / len(data)), 2))\n",
    "\n",
    "print('Percentage of clients with a balance missing values from the total number of clients from the city of Yaroslavl:',\\\n",
    "(nan_balance.query('city == \"Ярославль\"')['user_id'].count()*100 / data.query('city == \"Ярославль\"')['user_id']\\\n",
    " .count()).round(2))\n",
    "\n",
    "print('Percentage of clients with balance missing values from the total number of clients from Rybinsk city:',\\\n",
    "(nan_balance.query('city == \"Рыбинск\"')['user_id'].count()*100 / data.query('city == \"Рыбинск\"')['user_id']\\\n",
    " .count()).round(2))\n",
    "\n",
    "print('Percentage of clients with balance missing values from the total number of clients from Rostov city:',\\\n",
    "(nan_balance.query('city == \"Ростов\"')['user_id'].count()*100 / data.query('city == \"Ростов\"')['user_id']\\\n",
    " .count()).round(2))\n",
    "# determining the share of customers with missing values in the balance sheet by city"
   ]
  },
  {
   "cell_type": "markdown",
   "metadata": {},
   "source": [
    "<div style=\"border:solid green 2px; padding: 20px\">\n",
    "    The total number of omissions in the balance column is 2279, which is 22.85% of the total number of rows. At the same time, the vast majority of such clients are not current, and only 13 of them terminated their contract with the bank. Active clients are 1251, inactive - 1028 (the share of active clients is even higher than for the whole dataframe). Most of the clients with balance gaps are credit card holders - 1858. Also the vast majority of such clients have 1 product - 1934 people (most likely, many of them have a credit card).\n",
    "    \n",
    "    Most of the clients with a skip in the balance from Yaroslavl - 1458 (almost 64% of the number of lines with skips). In general, the distribution by cities is similar to the distribution of the original dataframe. The share of missing values by city is highest in Yaroslavl - 24.82%, lowest in Rostov - 16.6%.\n",
    "    \n",
    "    Since we do not know the date of dataset unloading and the period for which the data were provided, it is difficult to assume what caused such a large number of omissions and whether they appeared at once or at different times. One might assume that the appearance of a skip is somehow related to the issuance of a credit card, but 421 clients do not have a credit card, but do have a skip. Most likely, there was some technical problem with combining data on different customer accounts into this column. Deleting this much data would distort the overall picture, the other columns of these rows are informative, so it is better to leave these records."
   ]
  },
  {
   "cell_type": "markdown",
   "metadata": {},
   "source": [
    "### Работа с дубликатами"
   ]
  },
  {
   "cell_type": "code",
   "execution_count": 21,
   "metadata": {},
   "outputs": [
    {
     "data": {
      "text/plain": [
       "0"
      ]
     },
     "execution_count": 21,
     "metadata": {},
     "output_type": "execute_result"
    }
   ],
   "source": [
    "data.duplicated().sum() # поиск строк - полных дубликатов"
   ]
  },
  {
   "cell_type": "code",
   "execution_count": 22,
   "metadata": {},
   "outputs": [
    {
     "data": {
      "text/plain": [
       "120258    2\n",
       "217643    2\n",
       "199312    2\n",
       "170312    2\n",
       "200863    2\n",
       "188957    2\n",
       "141265    2\n",
       "181526    2\n",
       "208738    2\n",
       "217826    2\n",
       "210662    2\n",
       "171751    2\n",
       "129785    2\n",
       "220816    2\n",
       "211130    2\n",
       "210627    2\n",
       "210792    2\n",
       "155872    2\n",
       "217619    2\n",
       "143592    2\n",
       "226719    2\n",
       "185748    2\n",
       "175730    2\n",
       "126368    2\n",
       "152479    2\n",
       "197364    2\n",
       "183510    2\n",
       "163207    2\n",
       "117943    2\n",
       "208081    2\n",
       "208815    2\n",
       "227795    2\n",
       "149365    2\n",
       "116540    2\n",
       "155765    2\n",
       "190253    2\n",
       "150667    2\n",
       "123461    2\n",
       "172142    2\n",
       "164676    2\n",
       "195884    2\n",
       "160075    2\n",
       "168998    2\n",
       "140377    2\n",
       "217412    2\n",
       "162053    2\n",
       "131419    2\n",
       "191520    2\n",
       "124450    2\n",
       "148826    2\n",
       "Name: user_id, dtype: int64"
      ]
     },
     "execution_count": 22,
     "metadata": {},
     "output_type": "execute_result"
    }
   ],
   "source": [
    "data['user_id'].value_counts().head(50) # поиск неуникальных id"
   ]
  },
  {
   "cell_type": "code",
   "execution_count": 23,
   "metadata": {
    "scrolled": false
   },
   "outputs": [
    {
     "data": {
      "text/html": [
       "<div>\n",
       "<style scoped>\n",
       "    .dataframe tbody tr th:only-of-type {\n",
       "        vertical-align: middle;\n",
       "    }\n",
       "\n",
       "    .dataframe tbody tr th {\n",
       "        vertical-align: top;\n",
       "    }\n",
       "\n",
       "    .dataframe thead th {\n",
       "        text-align: right;\n",
       "    }\n",
       "</style>\n",
       "<table border=\"1\" class=\"dataframe\">\n",
       "  <thead>\n",
       "    <tr style=\"text-align: right;\">\n",
       "      <th></th>\n",
       "      <th>user_id</th>\n",
       "      <th>score</th>\n",
       "      <th>city</th>\n",
       "      <th>gender</th>\n",
       "      <th>age</th>\n",
       "      <th>equity</th>\n",
       "      <th>balance</th>\n",
       "      <th>products</th>\n",
       "      <th>credit_card</th>\n",
       "      <th>last_activity</th>\n",
       "      <th>est_salary</th>\n",
       "      <th>churn</th>\n",
       "    </tr>\n",
       "  </thead>\n",
       "  <tbody>\n",
       "    <tr>\n",
       "      <th>1892</th>\n",
       "      <td>116540</td>\n",
       "      <td>883</td>\n",
       "      <td>Рыбинск</td>\n",
       "      <td>Ж</td>\n",
       "      <td>55</td>\n",
       "      <td>1</td>\n",
       "      <td>362756.49</td>\n",
       "      <td>3</td>\n",
       "      <td>0</td>\n",
       "      <td>1</td>\n",
       "      <td>175920.48</td>\n",
       "      <td>1</td>\n",
       "    </tr>\n",
       "    <tr>\n",
       "      <th>7683</th>\n",
       "      <td>116540</td>\n",
       "      <td>887</td>\n",
       "      <td>Ярославль</td>\n",
       "      <td>Ж</td>\n",
       "      <td>38</td>\n",
       "      <td>0</td>\n",
       "      <td>NaN</td>\n",
       "      <td>1</td>\n",
       "      <td>0</td>\n",
       "      <td>1</td>\n",
       "      <td>119247.61</td>\n",
       "      <td>0</td>\n",
       "    </tr>\n",
       "    <tr>\n",
       "      <th>4862</th>\n",
       "      <td>117943</td>\n",
       "      <td>855</td>\n",
       "      <td>Рыбинск</td>\n",
       "      <td>Ж</td>\n",
       "      <td>32</td>\n",
       "      <td>6</td>\n",
       "      <td>1036832.93</td>\n",
       "      <td>4</td>\n",
       "      <td>1</td>\n",
       "      <td>1</td>\n",
       "      <td>107792.71</td>\n",
       "      <td>1</td>\n",
       "    </tr>\n",
       "    <tr>\n",
       "      <th>7531</th>\n",
       "      <td>117943</td>\n",
       "      <td>880</td>\n",
       "      <td>Ярославль</td>\n",
       "      <td>Ж</td>\n",
       "      <td>40</td>\n",
       "      <td>0</td>\n",
       "      <td>NaN</td>\n",
       "      <td>1</td>\n",
       "      <td>1</td>\n",
       "      <td>0</td>\n",
       "      <td>137718.93</td>\n",
       "      <td>0</td>\n",
       "    </tr>\n",
       "    <tr>\n",
       "      <th>5856</th>\n",
       "      <td>120258</td>\n",
       "      <td>908</td>\n",
       "      <td>Рыбинск</td>\n",
       "      <td>Ж</td>\n",
       "      <td>38</td>\n",
       "      <td>4</td>\n",
       "      <td>2213581.63</td>\n",
       "      <td>2</td>\n",
       "      <td>0</td>\n",
       "      <td>1</td>\n",
       "      <td>160327.77</td>\n",
       "      <td>1</td>\n",
       "    </tr>\n",
       "    <tr>\n",
       "      <th>...</th>\n",
       "      <td>...</td>\n",
       "      <td>...</td>\n",
       "      <td>...</td>\n",
       "      <td>...</td>\n",
       "      <td>...</td>\n",
       "      <td>...</td>\n",
       "      <td>...</td>\n",
       "      <td>...</td>\n",
       "      <td>...</td>\n",
       "      <td>...</td>\n",
       "      <td>...</td>\n",
       "      <td>...</td>\n",
       "    </tr>\n",
       "    <tr>\n",
       "      <th>2300</th>\n",
       "      <td>220816</td>\n",
       "      <td>934</td>\n",
       "      <td>Рыбинск</td>\n",
       "      <td>Ж</td>\n",
       "      <td>74</td>\n",
       "      <td>5</td>\n",
       "      <td>1294285.39</td>\n",
       "      <td>3</td>\n",
       "      <td>1</td>\n",
       "      <td>0</td>\n",
       "      <td>95606.80</td>\n",
       "      <td>0</td>\n",
       "    </tr>\n",
       "    <tr>\n",
       "      <th>2594</th>\n",
       "      <td>226719</td>\n",
       "      <td>990</td>\n",
       "      <td>Ярославль</td>\n",
       "      <td>М</td>\n",
       "      <td>37</td>\n",
       "      <td>4</td>\n",
       "      <td>14648692.14</td>\n",
       "      <td>2</td>\n",
       "      <td>0</td>\n",
       "      <td>0</td>\n",
       "      <td>934412.61</td>\n",
       "      <td>1</td>\n",
       "    </tr>\n",
       "    <tr>\n",
       "      <th>4212</th>\n",
       "      <td>226719</td>\n",
       "      <td>903</td>\n",
       "      <td>Рыбинск</td>\n",
       "      <td>Ж</td>\n",
       "      <td>63</td>\n",
       "      <td>0</td>\n",
       "      <td>NaN</td>\n",
       "      <td>1</td>\n",
       "      <td>1</td>\n",
       "      <td>0</td>\n",
       "      <td>138582.58</td>\n",
       "      <td>0</td>\n",
       "    </tr>\n",
       "    <tr>\n",
       "      <th>8192</th>\n",
       "      <td>227795</td>\n",
       "      <td>840</td>\n",
       "      <td>Рыбинск</td>\n",
       "      <td>М</td>\n",
       "      <td>34</td>\n",
       "      <td>2</td>\n",
       "      <td>350768.03</td>\n",
       "      <td>1</td>\n",
       "      <td>1</td>\n",
       "      <td>0</td>\n",
       "      <td>102036.14</td>\n",
       "      <td>1</td>\n",
       "    </tr>\n",
       "    <tr>\n",
       "      <th>8481</th>\n",
       "      <td>227795</td>\n",
       "      <td>839</td>\n",
       "      <td>Ярославль</td>\n",
       "      <td>М</td>\n",
       "      <td>34</td>\n",
       "      <td>2</td>\n",
       "      <td>326593.14</td>\n",
       "      <td>2</td>\n",
       "      <td>1</td>\n",
       "      <td>0</td>\n",
       "      <td>103314.92</td>\n",
       "      <td>0</td>\n",
       "    </tr>\n",
       "  </tbody>\n",
       "</table>\n",
       "<p>100 rows × 12 columns</p>\n",
       "</div>"
      ],
      "text/plain": [
       "      user_id  score       city gender  age  equity      balance  products  \\\n",
       "1892   116540    883    Рыбинск      Ж   55       1    362756.49         3   \n",
       "7683   116540    887  Ярославль      Ж   38       0          NaN         1   \n",
       "4862   117943    855    Рыбинск      Ж   32       6   1036832.93         4   \n",
       "7531   117943    880  Ярославль      Ж   40       0          NaN         1   \n",
       "5856   120258    908    Рыбинск      Ж   38       4   2213581.63         2   \n",
       "...       ...    ...        ...    ...  ...     ...          ...       ...   \n",
       "2300   220816    934    Рыбинск      Ж   74       5   1294285.39         3   \n",
       "2594   226719    990  Ярославль      М   37       4  14648692.14         2   \n",
       "4212   226719    903    Рыбинск      Ж   63       0          NaN         1   \n",
       "8192   227795    840    Рыбинск      М   34       2    350768.03         1   \n",
       "8481   227795    839  Ярославль      М   34       2    326593.14         2   \n",
       "\n",
       "      credit_card  last_activity  est_salary  churn  \n",
       "1892            0              1   175920.48      1  \n",
       "7683            0              1   119247.61      0  \n",
       "4862            1              1   107792.71      1  \n",
       "7531            1              0   137718.93      0  \n",
       "5856            0              1   160327.77      1  \n",
       "...           ...            ...         ...    ...  \n",
       "2300            1              0    95606.80      0  \n",
       "2594            0              0   934412.61      1  \n",
       "4212            1              0   138582.58      0  \n",
       "8192            1              0   102036.14      1  \n",
       "8481            1              0   103314.92      0  \n",
       "\n",
       "[100 rows x 12 columns]"
      ]
     },
     "execution_count": 23,
     "metadata": {},
     "output_type": "execute_result"
    }
   ],
   "source": [
    "#pd.set_option('display.max_rows', None)\n",
    "#pd.set_option('display.max_columns', None)\n",
    "#pd.set_option('display.max_colwidth', None) # вывод всей таблицы на экран\n",
    "\n",
    "data[data['user_id'].duplicated(keep=False)].sort_values(by='user_id')\n",
    "# вывод строк-дубликатов по id"
   ]
  },
  {
   "cell_type": "markdown",
   "metadata": {},
   "source": [
    "<div style=\"border:solid green 2px; padding: 20px\">\n",
    "    Полных дубликатов нет. В датасете 50 пар дубликатов по user_id. Внутри каждой пары город либо Ярославль, либо Рыбинск, и если один договор закрыт, то другой открыт. Можно предположить, что на каком-то этапе деятельности банка была автономная программа присвоения клиентам id в каждом городе, а при закрытии договора одним клиентом этот же уникальный номер мог быть присвоен другому клиенту, обратившемуся в банк. Остальные показатели в парах-дубликатах тоже разные, поэтому важны записи о всех клиентах. Сам id не столь важен при дальнейшем анализе, поэтому можно оставить их как есть без переименования."
   ]
  },
  {
   "cell_type": "markdown",
   "metadata": {},
   "source": [
    "### Обработка аномальных значений"
   ]
  },
  {
   "cell_type": "code",
   "execution_count": 24,
   "metadata": {
    "scrolled": true
   },
   "outputs": [
    {
     "data": {
      "text/plain": [
       "count    9.974000e+03\n",
       "mean     1.477868e+05\n",
       "std      1.392855e+05\n",
       "min      2.546300e+03\n",
       "25%      7.525166e+04\n",
       "50%      1.196268e+05\n",
       "75%      1.744998e+05\n",
       "max      1.395064e+06\n",
       "Name: est_salary, dtype: float64"
      ]
     },
     "metadata": {},
     "output_type": "display_data"
    },
    {
     "name": "stdout",
     "output_type": "stream",
     "text": [
      "95 и 99 перцентили столбца с зарплатой: [316360.5815 886322.5299]\n"
     ]
    },
    {
     "data": {
      "image/png": "[encoded data removed]",
      "text/plain": [
       "<Figure size 720x72 with 1 Axes>"
      ]
     },
     "metadata": {
      "needs_background": "light"
     },
     "output_type": "display_data"
    }
   ],
   "source": [
    "display(data['est_salary'].describe())\n",
    "print('95 и 99 перцентили столбца с зарплатой:', np.percentile(data['est_salary'],[95, 99]))\n",
    "\n",
    "plt.figure(figsize=(10,1))\n",
    "sns.boxplot(data=data, x='est_salary')\n",
    "plt.xlim(0, 700000)\n",
    "plt.title('Диаграмма размаха по размеру заработной платы клиентов', fontsize=12)\n",
    "plt.xlabel('Сумма', fontsize=10);\n",
    "# построение диаграммы размаха по суммам заработных плат клиентов"
   ]
  },
  {
   "cell_type": "markdown",
   "metadata": {},
   "source": [
    "<div style=\"border:solid green 2px; padding: 20px\">\n",
    "    Минимальное значение в столбце с зарплатой составляет 2546, что гораздо ниже МРОТ. Нам точно не известно, за какой период предоставлены данные, поэтому определить точное значение МРОТ на этап выгрузки нельзя. В 2020 г. МРОТ в Ярославской области составлял 12130 руб., в 2021 г. - 12792 руб., в 2022 г. - 13890 руб. Возьмем за пороговое значение минимальное МРОТ за три года - за 2020 г., и проверим, сколько клиентов банка имеют заработную плату ниже этого порога."
   ]
  },
  {
   "cell_type": "code",
   "execution_count": 25,
   "metadata": {
    "scrolled": false
   },
   "outputs": [
    {
     "data": {
      "text/html": [
       "<div>\n",
       "<style scoped>\n",
       "    .dataframe tbody tr th:only-of-type {\n",
       "        vertical-align: middle;\n",
       "    }\n",
       "\n",
       "    .dataframe tbody tr th {\n",
       "        vertical-align: top;\n",
       "    }\n",
       "\n",
       "    .dataframe thead th {\n",
       "        text-align: right;\n",
       "    }\n",
       "</style>\n",
       "<table border=\"1\" class=\"dataframe\">\n",
       "  <thead>\n",
       "    <tr style=\"text-align: right;\">\n",
       "      <th></th>\n",
       "      <th>user_id</th>\n",
       "      <th>score</th>\n",
       "      <th>city</th>\n",
       "      <th>gender</th>\n",
       "      <th>age</th>\n",
       "      <th>equity</th>\n",
       "      <th>balance</th>\n",
       "      <th>products</th>\n",
       "      <th>credit_card</th>\n",
       "      <th>last_activity</th>\n",
       "      <th>est_salary</th>\n",
       "      <th>churn</th>\n",
       "    </tr>\n",
       "  </thead>\n",
       "  <tbody>\n",
       "    <tr>\n",
       "      <th>443</th>\n",
       "      <td>207658</td>\n",
       "      <td>875</td>\n",
       "      <td>Ярославль</td>\n",
       "      <td>Ж</td>\n",
       "      <td>76</td>\n",
       "      <td>5</td>\n",
       "      <td>676450.87</td>\n",
       "      <td>3</td>\n",
       "      <td>0</td>\n",
       "      <td>1</td>\n",
       "      <td>11319.50</td>\n",
       "      <td>0</td>\n",
       "    </tr>\n",
       "    <tr>\n",
       "      <th>505</th>\n",
       "      <td>205035</td>\n",
       "      <td>725</td>\n",
       "      <td>Рыбинск</td>\n",
       "      <td>Ж</td>\n",
       "      <td>77</td>\n",
       "      <td>3</td>\n",
       "      <td>73.00</td>\n",
       "      <td>2</td>\n",
       "      <td>0</td>\n",
       "      <td>1</td>\n",
       "      <td>8729.84</td>\n",
       "      <td>0</td>\n",
       "    </tr>\n",
       "    <tr>\n",
       "      <th>1519</th>\n",
       "      <td>207521</td>\n",
       "      <td>819</td>\n",
       "      <td>Рыбинск</td>\n",
       "      <td>М</td>\n",
       "      <td>63</td>\n",
       "      <td>4</td>\n",
       "      <td>597930.59</td>\n",
       "      <td>2</td>\n",
       "      <td>0</td>\n",
       "      <td>1</td>\n",
       "      <td>10677.73</td>\n",
       "      <td>0</td>\n",
       "    </tr>\n",
       "    <tr>\n",
       "      <th>1699</th>\n",
       "      <td>155567</td>\n",
       "      <td>747</td>\n",
       "      <td>Ростов</td>\n",
       "      <td>М</td>\n",
       "      <td>25</td>\n",
       "      <td>0</td>\n",
       "      <td>5750.92</td>\n",
       "      <td>1</td>\n",
       "      <td>1</td>\n",
       "      <td>0</td>\n",
       "      <td>7054.82</td>\n",
       "      <td>0</td>\n",
       "    </tr>\n",
       "    <tr>\n",
       "      <th>1752</th>\n",
       "      <td>161271</td>\n",
       "      <td>836</td>\n",
       "      <td>Ярославль</td>\n",
       "      <td>Ж</td>\n",
       "      <td>19</td>\n",
       "      <td>4</td>\n",
       "      <td>7703.05</td>\n",
       "      <td>4</td>\n",
       "      <td>1</td>\n",
       "      <td>1</td>\n",
       "      <td>5043.14</td>\n",
       "      <td>0</td>\n",
       "    </tr>\n",
       "    <tr>\n",
       "      <th>1882</th>\n",
       "      <td>151268</td>\n",
       "      <td>852</td>\n",
       "      <td>Ростов</td>\n",
       "      <td>Ж</td>\n",
       "      <td>63</td>\n",
       "      <td>5</td>\n",
       "      <td>373070.37</td>\n",
       "      <td>1</td>\n",
       "      <td>1</td>\n",
       "      <td>1</td>\n",
       "      <td>8587.79</td>\n",
       "      <td>0</td>\n",
       "    </tr>\n",
       "    <tr>\n",
       "      <th>1987</th>\n",
       "      <td>160979</td>\n",
       "      <td>788</td>\n",
       "      <td>Рыбинск</td>\n",
       "      <td>М</td>\n",
       "      <td>24</td>\n",
       "      <td>4</td>\n",
       "      <td>118438.82</td>\n",
       "      <td>2</td>\n",
       "      <td>1</td>\n",
       "      <td>0</td>\n",
       "      <td>8401.97</td>\n",
       "      <td>0</td>\n",
       "    </tr>\n",
       "    <tr>\n",
       "      <th>2172</th>\n",
       "      <td>143340</td>\n",
       "      <td>830</td>\n",
       "      <td>Ярославль</td>\n",
       "      <td>Ж</td>\n",
       "      <td>72</td>\n",
       "      <td>2</td>\n",
       "      <td>294375.63</td>\n",
       "      <td>3</td>\n",
       "      <td>1</td>\n",
       "      <td>1</td>\n",
       "      <td>8032.18</td>\n",
       "      <td>0</td>\n",
       "    </tr>\n",
       "    <tr>\n",
       "      <th>2184</th>\n",
       "      <td>201407</td>\n",
       "      <td>938</td>\n",
       "      <td>Рыбинск</td>\n",
       "      <td>Ж</td>\n",
       "      <td>69</td>\n",
       "      <td>1</td>\n",
       "      <td>325483.52</td>\n",
       "      <td>3</td>\n",
       "      <td>0</td>\n",
       "      <td>1</td>\n",
       "      <td>3487.33</td>\n",
       "      <td>0</td>\n",
       "    </tr>\n",
       "    <tr>\n",
       "      <th>2660</th>\n",
       "      <td>140105</td>\n",
       "      <td>821</td>\n",
       "      <td>Ростов</td>\n",
       "      <td>Ж</td>\n",
       "      <td>75</td>\n",
       "      <td>7</td>\n",
       "      <td>631805.72</td>\n",
       "      <td>1</td>\n",
       "      <td>1</td>\n",
       "      <td>0</td>\n",
       "      <td>8894.57</td>\n",
       "      <td>0</td>\n",
       "    </tr>\n",
       "    <tr>\n",
       "      <th>2878</th>\n",
       "      <td>228570</td>\n",
       "      <td>836</td>\n",
       "      <td>Ростов</td>\n",
       "      <td>М</td>\n",
       "      <td>26</td>\n",
       "      <td>3</td>\n",
       "      <td>127386.19</td>\n",
       "      <td>2</td>\n",
       "      <td>1</td>\n",
       "      <td>0</td>\n",
       "      <td>10880.27</td>\n",
       "      <td>1</td>\n",
       "    </tr>\n",
       "    <tr>\n",
       "      <th>3487</th>\n",
       "      <td>216842</td>\n",
       "      <td>811</td>\n",
       "      <td>Рыбинск</td>\n",
       "      <td>Ж</td>\n",
       "      <td>25</td>\n",
       "      <td>3</td>\n",
       "      <td>112896.03</td>\n",
       "      <td>3</td>\n",
       "      <td>1</td>\n",
       "      <td>0</td>\n",
       "      <td>10685.64</td>\n",
       "      <td>0</td>\n",
       "    </tr>\n",
       "    <tr>\n",
       "      <th>3602</th>\n",
       "      <td>187819</td>\n",
       "      <td>839</td>\n",
       "      <td>Рыбинск</td>\n",
       "      <td>Ж</td>\n",
       "      <td>56</td>\n",
       "      <td>5</td>\n",
       "      <td>1027438.02</td>\n",
       "      <td>2</td>\n",
       "      <td>0</td>\n",
       "      <td>0</td>\n",
       "      <td>7571.80</td>\n",
       "      <td>0</td>\n",
       "    </tr>\n",
       "    <tr>\n",
       "      <th>3685</th>\n",
       "      <td>219561</td>\n",
       "      <td>817</td>\n",
       "      <td>Ростов</td>\n",
       "      <td>М</td>\n",
       "      <td>25</td>\n",
       "      <td>3</td>\n",
       "      <td>121065.39</td>\n",
       "      <td>4</td>\n",
       "      <td>1</td>\n",
       "      <td>1</td>\n",
       "      <td>7522.14</td>\n",
       "      <td>0</td>\n",
       "    </tr>\n",
       "    <tr>\n",
       "      <th>4342</th>\n",
       "      <td>221937</td>\n",
       "      <td>820</td>\n",
       "      <td>Рыбинск</td>\n",
       "      <td>Ж</td>\n",
       "      <td>73</td>\n",
       "      <td>1</td>\n",
       "      <td>172607.01</td>\n",
       "      <td>1</td>\n",
       "      <td>1</td>\n",
       "      <td>1</td>\n",
       "      <td>10889.61</td>\n",
       "      <td>0</td>\n",
       "    </tr>\n",
       "    <tr>\n",
       "      <th>4667</th>\n",
       "      <td>137654</td>\n",
       "      <td>836</td>\n",
       "      <td>Рыбинск</td>\n",
       "      <td>Ж</td>\n",
       "      <td>77</td>\n",
       "      <td>5</td>\n",
       "      <td>556009.74</td>\n",
       "      <td>2</td>\n",
       "      <td>1</td>\n",
       "      <td>1</td>\n",
       "      <td>12040.56</td>\n",
       "      <td>0</td>\n",
       "    </tr>\n",
       "    <tr>\n",
       "      <th>4795</th>\n",
       "      <td>193482</td>\n",
       "      <td>812</td>\n",
       "      <td>Рыбинск</td>\n",
       "      <td>Ж</td>\n",
       "      <td>25</td>\n",
       "      <td>2</td>\n",
       "      <td>105603.12</td>\n",
       "      <td>2</td>\n",
       "      <td>1</td>\n",
       "      <td>0</td>\n",
       "      <td>8849.89</td>\n",
       "      <td>0</td>\n",
       "    </tr>\n",
       "    <tr>\n",
       "      <th>4856</th>\n",
       "      <td>193417</td>\n",
       "      <td>823</td>\n",
       "      <td>Ростов</td>\n",
       "      <td>Ж</td>\n",
       "      <td>64</td>\n",
       "      <td>2</td>\n",
       "      <td>277249.69</td>\n",
       "      <td>2</td>\n",
       "      <td>0</td>\n",
       "      <td>0</td>\n",
       "      <td>5341.50</td>\n",
       "      <td>0</td>\n",
       "    </tr>\n",
       "    <tr>\n",
       "      <th>6037</th>\n",
       "      <td>176879</td>\n",
       "      <td>836</td>\n",
       "      <td>Ростов</td>\n",
       "      <td>Ж</td>\n",
       "      <td>66</td>\n",
       "      <td>3</td>\n",
       "      <td>226648.06</td>\n",
       "      <td>2</td>\n",
       "      <td>1</td>\n",
       "      <td>1</td>\n",
       "      <td>8707.54</td>\n",
       "      <td>0</td>\n",
       "    </tr>\n",
       "    <tr>\n",
       "      <th>6080</th>\n",
       "      <td>166086</td>\n",
       "      <td>788</td>\n",
       "      <td>Рыбинск</td>\n",
       "      <td>М</td>\n",
       "      <td>26</td>\n",
       "      <td>5</td>\n",
       "      <td>99885.68</td>\n",
       "      <td>1</td>\n",
       "      <td>0</td>\n",
       "      <td>1</td>\n",
       "      <td>9766.13</td>\n",
       "      <td>0</td>\n",
       "    </tr>\n",
       "    <tr>\n",
       "      <th>6629</th>\n",
       "      <td>200253</td>\n",
       "      <td>818</td>\n",
       "      <td>Рыбинск</td>\n",
       "      <td>Ж</td>\n",
       "      <td>72</td>\n",
       "      <td>2</td>\n",
       "      <td>436182.27</td>\n",
       "      <td>2</td>\n",
       "      <td>1</td>\n",
       "      <td>1</td>\n",
       "      <td>11359.65</td>\n",
       "      <td>0</td>\n",
       "    </tr>\n",
       "    <tr>\n",
       "      <th>6785</th>\n",
       "      <td>218787</td>\n",
       "      <td>764</td>\n",
       "      <td>Рыбинск</td>\n",
       "      <td>М</td>\n",
       "      <td>20</td>\n",
       "      <td>4</td>\n",
       "      <td>9040.68</td>\n",
       "      <td>2</td>\n",
       "      <td>1</td>\n",
       "      <td>1</td>\n",
       "      <td>10299.63</td>\n",
       "      <td>0</td>\n",
       "    </tr>\n",
       "    <tr>\n",
       "      <th>6831</th>\n",
       "      <td>171238</td>\n",
       "      <td>780</td>\n",
       "      <td>Ярославль</td>\n",
       "      <td>М</td>\n",
       "      <td>26</td>\n",
       "      <td>6</td>\n",
       "      <td>312577.98</td>\n",
       "      <td>3</td>\n",
       "      <td>1</td>\n",
       "      <td>0</td>\n",
       "      <td>10180.15</td>\n",
       "      <td>0</td>\n",
       "    </tr>\n",
       "    <tr>\n",
       "      <th>7341</th>\n",
       "      <td>180475</td>\n",
       "      <td>811</td>\n",
       "      <td>Ярославль</td>\n",
       "      <td>М</td>\n",
       "      <td>28</td>\n",
       "      <td>2</td>\n",
       "      <td>137191.95</td>\n",
       "      <td>2</td>\n",
       "      <td>1</td>\n",
       "      <td>0</td>\n",
       "      <td>11353.22</td>\n",
       "      <td>0</td>\n",
       "    </tr>\n",
       "    <tr>\n",
       "      <th>7410</th>\n",
       "      <td>180078</td>\n",
       "      <td>802</td>\n",
       "      <td>Рыбинск</td>\n",
       "      <td>Ж</td>\n",
       "      <td>21</td>\n",
       "      <td>0</td>\n",
       "      <td>10105.01</td>\n",
       "      <td>1</td>\n",
       "      <td>1</td>\n",
       "      <td>1</td>\n",
       "      <td>10915.12</td>\n",
       "      <td>0</td>\n",
       "    </tr>\n",
       "    <tr>\n",
       "      <th>7626</th>\n",
       "      <td>147622</td>\n",
       "      <td>850</td>\n",
       "      <td>Ростов</td>\n",
       "      <td>Ж</td>\n",
       "      <td>73</td>\n",
       "      <td>2</td>\n",
       "      <td>263390.68</td>\n",
       "      <td>3</td>\n",
       "      <td>0</td>\n",
       "      <td>1</td>\n",
       "      <td>9530.00</td>\n",
       "      <td>0</td>\n",
       "    </tr>\n",
       "    <tr>\n",
       "      <th>7693</th>\n",
       "      <td>197854</td>\n",
       "      <td>741</td>\n",
       "      <td>Ярославль</td>\n",
       "      <td>М</td>\n",
       "      <td>26</td>\n",
       "      <td>3</td>\n",
       "      <td>141680.68</td>\n",
       "      <td>2</td>\n",
       "      <td>1</td>\n",
       "      <td>0</td>\n",
       "      <td>10010.35</td>\n",
       "      <td>0</td>\n",
       "    </tr>\n",
       "    <tr>\n",
       "      <th>8153</th>\n",
       "      <td>179230</td>\n",
       "      <td>984</td>\n",
       "      <td>Рыбинск</td>\n",
       "      <td>Ж</td>\n",
       "      <td>67</td>\n",
       "      <td>4</td>\n",
       "      <td>702841.03</td>\n",
       "      <td>2</td>\n",
       "      <td>0</td>\n",
       "      <td>0</td>\n",
       "      <td>11462.92</td>\n",
       "      <td>0</td>\n",
       "    </tr>\n",
       "    <tr>\n",
       "      <th>8766</th>\n",
       "      <td>114221</td>\n",
       "      <td>948</td>\n",
       "      <td>Ярославль</td>\n",
       "      <td>Ж</td>\n",
       "      <td>26</td>\n",
       "      <td>1</td>\n",
       "      <td>77092.89</td>\n",
       "      <td>1</td>\n",
       "      <td>1</td>\n",
       "      <td>0</td>\n",
       "      <td>2546.30</td>\n",
       "      <td>0</td>\n",
       "    </tr>\n",
       "    <tr>\n",
       "      <th>9105</th>\n",
       "      <td>148483</td>\n",
       "      <td>811</td>\n",
       "      <td>Ярославль</td>\n",
       "      <td>Ж</td>\n",
       "      <td>75</td>\n",
       "      <td>5</td>\n",
       "      <td>542971.64</td>\n",
       "      <td>3</td>\n",
       "      <td>1</td>\n",
       "      <td>1</td>\n",
       "      <td>8226.26</td>\n",
       "      <td>0</td>\n",
       "    </tr>\n",
       "    <tr>\n",
       "      <th>9280</th>\n",
       "      <td>211611</td>\n",
       "      <td>826</td>\n",
       "      <td>Рыбинск</td>\n",
       "      <td>М</td>\n",
       "      <td>26</td>\n",
       "      <td>0</td>\n",
       "      <td>150934.62</td>\n",
       "      <td>1</td>\n",
       "      <td>1</td>\n",
       "      <td>0</td>\n",
       "      <td>9425.19</td>\n",
       "      <td>0</td>\n",
       "    </tr>\n",
       "    <tr>\n",
       "      <th>9299</th>\n",
       "      <td>213574</td>\n",
       "      <td>775</td>\n",
       "      <td>Ярославль</td>\n",
       "      <td>Ж</td>\n",
       "      <td>61</td>\n",
       "      <td>4</td>\n",
       "      <td>475636.05</td>\n",
       "      <td>2</td>\n",
       "      <td>1</td>\n",
       "      <td>1</td>\n",
       "      <td>11788.56</td>\n",
       "      <td>0</td>\n",
       "    </tr>\n",
       "    <tr>\n",
       "      <th>9345</th>\n",
       "      <td>171110</td>\n",
       "      <td>788</td>\n",
       "      <td>Рыбинск</td>\n",
       "      <td>Ж</td>\n",
       "      <td>76</td>\n",
       "      <td>2</td>\n",
       "      <td>223228.01</td>\n",
       "      <td>2</td>\n",
       "      <td>0</td>\n",
       "      <td>0</td>\n",
       "      <td>8260.33</td>\n",
       "      <td>0</td>\n",
       "    </tr>\n",
       "  </tbody>\n",
       "</table>\n",
       "</div>"
      ],
      "text/plain": [
       "      user_id  score       city gender  age  equity     balance  products  \\\n",
       "443    207658    875  Ярославль      Ж   76       5   676450.87         3   \n",
       "505    205035    725    Рыбинск      Ж   77       3       73.00         2   \n",
       "1519   207521    819    Рыбинск      М   63       4   597930.59         2   \n",
       "1699   155567    747     Ростов      М   25       0     5750.92         1   \n",
       "1752   161271    836  Ярославль      Ж   19       4     7703.05         4   \n",
       "1882   151268    852     Ростов      Ж   63       5   373070.37         1   \n",
       "1987   160979    788    Рыбинск      М   24       4   118438.82         2   \n",
       "2172   143340    830  Ярославль      Ж   72       2   294375.63         3   \n",
       "2184   201407    938    Рыбинск      Ж   69       1   325483.52         3   \n",
       "2660   140105    821     Ростов      Ж   75       7   631805.72         1   \n",
       "2878   228570    836     Ростов      М   26       3   127386.19         2   \n",
       "3487   216842    811    Рыбинск      Ж   25       3   112896.03         3   \n",
       "3602   187819    839    Рыбинск      Ж   56       5  1027438.02         2   \n",
       "3685   219561    817     Ростов      М   25       3   121065.39         4   \n",
       "4342   221937    820    Рыбинск      Ж   73       1   172607.01         1   \n",
       "4667   137654    836    Рыбинск      Ж   77       5   556009.74         2   \n",
       "4795   193482    812    Рыбинск      Ж   25       2   105603.12         2   \n",
       "4856   193417    823     Ростов      Ж   64       2   277249.69         2   \n",
       "6037   176879    836     Ростов      Ж   66       3   226648.06         2   \n",
       "6080   166086    788    Рыбинск      М   26       5    99885.68         1   \n",
       "6629   200253    818    Рыбинск      Ж   72       2   436182.27         2   \n",
       "6785   218787    764    Рыбинск      М   20       4     9040.68         2   \n",
       "6831   171238    780  Ярославль      М   26       6   312577.98         3   \n",
       "7341   180475    811  Ярославль      М   28       2   137191.95         2   \n",
       "7410   180078    802    Рыбинск      Ж   21       0    10105.01         1   \n",
       "7626   147622    850     Ростов      Ж   73       2   263390.68         3   \n",
       "7693   197854    741  Ярославль      М   26       3   141680.68         2   \n",
       "8153   179230    984    Рыбинск      Ж   67       4   702841.03         2   \n",
       "8766   114221    948  Ярославль      Ж   26       1    77092.89         1   \n",
       "9105   148483    811  Ярославль      Ж   75       5   542971.64         3   \n",
       "9280   211611    826    Рыбинск      М   26       0   150934.62         1   \n",
       "9299   213574    775  Ярославль      Ж   61       4   475636.05         2   \n",
       "9345   171110    788    Рыбинск      Ж   76       2   223228.01         2   \n",
       "\n",
       "      credit_card  last_activity  est_salary  churn  \n",
       "443             0              1    11319.50      0  \n",
       "505             0              1     8729.84      0  \n",
       "1519            0              1    10677.73      0  \n",
       "1699            1              0     7054.82      0  \n",
       "1752            1              1     5043.14      0  \n",
       "1882            1              1     8587.79      0  \n",
       "1987            1              0     8401.97      0  \n",
       "2172            1              1     8032.18      0  \n",
       "2184            0              1     3487.33      0  \n",
       "2660            1              0     8894.57      0  \n",
       "2878            1              0    10880.27      1  \n",
       "3487            1              0    10685.64      0  \n",
       "3602            0              0     7571.80      0  \n",
       "3685            1              1     7522.14      0  \n",
       "4342            1              1    10889.61      0  \n",
       "4667            1              1    12040.56      0  \n",
       "4795            1              0     8849.89      0  \n",
       "4856            0              0     5341.50      0  \n",
       "6037            1              1     8707.54      0  \n",
       "6080            0              1     9766.13      0  \n",
       "6629            1              1    11359.65      0  \n",
       "6785            1              1    10299.63      0  \n",
       "6831            1              0    10180.15      0  \n",
       "7341            1              0    11353.22      0  \n",
       "7410            1              1    10915.12      0  \n",
       "7626            0              1     9530.00      0  \n",
       "7693            1              0    10010.35      0  \n",
       "8153            0              0    11462.92      0  \n",
       "8766            1              0     2546.30      0  \n",
       "9105            1              1     8226.26      0  \n",
       "9280            1              0     9425.19      0  \n",
       "9299            1              1    11788.56      0  \n",
       "9345            0              0     8260.33      0  "
      ]
     },
     "execution_count": 25,
     "metadata": {},
     "output_type": "execute_result"
    }
   ],
   "source": [
    "low_salary = data.query('est_salary < 12130')\n",
    "low_salary"
   ]
  },
  {
   "cell_type": "code",
   "execution_count": 26,
   "metadata": {
    "scrolled": true
   },
   "outputs": [
    {
     "data": {
      "image/png": "[encoded data removed]",
      "text/plain": [
       "<Figure size 432x288 with 1 Axes>"
      ]
     },
     "metadata": {
      "needs_background": "light"
     },
     "output_type": "display_data"
    }
   ],
   "source": [
    "low_salary['age'].hist(bins=30);"
   ]
  },
  {
   "cell_type": "code",
   "execution_count": 27,
   "metadata": {},
   "outputs": [
    {
     "data": {
      "image/png": "[encoded data removed]",
      "text/plain": [
       "<Figure size 432x288 with 1 Axes>"
      ]
     },
     "metadata": {
      "needs_background": "light"
     },
     "output_type": "display_data"
    }
   ],
   "source": [
    "low_salary['balance'].hist(bins=30);"
   ]
  },
  {
   "cell_type": "code",
   "execution_count": 28,
   "metadata": {
    "scrolled": false
   },
   "outputs": [
    {
     "data": {
      "text/plain": [
       "Рыбинск      16\n",
       "Ярославль     9\n",
       "Ростов        8\n",
       "Name: city, dtype: int64"
      ]
     },
     "metadata": {},
     "output_type": "display_data"
    },
    {
     "data": {
      "text/plain": [
       "1    23\n",
       "0    10\n",
       "Name: credit_card, dtype: int64"
      ]
     },
     "metadata": {},
     "output_type": "display_data"
    },
    {
     "data": {
      "text/plain": [
       "0    32\n",
       "1     1\n",
       "Name: churn, dtype: int64"
      ]
     },
     "metadata": {},
     "output_type": "display_data"
    },
    {
     "data": {
      "text/plain": [
       "1    18\n",
       "0    15\n",
       "Name: last_activity, dtype: int64"
      ]
     },
     "execution_count": 28,
     "metadata": {},
     "output_type": "execute_result"
    }
   ],
   "source": [
    "display(low_salary['city'].value_counts())\n",
    "display(low_salary['credit_card'].value_counts())\n",
    "display(low_salary['churn'].value_counts())\n",
    "low_salary['last_activity'].value_counts()"
   ]
  },
  {
   "cell_type": "markdown",
   "metadata": {},
   "source": [
    "<div style=\"border:solid green 2px; padding: 20px\">\n",
    "    У 33 клиентов банка (0,33% от общего количества) зарплата меньше МРОТ. Однако стоит отметить, что иногда работники трудоустроены не на полную ставку, а на 0.5 ставки или даже меньше. Такое часто встречается в бюджетных учреждениях (в т.ч. образовательных) или на производствах. Так же в датафрейме нет данных о виде занятости клиентов. Возможно, человек не на постоянном месте работы, а получил сдельную оплату труда по срочному трудовому договору. В этих случаях сумма может быть любая. \n",
    "    \n",
    "    Большинство клиентов с заработной платой ниже МРОТ либо молодежь до 25 лет (возможно, студенты), либо люди пенсионного возраста от 60 лет. 10 человек в возрасте 26-27 лет так же имеют зарплату ниже МРОТ: большинство из них из маленьких городов Ростова и Рыбинска, где уровень заработных плат ниже, и, возможно, они трудоустроены не на полную ставку либо по срочному договору. Людей среднего возраста с зарплатами ниже МРОТ в датасете нет.\n",
    "    \n",
    "    Баланс большинства таких клиентов меньше 400 тысяч, у 23 из 33 клиентов оформлена кредитная карта, чуть больше половины из них являются активными, и все, за исключением одного клиента, не являются отточными. Таким образом, доля клиентов с зарплатой ниже МРОТ крайне мала, однако такие зарплаты вполне могут быть у молодежи и пенсионеров (неполная ставка или сдельная оплата), поэтому данные выглядят правдоподобными и удалять их не стоит."
   ]
  },
  {
   "cell_type": "code",
   "execution_count": 29,
   "metadata": {},
   "outputs": [
    {
     "data": {
      "text/plain": [
       "count    7.695000e+03\n",
       "mean     8.272456e+05\n",
       "std      1.980327e+06\n",
       "min      0.000000e+00\n",
       "25%      2.956987e+05\n",
       "50%      5.242953e+05\n",
       "75%      9.800512e+05\n",
       "max      1.191136e+08\n",
       "Name: balance, dtype: float64"
      ]
     },
     "metadata": {},
     "output_type": "display_data"
    },
    {
     "name": "stdout",
     "output_type": "stream",
     "text": [
      "95 и 99 перцентили столбца с балансом: [2114078.394 4827211.159]\n"
     ]
    },
    {
     "data": {
      "image/png": "[encoded data removed]",
      "text/plain": [
       "<Figure size 792x72 with 1 Axes>"
      ]
     },
     "metadata": {
      "needs_background": "light"
     },
     "output_type": "display_data"
    }
   ],
   "source": [
    "display(data['balance'].describe())\n",
    "print('95 и 99 перцентили столбца с балансом:', np.nanpercentile(data['balance'],[95, 99]))\n",
    "\n",
    "plt.figure(figsize=(11,1))\n",
    "sns.boxplot(data=data, x='balance')\n",
    "plt.xlim(0, 3500000)\n",
    "plt.title('Диаграмма размаха по размеру баланса клиентов', fontsize=12)\n",
    "plt.xlabel('Сумма', fontsize=10);\n",
    "# построение диаграммы размаха по размеру баланса клиентов"
   ]
  },
  {
   "cell_type": "code",
   "execution_count": 30,
   "metadata": {},
   "outputs": [
    {
     "data": {
      "text/plain": [
       "count    9974.000000\n",
       "mean      848.682575\n",
       "std        65.399720\n",
       "min       642.000000\n",
       "25%       802.000000\n",
       "50%       853.000000\n",
       "75%       900.000000\n",
       "max      1000.000000\n",
       "Name: score, dtype: float64"
      ]
     },
     "metadata": {},
     "output_type": "display_data"
    },
    {
     "data": {
      "image/png": "[encoded data removed]",
      "text/plain": [
       "<Figure size 792x72 with 1 Axes>"
      ]
     },
     "metadata": {
      "needs_background": "light"
     },
     "output_type": "display_data"
    }
   ],
   "source": [
    "display(data['score'].describe())\n",
    "plt.figure(figsize=(11,1))\n",
    "sns.boxplot(data=data, x='score')\n",
    "plt.title('Диаграмма размаха по кредитному скорингу клиентов', fontsize=12)\n",
    "plt.xlabel('Балл', fontsize=10);\n",
    "# построение диаграммы размаха по кредитному скорингу клиентов"
   ]
  },
  {
   "cell_type": "code",
   "execution_count": 31,
   "metadata": {
    "scrolled": true
   },
   "outputs": [
    {
     "data": {
      "text/plain": [
       "count    9974.000000\n",
       "mean       42.734409\n",
       "std        12.179971\n",
       "min        18.000000\n",
       "25%        33.000000\n",
       "50%        40.000000\n",
       "75%        51.000000\n",
       "max        86.000000\n",
       "Name: age, dtype: float64"
      ]
     },
     "metadata": {},
     "output_type": "display_data"
    },
    {
     "data": {
      "image/png": "[encoded data removed]",
      "text/plain": [
       "<Figure size 792x72 with 1 Axes>"
      ]
     },
     "metadata": {
      "needs_background": "light"
     },
     "output_type": "display_data"
    }
   ],
   "source": [
    "display(data['age'].describe())\n",
    "plt.figure(figsize=(11,1))\n",
    "sns.boxplot(data=data, x='age')\n",
    "plt.title('Диаграмма размаха по возрасту клиентов', fontsize=12)\n",
    "plt.xlabel('Возраст', fontsize=10);\n",
    "# построение диаграммы размаха по возрасту клиентов"
   ]
  },
  {
   "cell_type": "code",
   "execution_count": 32,
   "metadata": {
    "scrolled": true
   },
   "outputs": [
    {
     "data": {
      "text/html": [
       "<div>\n",
       "<style scoped>\n",
       "    .dataframe tbody tr th:only-of-type {\n",
       "        vertical-align: middle;\n",
       "    }\n",
       "\n",
       "    .dataframe tbody tr th {\n",
       "        vertical-align: top;\n",
       "    }\n",
       "\n",
       "    .dataframe thead th {\n",
       "        text-align: right;\n",
       "    }\n",
       "</style>\n",
       "<table border=\"1\" class=\"dataframe\">\n",
       "  <thead>\n",
       "    <tr style=\"text-align: right;\">\n",
       "      <th></th>\n",
       "      <th>user_id</th>\n",
       "      <th>score</th>\n",
       "      <th>city</th>\n",
       "      <th>gender</th>\n",
       "      <th>age</th>\n",
       "      <th>equity</th>\n",
       "      <th>balance</th>\n",
       "      <th>products</th>\n",
       "      <th>credit_card</th>\n",
       "      <th>last_activity</th>\n",
       "      <th>est_salary</th>\n",
       "      <th>churn</th>\n",
       "    </tr>\n",
       "  </thead>\n",
       "  <tbody>\n",
       "    <tr>\n",
       "      <th>8939</th>\n",
       "      <td>147837</td>\n",
       "      <td>962</td>\n",
       "      <td>Рыбинск</td>\n",
       "      <td>Ж</td>\n",
       "      <td>79</td>\n",
       "      <td>3</td>\n",
       "      <td>NaN</td>\n",
       "      <td>0</td>\n",
       "      <td>0</td>\n",
       "      <td>0</td>\n",
       "      <td>25063.96</td>\n",
       "      <td>1</td>\n",
       "    </tr>\n",
       "  </tbody>\n",
       "</table>\n",
       "</div>"
      ],
      "text/plain": [
       "      user_id  score     city gender  age  equity  balance  products  \\\n",
       "8939   147837    962  Рыбинск      Ж   79       3      NaN         0   \n",
       "\n",
       "      credit_card  last_activity  est_salary  churn  \n",
       "8939            0              0    25063.96      1  "
      ]
     },
     "execution_count": 32,
     "metadata": {},
     "output_type": "execute_result"
    }
   ],
   "source": [
    "data.query('products == 0') # проверка клиентов с нулевым количеством продуктов (чего быть не может)"
   ]
  },
  {
   "cell_type": "code",
   "execution_count": 33,
   "metadata": {},
   "outputs": [
    {
     "data": {
      "text/plain": [
       "9973"
      ]
     },
     "execution_count": 33,
     "metadata": {},
     "output_type": "execute_result"
    }
   ],
   "source": [
    "data = data.query('products != 0') # удаление клиента с нулевым количеством продуктов \n",
    "data = data.reset_index(drop=True)\n",
    "data.shape[0]"
   ]
  },
  {
   "cell_type": "markdown",
   "metadata": {},
   "source": [
    "<div style=\"border:solid green 2px; padding: 20px\">\n",
    "    Медианное значение заработной платы - 119 626, при этом минимальная зарплата составляет 25 463, а максимальная - 1 395 064. После значения в 320 тысяч очень много аномальных значений, но это могут быть заработные платы на руководящих должностях, поэтому удалять эти строки не стоит.\n",
    "    \n",
    "    В столбце с балансом медианное значение составляет 524 295, минимальное - 0, а максимальное более 119 113 600. Как и в случае с заработными платами, аномальных значений очень много (от 2 млн и выше), и это все могут быть реальные накопления определенного круга людей. Поэтому аномалии в данном столбце тоже не стоит удалять.\n",
    "    \n",
    "    Практически все баллы кредитного скоринга находятся в пределах 1 и 3 квартилей, есть несколько выбивающихся значений ниже 670 баллов. Это может быть связано с плохой кредитной историей некоторых клиентов, просрочкам по платежам и т.д. Медианное значение возраста составляет 40 лет, однако есть несколько клиентов старшего возраста - от 78 до 86 лет. Возможно, эти клиенты получают пенсию в данном банке или имеют вклад.\n",
    "    \n",
    "    Найдена одна строка с клиентом, у которого 0 продуктов банка. Поскольку такого быть не может, эту строку следует удалить.\n",
    "    \n",
    "**Таким образом, все аномальные значения вполне реальны для определенных категорий клиентов, и удалять такое количество строк нецелеесообразно.**"
   ]
  },
  {
   "cell_type": "markdown",
   "metadata": {},
   "source": [
    "## Исследовательский анализ данных"
   ]
  },
  {
   "cell_type": "markdown",
   "metadata": {},
   "source": [
    "### Определение значимых признаков отточности (интервалы значений характеристик, которые связаны с повышенным оттоком). "
   ]
  },
  {
   "cell_type": "code",
   "execution_count": 34,
   "metadata": {
    "scrolled": true
   },
   "outputs": [
    {
     "data": {
      "text/html": [
       "<div>\n",
       "<style scoped>\n",
       "    .dataframe tbody tr th:only-of-type {\n",
       "        vertical-align: middle;\n",
       "    }\n",
       "\n",
       "    .dataframe tbody tr th {\n",
       "        vertical-align: top;\n",
       "    }\n",
       "\n",
       "    .dataframe thead th {\n",
       "        text-align: right;\n",
       "    }\n",
       "</style>\n",
       "<table border=\"1\" class=\"dataframe\">\n",
       "  <thead>\n",
       "    <tr style=\"text-align: right;\">\n",
       "      <th></th>\n",
       "      <th>user_id</th>\n",
       "      <th>score</th>\n",
       "      <th>city</th>\n",
       "      <th>age</th>\n",
       "      <th>equity</th>\n",
       "      <th>balance</th>\n",
       "      <th>products</th>\n",
       "      <th>credit_card</th>\n",
       "      <th>last_activity</th>\n",
       "      <th>est_salary</th>\n",
       "      <th>churn</th>\n",
       "      <th>gender_Ж</th>\n",
       "      <th>gender_М</th>\n",
       "      <th>Ростов</th>\n",
       "      <th>Рыбинск</th>\n",
       "      <th>Ярославль</th>\n",
       "    </tr>\n",
       "  </thead>\n",
       "  <tbody>\n",
       "    <tr>\n",
       "      <th>0</th>\n",
       "      <td>183012</td>\n",
       "      <td>850</td>\n",
       "      <td>Рыбинск</td>\n",
       "      <td>25</td>\n",
       "      <td>1</td>\n",
       "      <td>59214.82</td>\n",
       "      <td>2</td>\n",
       "      <td>0</td>\n",
       "      <td>1</td>\n",
       "      <td>75719.14</td>\n",
       "      <td>1</td>\n",
       "      <td>1</td>\n",
       "      <td>0</td>\n",
       "      <td>0</td>\n",
       "      <td>1</td>\n",
       "      <td>0</td>\n",
       "    </tr>\n",
       "    <tr>\n",
       "      <th>1</th>\n",
       "      <td>146556</td>\n",
       "      <td>861</td>\n",
       "      <td>Рыбинск</td>\n",
       "      <td>37</td>\n",
       "      <td>5</td>\n",
       "      <td>850594.33</td>\n",
       "      <td>3</td>\n",
       "      <td>1</td>\n",
       "      <td>0</td>\n",
       "      <td>86621.77</td>\n",
       "      <td>0</td>\n",
       "      <td>1</td>\n",
       "      <td>0</td>\n",
       "      <td>0</td>\n",
       "      <td>1</td>\n",
       "      <td>0</td>\n",
       "    </tr>\n",
       "    <tr>\n",
       "      <th>2</th>\n",
       "      <td>120722</td>\n",
       "      <td>892</td>\n",
       "      <td>Рыбинск</td>\n",
       "      <td>30</td>\n",
       "      <td>0</td>\n",
       "      <td>NaN</td>\n",
       "      <td>1</td>\n",
       "      <td>1</td>\n",
       "      <td>1</td>\n",
       "      <td>107683.34</td>\n",
       "      <td>0</td>\n",
       "      <td>1</td>\n",
       "      <td>0</td>\n",
       "      <td>0</td>\n",
       "      <td>1</td>\n",
       "      <td>0</td>\n",
       "    </tr>\n",
       "    <tr>\n",
       "      <th>3</th>\n",
       "      <td>225363</td>\n",
       "      <td>866</td>\n",
       "      <td>Ярославль</td>\n",
       "      <td>51</td>\n",
       "      <td>5</td>\n",
       "      <td>1524746.26</td>\n",
       "      <td>2</td>\n",
       "      <td>0</td>\n",
       "      <td>1</td>\n",
       "      <td>174423.53</td>\n",
       "      <td>1</td>\n",
       "      <td>1</td>\n",
       "      <td>0</td>\n",
       "      <td>0</td>\n",
       "      <td>0</td>\n",
       "      <td>1</td>\n",
       "    </tr>\n",
       "    <tr>\n",
       "      <th>4</th>\n",
       "      <td>157978</td>\n",
       "      <td>730</td>\n",
       "      <td>Ярославль</td>\n",
       "      <td>34</td>\n",
       "      <td>5</td>\n",
       "      <td>174.00</td>\n",
       "      <td>1</td>\n",
       "      <td>1</td>\n",
       "      <td>0</td>\n",
       "      <td>67353.16</td>\n",
       "      <td>1</td>\n",
       "      <td>0</td>\n",
       "      <td>1</td>\n",
       "      <td>0</td>\n",
       "      <td>0</td>\n",
       "      <td>1</td>\n",
       "    </tr>\n",
       "  </tbody>\n",
       "</table>\n",
       "</div>"
      ],
      "text/plain": [
       "   user_id  score       city  age  equity     balance  products  credit_card  \\\n",
       "0   183012    850    Рыбинск   25       1    59214.82         2            0   \n",
       "1   146556    861    Рыбинск   37       5   850594.33         3            1   \n",
       "2   120722    892    Рыбинск   30       0         NaN         1            1   \n",
       "3   225363    866  Ярославль   51       5  1524746.26         2            0   \n",
       "4   157978    730  Ярославль   34       5      174.00         1            1   \n",
       "\n",
       "   last_activity  est_salary  churn  gender_Ж  gender_М  Ростов  Рыбинск  \\\n",
       "0              1    75719.14      1         1         0       0        1   \n",
       "1              0    86621.77      0         1         0       0        1   \n",
       "2              1   107683.34      0         1         0       0        1   \n",
       "3              1   174423.53      1         1         0       0        0   \n",
       "4              0    67353.16      1         0         1       0        0   \n",
       "\n",
       "   Ярославль  \n",
       "0          0  \n",
       "1          0  \n",
       "2          0  \n",
       "3          1  \n",
       "4          1  "
      ]
     },
     "execution_count": 34,
     "metadata": {},
     "output_type": "execute_result"
    }
   ],
   "source": [
    "data_copy = pd.get_dummies(data, columns=['gender'], drop_first=False) \n",
    "data_copy = data_copy.join(pd.get_dummies(data_copy.city))\n",
    "# приведение данных в столбцах с полом и городом к бинарному типу и запись этих данных в новый датасет\n",
    "data_copy.head()"
   ]
  },
  {
   "cell_type": "code",
   "execution_count": 35,
   "metadata": {
    "scrolled": false
   },
   "outputs": [
    {
     "name": "stdout",
     "output_type": "stream",
     "text": [
      "Средняя доля ушедших клиентов: 0.18\n"
     ]
    },
    {
     "data": {
      "text/html": [
       "<div>\n",
       "<style scoped>\n",
       "    .dataframe tbody tr th:only-of-type {\n",
       "        vertical-align: middle;\n",
       "    }\n",
       "\n",
       "    .dataframe tbody tr th {\n",
       "        vertical-align: top;\n",
       "    }\n",
       "\n",
       "    .dataframe thead th {\n",
       "        text-align: right;\n",
       "    }\n",
       "</style>\n",
       "<table border=\"1\" class=\"dataframe\">\n",
       "  <thead>\n",
       "    <tr style=\"text-align: right;\">\n",
       "      <th></th>\n",
       "      <th>user_id</th>\n",
       "      <th>score</th>\n",
       "      <th>age</th>\n",
       "      <th>equity</th>\n",
       "      <th>balance</th>\n",
       "      <th>products</th>\n",
       "      <th>credit_card</th>\n",
       "      <th>last_activity</th>\n",
       "      <th>est_salary</th>\n",
       "      <th>gender_Ж</th>\n",
       "      <th>gender_М</th>\n",
       "      <th>Ростов</th>\n",
       "      <th>Рыбинск</th>\n",
       "      <th>Ярославль</th>\n",
       "    </tr>\n",
       "    <tr>\n",
       "      <th>churn</th>\n",
       "      <th></th>\n",
       "      <th></th>\n",
       "      <th></th>\n",
       "      <th></th>\n",
       "      <th></th>\n",
       "      <th></th>\n",
       "      <th></th>\n",
       "      <th></th>\n",
       "      <th></th>\n",
       "      <th></th>\n",
       "      <th></th>\n",
       "      <th></th>\n",
       "      <th></th>\n",
       "      <th></th>\n",
       "    </tr>\n",
       "  </thead>\n",
       "  <tbody>\n",
       "    <tr>\n",
       "      <th>0</th>\n",
       "      <td>171928.110607</td>\n",
       "      <td>845.396199</td>\n",
       "      <td>43.020846</td>\n",
       "      <td>2.378296</td>\n",
       "      <td>7.330316e+05</td>\n",
       "      <td>1.758921</td>\n",
       "      <td>0.708890</td>\n",
       "      <td>0.482894</td>\n",
       "      <td>147674.637881</td>\n",
       "      <td>0.533047</td>\n",
       "      <td>0.466953</td>\n",
       "      <td>0.141140</td>\n",
       "      <td>0.275414</td>\n",
       "      <td>0.583446</td>\n",
       "    </tr>\n",
       "    <tr>\n",
       "      <th>1</th>\n",
       "      <td>170992.833883</td>\n",
       "      <td>863.361936</td>\n",
       "      <td>41.429593</td>\n",
       "      <td>3.763476</td>\n",
       "      <td>1.134458e+06</td>\n",
       "      <td>2.377338</td>\n",
       "      <td>0.551705</td>\n",
       "      <td>0.702420</td>\n",
       "      <td>148357.483157</td>\n",
       "      <td>0.349285</td>\n",
       "      <td>0.650715</td>\n",
       "      <td>0.145765</td>\n",
       "      <td>0.239824</td>\n",
       "      <td>0.614411</td>\n",
       "    </tr>\n",
       "  </tbody>\n",
       "</table>\n",
       "</div>"
      ],
      "text/plain": [
       "             user_id       score        age    equity       balance  products  \\\n",
       "churn                                                                           \n",
       "0      171928.110607  845.396199  43.020846  2.378296  7.330316e+05  1.758921   \n",
       "1      170992.833883  863.361936  41.429593  3.763476  1.134458e+06  2.377338   \n",
       "\n",
       "       credit_card  last_activity     est_salary  gender_Ж  gender_М  \\\n",
       "churn                                                                  \n",
       "0         0.708890       0.482894  147674.637881  0.533047  0.466953   \n",
       "1         0.551705       0.702420  148357.483157  0.349285  0.650715   \n",
       "\n",
       "         Ростов   Рыбинск  Ярославль  \n",
       "churn                                 \n",
       "0      0.141140  0.275414   0.583446  \n",
       "1      0.145765  0.239824   0.614411  "
      ]
     },
     "execution_count": 35,
     "metadata": {},
     "output_type": "execute_result"
    }
   ],
   "source": [
    "print('Средняя доля ушедших клиентов:', data['churn'].mean().round(2))\n",
    "data_copy.groupby('churn').agg('mean') # средние значения во всех столбцах, сгруппированных по оттоку"
   ]
  },
  {
   "cell_type": "markdown",
   "metadata": {},
   "source": [
    "<div style=\"border:solid green 2px; padding: 20px\">\n",
    "    В подгруппе отточных клиентов среднее значение кредитного скоринга чуть выше, чем в группе оставшихся, возраст примерно одинаков, количество баллов собственности больше у ушедших из банка - в среднем 3,76, а у оставшихся -2,38. Среднее значение столбца с балансом значительно выше в подгруппе ушедших клиентов (1 134 458 против 733 031 оставшихся), это вызвано, скорее всего, попаданием в эту подгруппу большого числа клиентов с аномально большими суммами на балансе. Среднее значение по количеству продуктов так же больше у отточных клиентов - 2,38, а у оставшихся 1,76. Кредитных карт примерно на 15% больше у оставшихся клиентов, а активных клиентов больше в группе отточных примерно на 22%. В отличие от баланса, средняя заработная плата примерно равна в обеих подгруппах. По городам небольшие различия между отточными и неотточными клиентами. Мужчин среди ушедших гораздо больше - около 65%.\n",
    "    \n",
    "    Таким образом, глядя на общие признаки, можно предположить, что среди отточных больше \"качественных\" клиентов с большими количеством продуктов, баллами собственности, балансом, большей долей активных клиентов. Рассмотрим данные более детально."
   ]
  },
  {
   "cell_type": "code",
   "execution_count": 68,
   "metadata": {
    "scrolled": false
   },
   "outputs": [
    {
     "data": {
      "image/png": "[encoded data removed]",
      "text/plain": [
       "<Figure size 1224x2088 with 10 Axes>"
      ]
     },
     "metadata": {
      "needs_background": "light"
     },
     "output_type": "display_data"
    }
   ],
   "source": [
    "fig, ax = plt.subplots(figsize = (17, 29))\n",
    "ax1 = plt.subplot(5, 2, 1)\n",
    "sns.histplot(\n",
    "    data=data,\n",
    "    x='balance',\n",
    "    hue='churn',\n",
    "    bins=2500,\n",
    "    stat='density',\n",
    "    common_norm='False',\n",
    "    ax=ax1,\n",
    "    #palette=\"coolwarm\",\n",
    "    kde=True\n",
    ");\n",
    "plt.xlim(0, 2500000)\n",
    "plt.xlabel('Сумма баланса')\n",
    "plt.ylabel('')\n",
    "plt.title('Нормализованная гистограмма плотности вероятности оттока по балансу', fontsize=9)\n",
    "plt.ticklabel_format(style='plain');\n",
    "\n",
    "ax2 = plt.subplot(5, 2, 2)\n",
    "sns.histplot(\n",
    "    data=data,\n",
    "    x='est_salary',\n",
    "    hue='churn',\n",
    "    stat='density',\n",
    "    common_norm='False',\n",
    "    ax=ax2,\n",
    "    #palette=\"Spectral\",\n",
    "    kde=True\n",
    ");\n",
    "#plt.xlim(0, 2500000)\n",
    "plt.xlabel('Сумма зарплаты')\n",
    "plt.ylabel('')\n",
    "plt.title('Нормализованная гистограмма плотности вероятности оттока по зарплате', fontsize=9)\n",
    "plt.ticklabel_format(style='plain');\n",
    "\n",
    "ax3 = plt.subplot(5, 2, 3)\n",
    "sns.histplot(\n",
    "    data=data,\n",
    "    x='score',\n",
    "    hue='churn',\n",
    "    stat='density',\n",
    "    common_norm='False',\n",
    "    ax=ax3,\n",
    "    #palette=\"viridis\",\n",
    "    kde=True\n",
    ");\n",
    "plt.xlabel('Баллы кредитного скоринга')\n",
    "plt.ylabel('')\n",
    "plt.title('Нормализованная гистограмма плотности вероятности оттока по скорингу', fontsize=9);\n",
    "\n",
    "ax4 = plt.subplot(5, 2, 4)\n",
    "sns.histplot(\n",
    "    data=data,\n",
    "    x='equity',\n",
    "    hue='churn',\n",
    "    stat='density',\n",
    "    common_norm='False',\n",
    "    ax=ax4,\n",
    "    #palette=\"icefire\",\n",
    "    kde=True\n",
    ");\n",
    "plt.xlabel('Баллы объектов собственности')\n",
    "plt.ylabel('')\n",
    "plt.title('Нормализованная гистограмма плотности вероятности оттока по собственности', fontsize=9);\n",
    "\n",
    "ax5 = plt.subplot(5, 2, 5)\n",
    "sns.histplot(\n",
    "    data=data,\n",
    "    x='age',\n",
    "    hue='churn',\n",
    "    stat='density',\n",
    "    common_norm='False',\n",
    "    ax=ax5,\n",
    "    #palette=\"viridis\",\n",
    "    kde=True\n",
    ");\n",
    "plt.xlabel('Возраст')\n",
    "plt.ylabel('')\n",
    "plt.title('Нормализованная гистограмма плотности вероятности оттока по возрасту', fontsize=9);\n",
    "\n",
    "ax6 = plt.subplot(5, 2, 6)\n",
    "sns.histplot(\n",
    "    data=data,\n",
    "    x='city',\n",
    "    hue='churn',\n",
    "    stat='density',\n",
    "    common_norm='False',\n",
    "    ax=ax6,\n",
    "    #palette=\"viridis\",\n",
    "    kde=True\n",
    ");\n",
    "plt.xlabel('Город')\n",
    "plt.ylabel('')\n",
    "plt.title('Нормализованная гистограмма плотности вероятности оттока по городу', fontsize=9);\n",
    "\n",
    "ax7 = plt.subplot(5, 2, 7)\n",
    "sns.histplot(\n",
    "    data=data,\n",
    "    x='gender',\n",
    "    hue='churn',\n",
    "    stat='density',\n",
    "    common_norm='False',\n",
    "    ax=ax7,\n",
    "    #palette=\"viridis\",\n",
    "    kde=True\n",
    ");\n",
    "plt.xlabel('Пол')\n",
    "plt.ylabel('')\n",
    "plt.title('Нормализованная гистограмма плотности вероятности оттока по полу', fontsize=9);\n",
    "\n",
    "ax8 = plt.subplot(5, 2, 8)\n",
    "sns.histplot(\n",
    "    data=data,\n",
    "    x='products',\n",
    "    hue='churn',\n",
    "    stat='density',\n",
    "    common_norm='False',\n",
    "    ax=ax8,\n",
    "    #palette=\"viridis\",\n",
    "    kde=True\n",
    ");\n",
    "plt.xlabel('Количество продуктов')\n",
    "plt.ylabel('')\n",
    "plt.title('Нормализованная гистограмма плотности вероятности оттока по кол-ву продуктов', fontsize=9);\n",
    "\n",
    "ax9 = plt.subplot(5, 2, 9)\n",
    "sns.histplot(\n",
    "    data=data,\n",
    "    x='credit_card',\n",
    "    hue='churn',\n",
    "    stat='density',\n",
    "    common_norm='False',\n",
    "    ax=ax9,\n",
    "    #palette=\"vlag\",\n",
    "    kde=True\n",
    ");\n",
    "plt.xlabel('Наличие кредитной карты')\n",
    "plt.ylabel('')\n",
    "plt.title('Нормализованная гистограмма плотности вероятности оттока по кредитной карте', fontsize=9);\n",
    "\n",
    "ax10 = plt.subplot(5, 2, 10)\n",
    "sns.histplot(\n",
    "    data=data,\n",
    "    x='last_activity',\n",
    "    hue='churn',\n",
    "    stat='density',\n",
    "    common_norm='False',\n",
    "    ax=ax10,\n",
    "    #palette=\"icefire\",\n",
    "    kde=True\n",
    ");\n",
    "plt.xlabel('Активный ли клиент')\n",
    "plt.ylabel('')\n",
    "plt.title('Нормализованная гистограмма плотности вероятности оттока по активности', fontsize=9);\n",
    "# построение гистограмм оттока по всем остальным параметрам по нормализованным данным"
   ]
  },
  {
   "cell_type": "markdown",
   "metadata": {},
   "source": [
    "<div style=\"border:solid green 2px; padding: 20px\">\n",
    "    Согласно построенным гистограммам, меньше всего склонны к уходу из банка клиенты с балансом до 750 тысяч. А чем больше баланс, тем больше отточных клиентов, особенно среди клиентов с балансом от 1 600 млн до 2,5 млн. Так же меньше всего склонны к уходу из банка клиенты с зарплатой до 200 тысяч, а среди клиентов с большей заработной платой вероятность ухода несколько выше.\n",
    "    \n",
    "    Несмотря на низкий кредитный рейтинг, такие клиенты не спешат расторгать договор с банком. Более всего склонны уходить из банка клиенты со скорингом 860-880 баллов. Меньше всего оттока среди клиентов с нулевым баллом собственности, а больше всего - среди клиентов с 4-6 баллами. \n",
    "    \n",
    "    Реже всего уходят из банка молодые клиенты до 25 лет и пожилые клиенты старше 60 лет. Чаще всего уходят из банка люди в возрасте 27-28 и 50-60 лет. Больше всего отточных клиентов среди жителей Ярославля. Мужчины гораздо чаще завершают обслуживание в банке, чем женщины. Чаще всего остаются в банке клиенты с 1-2 продуктами, а уходят чаще клиенты с 3-4 продуктами. Клиенты без кредитной карты и активные так же гораздо чаще уходят из банка, чем клиенты с кредиткой и неактивные."
   ]
  },
  {
   "cell_type": "markdown",
   "metadata": {},
   "source": [
    "### Исследование корреляций признаков методом Phik"
   ]
  },
  {
   "cell_type": "code",
   "execution_count": 37,
   "metadata": {
    "scrolled": false
   },
   "outputs": [
    {
     "name": "stdout",
     "output_type": "stream",
     "text": [
      "interval columns not set, guessing: ['score', 'age', 'equity', 'balance', 'products', 'credit_card', 'last_activity', 'est_salary', 'churn']\n"
     ]
    },
    {
     "data": {
      "image/png": "[encoded data removed]",
      "text/plain": [
       "<Figure size 720x576 with 2 Axes>"
      ]
     },
     "metadata": {
      "needs_background": "light"
     },
     "output_type": "display_data"
    }
   ],
   "source": [
    "phik_corr = data.drop(['user_id'], axis=1)\n",
    "phik_corr = phik_corr.phik_matrix() # применение метода Phik\n",
    "\n",
    "plot_correlation_matrix(phik_corr.values, \n",
    "                        x_labels=phik_corr.columns, \n",
    "                        y_labels=phik_corr.index, \n",
    "                        vmin=0, vmax=1, color_map=\"Blues\", \n",
    "                        title=r\"Корреляция Phik\", \n",
    "                        fontsize_factor=1.5, \n",
    "                        figsize=(10, 8))\n",
    "plt.tight_layout()\n",
    "# построение матрицы корреляций"
   ]
  },
  {
   "cell_type": "markdown",
   "metadata": {},
   "source": [
    "<div style=\"border:solid green 2px; padding: 20px\">\n",
    "    При рассмотрении всех параметров, самая большая корреляционная зависимость между количеством продуктов и баллами собственности - 0,58, кредитным скорингом и баллами собственности - 0,53, количеством продуктов и кредитным скорингом - 0,42, зарплатой и кредитным скорингом - 0,4, зарплатой и балансом - 0,37. \n",
    "    \n",
    "    Меньше всего линейная зависимость наблюдается между показателями баланса с несколькими параметрами: баллами собственности, количеством продуктов, кредитной картой, активности - 0; города и пола - 0,01, пола и активности - 0,01, баланса и возраста, баланса и оттока - по 0,02, оттока и города - 0,02, города и активности - 0,03, зарплаты с кредитной картой и активностью - по 0,04."
   ]
  },
  {
   "cell_type": "code",
   "execution_count": 38,
   "metadata": {},
   "outputs": [
    {
     "name": "stdout",
     "output_type": "stream",
     "text": [
      "interval columns not set, guessing: ['user_id', 'score', 'age', 'equity', 'balance', 'products', 'credit_card', 'last_activity', 'est_salary', 'churn']\n"
     ]
    },
    {
     "data": {
      "image/png": "[encoded data removed]",
      "text/plain": [
       "<Figure size 504x360 with 2 Axes>"
      ]
     },
     "metadata": {
      "needs_background": "light"
     },
     "output_type": "display_data"
    }
   ],
   "source": [
    "plt.figure(figsize = (7, 5))\n",
    "\n",
    "sns.heatmap(\n",
    "    data.phik_matrix().loc[:, ['churn']]\n",
    "    .drop(['churn', 'user_id'])\n",
    "    .sort_values('churn'), annot=True, fmt='.0%', cmap='Blues', linewidths=0.1, linecolor='white')\n",
    "plt.title('Корреляция оттока с другими признаками в %', fontsize=18)\n",
    "\n",
    "plt.show()\n",
    "# построение тепловой карты по корреляции оттока с другими признаками в процентах"
   ]
  },
  {
   "cell_type": "markdown",
   "metadata": {},
   "source": [
    "<div style=\"border:solid green 2px; padding: 20px\">\n",
    "    В целом корреляция оттока с другими параметрами не слишком высокая - максимальный показатель составляет 35%, в то время как зависимость других параметров между собой достигает 58%.\n",
    "    \n",
    "    Наибольшая корреляция наблюдается между оттоком и количеством баллов собственности - 35%, оттоком и двумя параметрами: активностью и количеством продуктов - 26%, оттоком и кредитным скорингом - 23%, оттоком и полом - 22%. Меньше всего корреляция между оттоком и полом и оттоком и балансом - по 2%, оттоком и зарплатой - 5%."
   ]
  },
  {
   "cell_type": "markdown",
   "metadata": {},
   "source": [
    "### Формирование и анализ портретов типичных клиентов, которые склонны и не склонны уходить из банка, на основании сравнения признаков"
   ]
  },
  {
   "cell_type": "code",
   "execution_count": 39,
   "metadata": {},
   "outputs": [
    {
     "data": {
      "image/png": "[encoded data removed]",
      "text/plain": [
       "<Figure size 1008x648 with 4 Axes>"
      ]
     },
     "metadata": {
      "needs_background": "light"
     },
     "output_type": "display_data"
    }
   ],
   "source": [
    "products = data.groupby('products')['user_id'].count().reset_index().sort_values(by='user_id', ascending=False)\n",
    "equity = data.groupby('equity')['user_id'].count().reset_index().sort_values(by='user_id', ascending=False)\n",
    "# создание таблиц для построения таблицы\n",
    "\n",
    "\n",
    "fig, ax = plt.subplots(figsize = (14, 9))\n",
    "ax1 = plt.subplot(2, 2, 1)\n",
    "sns.barplot(x='user_id', y='products', data=products, orient='h', order = products[\"products\"], ax=ax1)\n",
    "plt.title('Распределение клиентов по количеству продуктов')\n",
    "plt.xlabel('Кол-во клиентов')\n",
    "plt.ylabel('Кол-во продуктов банка');\n",
    "\n",
    "ax2 = plt.subplot(2, 2, 2)\n",
    "sns.barplot(x='user_id', y='equity', data=equity, orient='h', order = equity[\"equity\"], ax=ax2)\n",
    "plt.title('Распределение клиентов по баллам собственности')\n",
    "plt.xlabel('Кол-во клиентов')\n",
    "plt.ylabel('Кол-во баллов собственности');\n",
    "\n",
    "ax3 = plt.subplot(2, 2, 3)\n",
    "sns.barplot(x='count', y='credit_card', data=data.groupby('credit_card').agg(count=('user_id','count'))\n",
    "            .reset_index(), orient='h', ax=ax3)\n",
    "plt.title('Распределение клиентов по наличию или отсутствию кредитки')\n",
    "plt.xlabel('Кол-во клиентов')\n",
    "plt.ylabel('Есть ли кредитная карта');\n",
    "\n",
    "ax4 = plt.subplot(2, 2, 4)\n",
    "sns.barplot(x='count', y='last_activity', data=data.groupby('last_activity').agg(count=('user_id','count'))\n",
    "            .reset_index(), orient='h', ax=ax4)\n",
    "plt.title('Распределение клиентов по активности')\n",
    "plt.xlabel('Кол-во клиентов')\n",
    "plt.ylabel('Активен ли клиент');\n",
    "# построение столбчатых даиграмм для визуализации тенденций четырех параметров"
   ]
  },
  {
   "cell_type": "code",
   "execution_count": 40,
   "metadata": {},
   "outputs": [
    {
     "name": "stdout",
     "output_type": "stream",
     "text": [
      "Количество клиентов с низким кредитным рейтингом: 527\n",
      "Доля клиентов с низким кредитным рейтингом от общего количества в %: 5.28\n",
      "Из них отточных: 9\n",
      "Количество клиентов с низким кредитным рейтингом, имеющих кредитку: 504\n",
      "Количество клиентов с низким кредитным рейтингом, не имеющих кредитку: 23\n"
     ]
    }
   ],
   "source": [
    "print('Количество клиентов с низким кредитным рейтингом:', data.query('score < 740')['user_id'].count())\n",
    "print('Доля клиентов с низким кредитным рейтингом от общего количества в %:', \\\n",
    "round((data.query('score < 740')['user_id'].count() * 100 / len(data)), 2))\n",
    "print('Из них отточных:', data.query('score < 740 & churn ==1')['user_id'].count())\n",
    "print('Количество клиентов с низким кредитным рейтингом, имеющих кредитку:', \\\n",
    "data.query('score < 740 & credit_card ==1')['user_id'].count())\n",
    "print('Количество клиентов с низким кредитным рейтингом, не имеющих кредитку:', \\\n",
    "data.query('score < 740 & credit_card ==0')['user_id'].count())"
   ]
  },
  {
   "cell_type": "code",
   "execution_count": 41,
   "metadata": {},
   "outputs": [
    {
     "name": "stdout",
     "output_type": "stream",
     "text": [
      "Количество клиентов с высоким кредитным рейтингом: 3628\n",
      "Доля клиентов с высоким кредитным рейтингом от общего количества в %: 36.38\n",
      "Из них отточных: 705\n",
      "Доля отточных среди клиентов с высоким кредитным рейтингом в %: 19.43\n",
      "Количество клиентов с высоким кредитным рейтингом, имеющих кредитку: 2427\n",
      "Количество клиентов с высоким кредитным рейтингом, не имеющих кредитку: 1201\n",
      "Количество клиентов с кредитной картой, у которых нет других продуктов: 2870\n",
      "Процент клиентов от числа имеющих кредитку, у которых кредитка - единственный продукт: 42.31\n"
     ]
    }
   ],
   "source": [
    "print('Количество клиентов с высоким кредитным рейтингом:', data.query('score > 880')['user_id'].count())\n",
    "print('Доля клиентов с высоким кредитным рейтингом от общего количества в %:', \\\n",
    "round((data.query('score > 880')['user_id'].count() * 100 / len(data)), 2))\n",
    "print('Из них отточных:', data.query('score > 880 & churn ==1')['user_id'].count())\n",
    "print('Доля отточных среди клиентов с высоким кредитным рейтингом в %:', \\\n",
    "round((data.query('score > 880 & churn ==1')['user_id'].count() * 100 / data.query('score > 880')['user_id']\\\n",
    ".count()), 2))\n",
    "print('Количество клиентов с высоким кредитным рейтингом, имеющих кредитку:', \\\n",
    "data.query('score > 880 & credit_card ==1')['user_id'].count())\n",
    "print('Количество клиентов с высоким кредитным рейтингом, не имеющих кредитку:', \\\n",
    "data.query('score > 880 & credit_card ==0')['user_id'].count())\n",
    "print('Количество клиентов с кредитной картой, у которых нет других продуктов:', \\\n",
    "data.query('credit_card ==1 & products ==1')['user_id'].count())\n",
    "print('Процент клиентов от числа имеющих кредитку, у которых кредитка - единственный продукт:', \\\n",
    "round(data.query('credit_card ==1 & products ==1')['user_id'].count() *100 / data.query('credit_card ==1')\\\n",
    "['user_id'].count(), 2))"
   ]
  },
  {
   "cell_type": "code",
   "execution_count": 42,
   "metadata": {},
   "outputs": [
    {
     "name": "stdout",
     "output_type": "stream",
     "text": [
      "Количество клиентов с большим балансом: 427\n",
      "Доля клиентов с большим балансом от общего количества в %: 4.28\n",
      "Из них отточных: 210\n",
      "Доля отточных среди клиентов с большим балансом в %: 49.18\n",
      "Количество клиентов с большим балансом, имеющих кредитку: 195\n",
      "Количество клиентов с большим балансом, не имеющих кредитку: 232\n",
      "Количество активных клиентов с большим балансом: 225\n",
      "Количество клиентов с большим балансом, имеющих больше двух банковских продуктов: 154\n"
     ]
    }
   ],
   "source": [
    "print('Количество клиентов с большим балансом:', data.query('balance > 2000000')['user_id'].count())\n",
    "print('Доля клиентов с большим балансом от общего количества в %:', \\\n",
    "round((data.query('balance > 2000000')['user_id'].count() * 100 / len(data)), 2))\n",
    "print('Из них отточных:', data.query('balance > 2000000 & churn ==1')['user_id'].count())\n",
    "print('Доля отточных среди клиентов с большим балансом в %:', round((data.query('balance > 2000000 & churn ==1') \\\n",
    "['user_id'].count() * 100 / data.query('balance > 2000000')['user_id'].count()), 2))\n",
    "print('Количество клиентов с большим балансом, имеющих кредитку:', \\\n",
    "data.query('balance > 2000000 & credit_card ==1')['user_id'].count())\n",
    "print('Количество клиентов с большим балансом, не имеющих кредитку:', \\\n",
    "data.query('balance > 2000000 & credit_card ==0')['user_id'].count())\n",
    "print('Количество активных клиентов с большим балансом:', \\\n",
    "data.query('balance > 2000000 & last_activity ==1')['user_id'].count())\n",
    "print('Количество клиентов с большим балансом, имеющих больше двух банковских продуктов:', \\\n",
    "data.query('balance > 2000000 & products > 2')['user_id'].count())"
   ]
  },
  {
   "cell_type": "code",
   "execution_count": 43,
   "metadata": {
    "scrolled": false
   },
   "outputs": [
    {
     "data": {
      "text/html": [
       "<div>\n",
       "<style scoped>\n",
       "    .dataframe tbody tr th:only-of-type {\n",
       "        vertical-align: middle;\n",
       "    }\n",
       "\n",
       "    .dataframe tbody tr th {\n",
       "        vertical-align: top;\n",
       "    }\n",
       "\n",
       "    .dataframe thead th {\n",
       "        text-align: right;\n",
       "    }\n",
       "</style>\n",
       "<table border=\"1\" class=\"dataframe\">\n",
       "  <thead>\n",
       "    <tr style=\"text-align: right;\">\n",
       "      <th></th>\n",
       "      <th>user_id</th>\n",
       "      <th>score</th>\n",
       "      <th>city</th>\n",
       "      <th>gender</th>\n",
       "      <th>age</th>\n",
       "      <th>equity</th>\n",
       "      <th>balance</th>\n",
       "      <th>products</th>\n",
       "      <th>credit_card</th>\n",
       "      <th>last_activity</th>\n",
       "      <th>est_salary</th>\n",
       "      <th>churn</th>\n",
       "    </tr>\n",
       "  </thead>\n",
       "  <tbody>\n",
       "    <tr>\n",
       "      <th>1</th>\n",
       "      <td>146556</td>\n",
       "      <td>861</td>\n",
       "      <td>Рыбинск</td>\n",
       "      <td>Ж</td>\n",
       "      <td>37</td>\n",
       "      <td>5</td>\n",
       "      <td>850594.33</td>\n",
       "      <td>3</td>\n",
       "      <td>1</td>\n",
       "      <td>0</td>\n",
       "      <td>86621.77</td>\n",
       "      <td>0</td>\n",
       "    </tr>\n",
       "    <tr>\n",
       "      <th>2</th>\n",
       "      <td>120722</td>\n",
       "      <td>892</td>\n",
       "      <td>Рыбинск</td>\n",
       "      <td>Ж</td>\n",
       "      <td>30</td>\n",
       "      <td>0</td>\n",
       "      <td>NaN</td>\n",
       "      <td>1</td>\n",
       "      <td>1</td>\n",
       "      <td>1</td>\n",
       "      <td>107683.34</td>\n",
       "      <td>0</td>\n",
       "    </tr>\n",
       "    <tr>\n",
       "      <th>6</th>\n",
       "      <td>177259</td>\n",
       "      <td>807</td>\n",
       "      <td>Ярославль</td>\n",
       "      <td>Ж</td>\n",
       "      <td>39</td>\n",
       "      <td>3</td>\n",
       "      <td>405042.44</td>\n",
       "      <td>3</td>\n",
       "      <td>0</td>\n",
       "      <td>1</td>\n",
       "      <td>103838.32</td>\n",
       "      <td>0</td>\n",
       "    </tr>\n",
       "    <tr>\n",
       "      <th>7</th>\n",
       "      <td>218868</td>\n",
       "      <td>825</td>\n",
       "      <td>Ярославль</td>\n",
       "      <td>Ж</td>\n",
       "      <td>38</td>\n",
       "      <td>4</td>\n",
       "      <td>458145.40</td>\n",
       "      <td>2</td>\n",
       "      <td>1</td>\n",
       "      <td>1</td>\n",
       "      <td>68085.48</td>\n",
       "      <td>0</td>\n",
       "    </tr>\n",
       "    <tr>\n",
       "      <th>8</th>\n",
       "      <td>211686</td>\n",
       "      <td>923</td>\n",
       "      <td>Ярославль</td>\n",
       "      <td>М</td>\n",
       "      <td>54</td>\n",
       "      <td>5</td>\n",
       "      <td>1206337.87</td>\n",
       "      <td>2</td>\n",
       "      <td>1</td>\n",
       "      <td>0</td>\n",
       "      <td>155371.79</td>\n",
       "      <td>0</td>\n",
       "    </tr>\n",
       "    <tr>\n",
       "      <th>...</th>\n",
       "      <td>...</td>\n",
       "      <td>...</td>\n",
       "      <td>...</td>\n",
       "      <td>...</td>\n",
       "      <td>...</td>\n",
       "      <td>...</td>\n",
       "      <td>...</td>\n",
       "      <td>...</td>\n",
       "      <td>...</td>\n",
       "      <td>...</td>\n",
       "      <td>...</td>\n",
       "      <td>...</td>\n",
       "    </tr>\n",
       "    <tr>\n",
       "      <th>9963</th>\n",
       "      <td>162357</td>\n",
       "      <td>822</td>\n",
       "      <td>Ярославль</td>\n",
       "      <td>М</td>\n",
       "      <td>31</td>\n",
       "      <td>3</td>\n",
       "      <td>646575.17</td>\n",
       "      <td>1</td>\n",
       "      <td>1</td>\n",
       "      <td>1</td>\n",
       "      <td>88297.63</td>\n",
       "      <td>0</td>\n",
       "    </tr>\n",
       "    <tr>\n",
       "      <th>9964</th>\n",
       "      <td>122366</td>\n",
       "      <td>840</td>\n",
       "      <td>Ярославль</td>\n",
       "      <td>Ж</td>\n",
       "      <td>44</td>\n",
       "      <td>3</td>\n",
       "      <td>326619.71</td>\n",
       "      <td>1</td>\n",
       "      <td>1</td>\n",
       "      <td>0</td>\n",
       "      <td>157589.59</td>\n",
       "      <td>0</td>\n",
       "    </tr>\n",
       "    <tr>\n",
       "      <th>9966</th>\n",
       "      <td>219924</td>\n",
       "      <td>884</td>\n",
       "      <td>Рыбинск</td>\n",
       "      <td>Ж</td>\n",
       "      <td>36</td>\n",
       "      <td>0</td>\n",
       "      <td>NaN</td>\n",
       "      <td>1</td>\n",
       "      <td>1</td>\n",
       "      <td>1</td>\n",
       "      <td>169844.88</td>\n",
       "      <td>0</td>\n",
       "    </tr>\n",
       "    <tr>\n",
       "      <th>9968</th>\n",
       "      <td>120553</td>\n",
       "      <td>814</td>\n",
       "      <td>Рыбинск</td>\n",
       "      <td>М</td>\n",
       "      <td>27</td>\n",
       "      <td>1</td>\n",
       "      <td>78144.65</td>\n",
       "      <td>1</td>\n",
       "      <td>0</td>\n",
       "      <td>1</td>\n",
       "      <td>18943.64</td>\n",
       "      <td>0</td>\n",
       "    </tr>\n",
       "    <tr>\n",
       "      <th>9969</th>\n",
       "      <td>139170</td>\n",
       "      <td>894</td>\n",
       "      <td>Ярославль</td>\n",
       "      <td>М</td>\n",
       "      <td>46</td>\n",
       "      <td>0</td>\n",
       "      <td>NaN</td>\n",
       "      <td>1</td>\n",
       "      <td>1</td>\n",
       "      <td>0</td>\n",
       "      <td>196898.29</td>\n",
       "      <td>0</td>\n",
       "    </tr>\n",
       "  </tbody>\n",
       "</table>\n",
       "<p>4807 rows × 12 columns</p>\n",
       "</div>"
      ],
      "text/plain": [
       "      user_id  score       city gender  age  equity     balance  products  \\\n",
       "1      146556    861    Рыбинск      Ж   37       5   850594.33         3   \n",
       "2      120722    892    Рыбинск      Ж   30       0         NaN         1   \n",
       "6      177259    807  Ярославль      Ж   39       3   405042.44         3   \n",
       "7      218868    825  Ярославль      Ж   38       4   458145.40         2   \n",
       "8      211686    923  Ярославль      М   54       5  1206337.87         2   \n",
       "...       ...    ...        ...    ...  ...     ...         ...       ...   \n",
       "9963   162357    822  Ярославль      М   31       3   646575.17         1   \n",
       "9964   122366    840  Ярославль      Ж   44       3   326619.71         1   \n",
       "9966   219924    884    Рыбинск      Ж   36       0         NaN         1   \n",
       "9968   120553    814    Рыбинск      М   27       1    78144.65         1   \n",
       "9969   139170    894  Ярославль      М   46       0         NaN         1   \n",
       "\n",
       "      credit_card  last_activity  est_salary  churn  \n",
       "1               1              0    86621.77      0  \n",
       "2               1              1   107683.34      0  \n",
       "6               0              1   103838.32      0  \n",
       "7               1              1    68085.48      0  \n",
       "8               1              0   155371.79      0  \n",
       "...           ...            ...         ...    ...  \n",
       "9963            1              1    88297.63      0  \n",
       "9964            1              0   157589.59      0  \n",
       "9966            1              1   169844.88      0  \n",
       "9968            0              1    18943.64      0  \n",
       "9969            1              0   196898.29      0  \n",
       "\n",
       "[4807 rows x 12 columns]"
      ]
     },
     "metadata": {},
     "output_type": "display_data"
    },
    {
     "name": "stdout",
     "output_type": "stream",
     "text": [
      "Процент \"типичных клиентов\" от общего числа оставшихся клиентов: 58.95\n"
     ]
    }
   ],
   "source": [
    "typical_client = data.query('churn ==0 & (24 < age < 56) & (city == \"Ярославль\" | city == \"Рыбинск\") \\\n",
    "& equity < 6 & products < 4 & (730 <= score <= 950)')\n",
    "display(typical_client)\n",
    "# создание таблицы с типичными клиентами, оставшимися в банке\n",
    "\n",
    "print('Процент \"типичных клиентов\" от общего числа оставшихся клиентов:', \\\n",
    "round((len(typical_client) * 100 / data.query('churn ==0')['user_id'].count()), 2))"
   ]
  },
  {
   "cell_type": "code",
   "execution_count": 44,
   "metadata": {
    "scrolled": false
   },
   "outputs": [
    {
     "data": {
      "text/html": [
       "<div>\n",
       "<style scoped>\n",
       "    .dataframe tbody tr th:only-of-type {\n",
       "        vertical-align: middle;\n",
       "    }\n",
       "\n",
       "    .dataframe tbody tr th {\n",
       "        vertical-align: top;\n",
       "    }\n",
       "\n",
       "    .dataframe thead th {\n",
       "        text-align: right;\n",
       "    }\n",
       "</style>\n",
       "<table border=\"1\" class=\"dataframe\">\n",
       "  <thead>\n",
       "    <tr style=\"text-align: right;\">\n",
       "      <th></th>\n",
       "      <th>user_id</th>\n",
       "      <th>score</th>\n",
       "      <th>city</th>\n",
       "      <th>gender</th>\n",
       "      <th>age</th>\n",
       "      <th>equity</th>\n",
       "      <th>balance</th>\n",
       "      <th>products</th>\n",
       "      <th>credit_card</th>\n",
       "      <th>last_activity</th>\n",
       "      <th>est_salary</th>\n",
       "      <th>churn</th>\n",
       "    </tr>\n",
       "  </thead>\n",
       "  <tbody>\n",
       "    <tr>\n",
       "      <th>0</th>\n",
       "      <td>183012</td>\n",
       "      <td>850</td>\n",
       "      <td>Рыбинск</td>\n",
       "      <td>Ж</td>\n",
       "      <td>25</td>\n",
       "      <td>1</td>\n",
       "      <td>59214.82</td>\n",
       "      <td>2</td>\n",
       "      <td>0</td>\n",
       "      <td>1</td>\n",
       "      <td>75719.14</td>\n",
       "      <td>1</td>\n",
       "    </tr>\n",
       "    <tr>\n",
       "      <th>3</th>\n",
       "      <td>225363</td>\n",
       "      <td>866</td>\n",
       "      <td>Ярославль</td>\n",
       "      <td>Ж</td>\n",
       "      <td>51</td>\n",
       "      <td>5</td>\n",
       "      <td>1524746.26</td>\n",
       "      <td>2</td>\n",
       "      <td>0</td>\n",
       "      <td>1</td>\n",
       "      <td>174423.53</td>\n",
       "      <td>1</td>\n",
       "    </tr>\n",
       "    <tr>\n",
       "      <th>12</th>\n",
       "      <td>132970</td>\n",
       "      <td>845</td>\n",
       "      <td>Ярославль</td>\n",
       "      <td>Ж</td>\n",
       "      <td>31</td>\n",
       "      <td>3</td>\n",
       "      <td>591928.52</td>\n",
       "      <td>2</td>\n",
       "      <td>1</td>\n",
       "      <td>1</td>\n",
       "      <td>112697.16</td>\n",
       "      <td>1</td>\n",
       "    </tr>\n",
       "    <tr>\n",
       "      <th>58</th>\n",
       "      <td>164676</td>\n",
       "      <td>860</td>\n",
       "      <td>Ярославль</td>\n",
       "      <td>М</td>\n",
       "      <td>37</td>\n",
       "      <td>5</td>\n",
       "      <td>648594.03</td>\n",
       "      <td>2</td>\n",
       "      <td>1</td>\n",
       "      <td>1</td>\n",
       "      <td>213586.86</td>\n",
       "      <td>1</td>\n",
       "    </tr>\n",
       "    <tr>\n",
       "      <th>61</th>\n",
       "      <td>136096</td>\n",
       "      <td>896</td>\n",
       "      <td>Ярославль</td>\n",
       "      <td>Ж</td>\n",
       "      <td>39</td>\n",
       "      <td>5</td>\n",
       "      <td>657597.09</td>\n",
       "      <td>2</td>\n",
       "      <td>0</td>\n",
       "      <td>1</td>\n",
       "      <td>266033.98</td>\n",
       "      <td>1</td>\n",
       "    </tr>\n",
       "    <tr>\n",
       "      <th>...</th>\n",
       "      <td>...</td>\n",
       "      <td>...</td>\n",
       "      <td>...</td>\n",
       "      <td>...</td>\n",
       "      <td>...</td>\n",
       "      <td>...</td>\n",
       "      <td>...</td>\n",
       "      <td>...</td>\n",
       "      <td>...</td>\n",
       "      <td>...</td>\n",
       "      <td>...</td>\n",
       "      <td>...</td>\n",
       "    </tr>\n",
       "    <tr>\n",
       "      <th>9935</th>\n",
       "      <td>217489</td>\n",
       "      <td>893</td>\n",
       "      <td>Ярославль</td>\n",
       "      <td>Ж</td>\n",
       "      <td>49</td>\n",
       "      <td>5</td>\n",
       "      <td>1571192.11</td>\n",
       "      <td>4</td>\n",
       "      <td>1</td>\n",
       "      <td>1</td>\n",
       "      <td>151217.99</td>\n",
       "      <td>1</td>\n",
       "    </tr>\n",
       "    <tr>\n",
       "      <th>9938</th>\n",
       "      <td>165238</td>\n",
       "      <td>839</td>\n",
       "      <td>Ярославль</td>\n",
       "      <td>Ж</td>\n",
       "      <td>40</td>\n",
       "      <td>3</td>\n",
       "      <td>499865.43</td>\n",
       "      <td>2</td>\n",
       "      <td>1</td>\n",
       "      <td>1</td>\n",
       "      <td>212304.90</td>\n",
       "      <td>1</td>\n",
       "    </tr>\n",
       "    <tr>\n",
       "      <th>9951</th>\n",
       "      <td>218170</td>\n",
       "      <td>841</td>\n",
       "      <td>Ярославль</td>\n",
       "      <td>М</td>\n",
       "      <td>29</td>\n",
       "      <td>2</td>\n",
       "      <td>235287.10</td>\n",
       "      <td>2</td>\n",
       "      <td>1</td>\n",
       "      <td>1</td>\n",
       "      <td>137494.06</td>\n",
       "      <td>1</td>\n",
       "    </tr>\n",
       "    <tr>\n",
       "      <th>9954</th>\n",
       "      <td>154871</td>\n",
       "      <td>892</td>\n",
       "      <td>Рыбинск</td>\n",
       "      <td>М</td>\n",
       "      <td>39</td>\n",
       "      <td>5</td>\n",
       "      <td>636287.72</td>\n",
       "      <td>2</td>\n",
       "      <td>0</td>\n",
       "      <td>1</td>\n",
       "      <td>227288.27</td>\n",
       "      <td>1</td>\n",
       "    </tr>\n",
       "    <tr>\n",
       "      <th>9959</th>\n",
       "      <td>152986</td>\n",
       "      <td>822</td>\n",
       "      <td>Ярославль</td>\n",
       "      <td>М</td>\n",
       "      <td>58</td>\n",
       "      <td>5</td>\n",
       "      <td>1434857.91</td>\n",
       "      <td>2</td>\n",
       "      <td>0</td>\n",
       "      <td>1</td>\n",
       "      <td>83442.41</td>\n",
       "      <td>1</td>\n",
       "    </tr>\n",
       "  </tbody>\n",
       "</table>\n",
       "<p>850 rows × 12 columns</p>\n",
       "</div>"
      ],
      "text/plain": [
       "      user_id  score       city gender  age  equity     balance  products  \\\n",
       "0      183012    850    Рыбинск      Ж   25       1    59214.82         2   \n",
       "3      225363    866  Ярославль      Ж   51       5  1524746.26         2   \n",
       "12     132970    845  Ярославль      Ж   31       3   591928.52         2   \n",
       "58     164676    860  Ярославль      М   37       5   648594.03         2   \n",
       "61     136096    896  Ярославль      Ж   39       5   657597.09         2   \n",
       "...       ...    ...        ...    ...  ...     ...         ...       ...   \n",
       "9935   217489    893  Ярославль      Ж   49       5  1571192.11         4   \n",
       "9938   165238    839  Ярославль      Ж   40       3   499865.43         2   \n",
       "9951   218170    841  Ярославль      М   29       2   235287.10         2   \n",
       "9954   154871    892    Рыбинск      М   39       5   636287.72         2   \n",
       "9959   152986    822  Ярославль      М   58       5  1434857.91         2   \n",
       "\n",
       "      credit_card  last_activity  est_salary  churn  \n",
       "0               0              1    75719.14      1  \n",
       "3               0              1   174423.53      1  \n",
       "12              1              1   112697.16      1  \n",
       "58              1              1   213586.86      1  \n",
       "61              0              1   266033.98      1  \n",
       "...           ...            ...         ...    ...  \n",
       "9935            1              1   151217.99      1  \n",
       "9938            1              1   212304.90      1  \n",
       "9951            1              1   137494.06      1  \n",
       "9954            0              1   227288.27      1  \n",
       "9959            0              1    83442.41      1  \n",
       "\n",
       "[850 rows x 12 columns]"
      ]
     },
     "metadata": {},
     "output_type": "display_data"
    },
    {
     "name": "stdout",
     "output_type": "stream",
     "text": [
      "Процент \"типичных отточных клиентов\" от общего числа ушедших клиентов: 46.75\n"
     ]
    }
   ],
   "source": [
    "typical_churn_client = data.query('churn ==1 & (24 < age < 64) & (city == \"Ярославль\" | city == \"Рыбинск\") \\\n",
    "& equity < 6 & (1 < products < 5) & (770 <= score <= 950) & last_activity ==1')\n",
    "display(typical_churn_client)\n",
    "# создание таблицы с типичными клиентами, оставшимися в банке\n",
    "\n",
    "print('Процент \"типичных отточных клиентов\" от общего числа ушедших клиентов:', \\\n",
    "round((len(typical_churn_client) * 100 / data.query('churn ==1')['user_id'].count()), 2))"
   ]
  },
  {
   "cell_type": "code",
   "execution_count": 45,
   "metadata": {},
   "outputs": [
    {
     "data": {
      "image/png": "[encoded data removed]",
      "text/plain": [
       "<Figure size 720x72 with 1 Axes>"
      ]
     },
     "metadata": {
      "needs_background": "light"
     },
     "output_type": "display_data"
    },
    {
     "data": {
      "image/png": "[encoded data removed]",
      "text/plain": [
       "<Figure size 720x72 with 1 Axes>"
      ]
     },
     "metadata": {
      "needs_background": "light"
     },
     "output_type": "display_data"
    }
   ],
   "source": [
    "plt.figure(figsize=(10,1))\n",
    "sns.boxplot(data=data.query('churn ==1'), x='est_salary')\n",
    "plt.xlim(0, 700000)\n",
    "plt.title('Диаграмма размаха по размеру зарплаты отточных клиентов', fontsize=12)\n",
    "plt.xlabel('Сумма', fontsize=10)\n",
    "plt.show();\n",
    "# построение боксплота по заработной плате у отточных клиентов\n",
    "\n",
    "plt.figure(figsize=(10,1))\n",
    "sns.boxplot(data=data.query('churn ==0'), x='est_salary')\n",
    "plt.xlim(0, 700000)\n",
    "plt.title('Диаграмма размаха по размеру зарплаты оставшихся клиентов', fontsize=12)\n",
    "plt.xlabel('Сумма', fontsize=10);\n",
    "# построение боксплота по заработной плате у оставшихся клиентов"
   ]
  },
  {
   "cell_type": "code",
   "execution_count": 46,
   "metadata": {
    "scrolled": true
   },
   "outputs": [
    {
     "data": {
      "image/png": "[encoded data removed]",
      "text/plain": [
       "<Figure size 720x72 with 1 Axes>"
      ]
     },
     "metadata": {
      "needs_background": "light"
     },
     "output_type": "display_data"
    },
    {
     "data": {
      "image/png": "[encoded data removed]",
      "text/plain": [
       "<Figure size 720x72 with 1 Axes>"
      ]
     },
     "metadata": {
      "needs_background": "light"
     },
     "output_type": "display_data"
    }
   ],
   "source": [
    "plt.figure(figsize=(10,1))\n",
    "sns.boxplot(data=data.query('churn ==1'), x='balance')\n",
    "plt.xlim(0, 3500000)\n",
    "plt.title('Диаграмма размаха по размеру баланса отточных клиентов', fontsize=12)\n",
    "plt.xlabel('Сумма', fontsize=10)\n",
    "plt.show();\n",
    "# построение боксплота по балансу у отточных клиентов\n",
    "\n",
    "plt.figure(figsize=(10,1))\n",
    "sns.boxplot(data=data.query('churn ==0'), x='balance')\n",
    "plt.xlim(0, 3500000)\n",
    "plt.title('Диаграмма размаха по размеру баланса оставшихся клиентов', fontsize=12)\n",
    "plt.xlabel('Сумма', fontsize=10);\n",
    "# построение боксплота по балансу у оставшихся клиентов"
   ]
  },
  {
   "cell_type": "code",
   "execution_count": 47,
   "metadata": {
    "scrolled": false
   },
   "outputs": [
    {
     "data": {
      "text/plain": [
       "city\n",
       "Ростов       0.187147\n",
       "Рыбинск      0.162565\n",
       "Ярославль    0.190128\n",
       "Name: churn, dtype: float64"
      ]
     },
     "metadata": {},
     "output_type": "display_data"
    },
    {
     "data": {
      "image/png": "[encoded data removed]",
      "text/plain": [
       "<Figure size 432x288 with 1 Axes>"
      ]
     },
     "metadata": {
      "needs_background": "light"
     },
     "output_type": "display_data"
    }
   ],
   "source": [
    "display(data.groupby('city')['churn'].agg('mean'))\n",
    "\n",
    "sns.barplot(x='city', y='churn', data=data)\n",
    "plt.axhline(y=0.18, color='red', linestyle='--') # пунктирной линией обозначен средний уровень оттока\n",
    "plt.title('Диаграмма уровня отточности по городам', fontsize=12)\n",
    "plt.xlabel('Город', fontsize=10);\n",
    "# построение барплота уровня отточности в разбивке по городам"
   ]
  },
  {
   "cell_type": "code",
   "execution_count": 48,
   "metadata": {},
   "outputs": [
    {
     "data": {
      "text/plain": [
       "gender\n",
       "Ж    0.127459\n",
       "М    0.237027\n",
       "Name: churn, dtype: float64"
      ]
     },
     "metadata": {},
     "output_type": "display_data"
    },
    {
     "data": {
      "image/png": "[encoded data removed]",
      "text/plain": [
       "<Figure size 432x288 with 1 Axes>"
      ]
     },
     "metadata": {
      "needs_background": "light"
     },
     "output_type": "display_data"
    }
   ],
   "source": [
    "display(data.groupby('gender')['churn'].agg('mean'))\n",
    "\n",
    "sns.barplot(x='gender', y='churn', data=data)\n",
    "plt.axhline(y=0.18, color='red', linestyle='--') # пунктирной линией обозначен средний уровень оттока\n",
    "plt.title('Диаграмма уровня отточности по полу', fontsize=12)\n",
    "plt.xlabel('Город', fontsize=10);\n",
    "# построение барплота уровня отточности в разбивке по полу"
   ]
  },
  {
   "cell_type": "code",
   "execution_count": 49,
   "metadata": {
    "scrolled": false
   },
   "outputs": [
    {
     "data": {
      "image/png": "[encoded data removed]",
      "text/plain": [
       "<Figure size 1080x432 with 1 Axes>"
      ]
     },
     "metadata": {
      "needs_background": "light"
     },
     "output_type": "display_data"
    }
   ],
   "source": [
    "plt.figure(figsize=(15,6))\n",
    "sns.barplot(x='age', y='churn', data=data.query('age < 76'))\n",
    "plt.axhline(y=0.18, color='red', linestyle='--') # пунктирной линией обозначен средний уровень оттока\n",
    "plt.title('Диаграмма уровня отточности по возрасту', fontsize=12)\n",
    "plt.xlabel('Возраст', fontsize=10);\n",
    "# построение барплота уровня отточности в разбивке по возрасту"
   ]
  },
  {
   "cell_type": "code",
   "execution_count": 50,
   "metadata": {
    "scrolled": false
   },
   "outputs": [
    {
     "data": {
      "text/plain": [
       "credit_card\n",
       "0    0.255566\n",
       "1    0.147848\n",
       "Name: churn, dtype: float64"
      ]
     },
     "metadata": {},
     "output_type": "display_data"
    },
    {
     "data": {
      "image/png": "[encoded data removed]",
      "text/plain": [
       "<Figure size 432x288 with 1 Axes>"
      ]
     },
     "metadata": {
      "needs_background": "light"
     },
     "output_type": "display_data"
    }
   ],
   "source": [
    "display(data.groupby('credit_card')['churn'].agg('mean'))\n",
    "\n",
    "sns.barplot(x='credit_card', y='churn', data=data)\n",
    "plt.axhline(y=0.18, color='red', linestyle='--') # пунктирной линией обозначен средний уровень оттока\n",
    "plt.title('Диаграмма уровня отточности по наличию кредитки', fontsize=12)\n",
    "plt.xlabel('Есть ли кредитная карта', fontsize=10);\n",
    "# построение барплота уровня отточности в разбивке по наличию кредитки"
   ]
  },
  {
   "cell_type": "code",
   "execution_count": 51,
   "metadata": {
    "scrolled": false
   },
   "outputs": [
    {
     "data": {
      "text/plain": [
       "last_activity\n",
       "0    0.113703\n",
       "1    0.244871\n",
       "Name: churn, dtype: float64"
      ]
     },
     "metadata": {},
     "output_type": "display_data"
    },
    {
     "data": {
      "image/png": "[encoded data removed]",
      "text/plain": [
       "<Figure size 432x288 with 1 Axes>"
      ]
     },
     "metadata": {
      "needs_background": "light"
     },
     "output_type": "display_data"
    }
   ],
   "source": [
    "display(data.groupby('last_activity')['churn'].agg('mean'))\n",
    "\n",
    "sns.barplot(x='last_activity', y='churn', data=data)\n",
    "plt.axhline(y=0.18, color='red', linestyle='--') # пунктирной линией обозначен средний уровень оттока\n",
    "plt.title('Диаграмма уровня отточности по активности', fontsize=12)\n",
    "plt.xlabel('Активен ли клиент', fontsize=10);\n",
    "# построение барплота уровня отточности в разбивке по активности"
   ]
  },
  {
   "cell_type": "code",
   "execution_count": 52,
   "metadata": {
    "scrolled": false
   },
   "outputs": [
    {
     "data": {
      "text/plain": [
       "products\n",
       "1    0.070719\n",
       "2    0.191053\n",
       "3    0.286127\n",
       "4    0.632911\n",
       "5    0.421053\n",
       "Name: churn, dtype: float64"
      ]
     },
     "metadata": {},
     "output_type": "display_data"
    },
    {
     "data": {
      "image/png": "[encoded data removed]",
      "text/plain": [
       "<Figure size 432x288 with 1 Axes>"
      ]
     },
     "metadata": {
      "needs_background": "light"
     },
     "output_type": "display_data"
    }
   ],
   "source": [
    "display(data.groupby('products')['churn'].agg('mean'))\n",
    "\n",
    "sns.barplot(x='products', y='churn', data=data)\n",
    "plt.axhline(y=0.18, color='red', linestyle='--') # пунктирной линией обозначен средний уровень оттока\n",
    "plt.title('Диаграмма уровня отточности по количеству продуктов', fontsize=12)\n",
    "plt.xlabel('Кол-во продуктов', fontsize=10);\n",
    "# построение барплота уровня отточности в разбивке по количеству продуктов"
   ]
  },
  {
   "cell_type": "code",
   "execution_count": 53,
   "metadata": {
    "scrolled": false
   },
   "outputs": [
    {
     "data": {
      "text/plain": [
       "equity\n",
       "0    0.034938\n",
       "1    0.120310\n",
       "2    0.157945\n",
       "3    0.208442\n",
       "4    0.251218\n",
       "5    0.300783\n",
       "6    0.360248\n",
       "7    0.462500\n",
       "8    0.352941\n",
       "9    0.538462\n",
       "Name: churn, dtype: float64"
      ]
     },
     "metadata": {},
     "output_type": "display_data"
    },
    {
     "data": {
      "image/png": "[encoded data removed]",
      "text/plain": [
       "<Figure size 432x288 with 1 Axes>"
      ]
     },
     "metadata": {
      "needs_background": "light"
     },
     "output_type": "display_data"
    }
   ],
   "source": [
    "display(data.groupby('equity')['churn'].agg('mean'))\n",
    "\n",
    "sns.barplot(x='equity', y='churn', data=data)\n",
    "plt.axhline(y=0.18, color='red', linestyle='--') # пунктирной линией обозначен средний уровень оттока\n",
    "plt.title('Диаграмма уровня отточности по баллам собственности', fontsize=12)\n",
    "plt.xlabel('Баллы', fontsize=10);\n",
    "# построение барплота уровня отточности в разбивке по баллам собственности"
   ]
  },
  {
   "cell_type": "markdown",
   "metadata": {},
   "source": [
    "<div style=\"border:solid green 2px; padding: 20px\">\n",
    "   Таким образом:\n",
    "\n",
    "- У большинства клиентов 1-2 банковских продукта, есть кредитная карта и 0 баллов собственности или 4-5 баллов собственности. Клиентов с низким кредитным скорингом мало - 5,28%, и практически все из них не ушли из банка и имеют кредитку, несмотря на низкий рейтинг. 36,38% клиентов имеют высокий кредитный рейтинг, 19,43% из них ушли из банка, около трети из них имеют кредитку. У 42,31% оформивших кредитную карту клиентов, она - единственный продукт.    \n",
    "- Клиентов с балансом больше 2 млн немного - 4,28%, однако оточных из них почти половина - 49,18%. Кредитка есть меньше чем у половины из них, чуть меньше трети из них имеют больше двух продуктов.  \n",
    "- Баланс у оставшихся клиентов в большинстве случаев находится в пределах 1,7 млн, медианное значение около 470 тысяч, в то время как у ушедших клиентов он в среднем выше - в большинстве случаев он в пределах 2,8 млн, а медианное значение около 750 тысяч. Медианное значение заработной платы немного выше в группе отточных, но не значительно, в целом картина по зарплате схожа.\n",
    "- Чем больше количество продуктов, баллов собственности, тем больше отточных клиентов. Так же среди отточных гораздо больше активных клиентов и клиентов без кредитки. Эти данные свидетельствуют о том, что из банка уходят лучшие, наиболее платежеспособные клиенты.\n",
    "    \n",
    "<b>Портрет типичного клиента банка:</b> мужчина или женщина в возрасте 25-55 лет, проживающий в Ярославле или Рыбинске, с баллами собственности от 0 до 5, количеством продуктов от 1 до 3, кредитным скорингом от 730 до 950, кредитная карта как может быть оформлена, так и нет, клиент может быть как активным, так и нет.\n",
    "    \n",
    "<b>Портрет типичного клиента, ушедшего из банка:</b> В отличие от оставшихся клиентов, где активных чуть больше половины, среди ушедших гораздо больше активных клиентов. Так же больше  мужчин. Возрастных отточных клиентов несколько больше - до 65 лет. Ушедших клиентов так же больше в Ярославле и Рыбинске. Количество продуктов больше у ушедших клиентов - у \"типичных\" оно составляет от 2 до 4, кредитный скоринг так же несколько выше - от 770. Больше отточных пользователей не имеют кредитной карты."
   ]
  },
  {
   "cell_type": "markdown",
   "metadata": {},
   "source": [
    "## Выделение сегментов клиентов на основе объединения признаков отточности"
   ]
  },
  {
   "cell_type": "code",
   "execution_count": 54,
   "metadata": {},
   "outputs": [
    {
     "name": "stdout",
     "output_type": "stream",
     "text": [
      "Первый сегмент: мужчины с балансом более 1 млн и баллами собственности от 4-х\n",
      "Численность сегмента: 746\n",
      "Количество отточных клиентов: 374\n",
      "Процент отточных клиентов в сегменте: 50.13\n"
     ]
    }
   ],
   "source": [
    "seg1 = data.query('gender == \"М\" & balance > 1000000 & equity > 3')\n",
    "# формирование сегмента\n",
    "\n",
    "print('Первый сегмент: мужчины с балансом более 1 млн и баллами собственности от 4-х')\n",
    "print('Численность сегмента:', seg1.shape[0])\n",
    "print('Количество отточных клиентов:', seg1.query('churn ==1')['user_id'].count())\n",
    "print('Процент отточных клиентов в сегменте:', \\\n",
    "round(seg1.query('churn ==1')['user_id'].count()/seg1.shape[0]*100, 2))"
   ]
  },
  {
   "cell_type": "code",
   "execution_count": 55,
   "metadata": {},
   "outputs": [
    {
     "name": "stdout",
     "output_type": "stream",
     "text": [
      "Второй сегмент: клиенты от 25 до 35 лет, с кредитным скорингом более 850 и баллами собственности от 4-х\n",
      "Численность сегмента: 757\n",
      "Количество отточных клиентов: 377\n",
      "Процент отточных клиентов в сегменте: 49.8\n"
     ]
    }
   ],
   "source": [
    "seg2 = data.query('(25 <= age <= 35) & score > 850 & equity > 3')\n",
    "# формирование сегмента\n",
    "\n",
    "print('Второй сегмент: клиенты от 25 до 35 лет, с кредитным скорингом более 850 и баллами собственности от 4-х')\n",
    "print('Численность сегмента:', seg2.shape[0])\n",
    "print('Количество отточных клиентов:', seg2.query('churn ==1')['user_id'].count())\n",
    "print('Процент отточных клиентов в сегменте:', \\\n",
    "round(seg2.query('churn ==1')['user_id'].count()/seg2.shape[0]*100, 2))"
   ]
  },
  {
   "cell_type": "code",
   "execution_count": 56,
   "metadata": {},
   "outputs": [
    {
     "name": "stdout",
     "output_type": "stream",
     "text": [
      "Третий сегмент: активные клиенты без кредитной карты скорингом выше 850 баллов\n",
      "Численность сегмента: 966\n",
      "Количество отточных клиентов: 461\n",
      "Процент отточных клиентов в сегменте: 47.72\n"
     ]
    }
   ],
   "source": [
    "seg3 = data.query('score > 850 & last_activity == 1 & credit_card == 0')\n",
    "# формирование сегмента\n",
    "\n",
    "print('Третий сегмент: активные клиенты без кредитной карты скорингом выше 850 баллов')\n",
    "print('Численность сегмента:', seg3.shape[0])\n",
    "print('Количество отточных клиентов:', seg3.query('churn ==1')['user_id'].count())\n",
    "print('Процент отточных клиентов в сегменте:', \\\n",
    "round(seg3.query('churn ==1')['user_id'].count()/seg3.shape[0]*100, 2))"
   ]
  },
  {
   "cell_type": "code",
   "execution_count": 57,
   "metadata": {},
   "outputs": [
    {
     "name": "stdout",
     "output_type": "stream",
     "text": [
      "Четвертый сегмент: клиенты с балансом более 1 млн, без кредитной карты и баллами собственности от 4-х\n",
      "Численность сегмента: 685\n",
      "Количество отточных клиентов: 320\n",
      "Процент отточных клиентов в сегменте: 46.72\n"
     ]
    }
   ],
   "source": [
    "seg4 = data.query('balance > 1000000 & credit_card == 0 & equity > 3')\n",
    "# формирование сегмента\n",
    "\n",
    "print('Четвертый сегмент: клиенты с балансом более 1 млн, без кредитной карты и баллами собственности от 4-х')\n",
    "print('Численность сегмента:', seg4.shape[0])\n",
    "print('Количество отточных клиентов:', seg4.query('churn ==1')['user_id'].count())\n",
    "print('Процент отточных клиентов в сегменте:', \\\n",
    "round(seg4.query('churn ==1')['user_id'].count()/seg4.shape[0]*100, 2))"
   ]
  },
  {
   "cell_type": "code",
   "execution_count": 58,
   "metadata": {},
   "outputs": [
    {
     "name": "stdout",
     "output_type": "stream",
     "text": [
      "Пятый сегмент: активные клиенты с балансом более 1 млн и 1-2 продуктами банка\n",
      "Численность сегмента: 669\n",
      "Количество отточных клиентов: 309\n",
      "Процент отточных клиентов в сегменте: 46.19\n"
     ]
    }
   ],
   "source": [
    "seg5 = data.query('products <= 2 & balance > 1000000 & last_activity == 1')\n",
    "# формирование сегмента\n",
    "\n",
    "print('Пятый сегмент: активные клиенты с балансом более 1 млн и 1-2 продуктами банка')\n",
    "print('Численность сегмента:', seg5.shape[0])\n",
    "print('Количество отточных клиентов:', seg5.query('churn ==1')['user_id'].count())\n",
    "print('Процент отточных клиентов в сегменте:', \\\n",
    "round(seg5.query('churn ==1')['user_id'].count()/seg5.shape[0]*100, 2))"
   ]
  },
  {
   "cell_type": "code",
   "execution_count": 59,
   "metadata": {
    "scrolled": true
   },
   "outputs": [
    {
     "name": "stdout",
     "output_type": "stream",
     "text": [
      "Шестой сегмент: активные клиенты от 50 до 60 лет, с баллами собственности больше трех\n",
      "Численность сегмента: 544\n",
      "Количество отточных клиентов: 246\n",
      "Процент отточных клиентов в сегменте: 45.22\n"
     ]
    }
   ],
   "source": [
    "seg6 = data.query('(50 <= age <= 60) & last_activity == 1 & equity >= 3')\n",
    "# формирование сегмента\n",
    "\n",
    "print('Шестой сегмент: активные клиенты от 50 до 60 лет, с баллами собственности больше трех')\n",
    "print('Численность сегмента:', seg6.shape[0])\n",
    "print('Количество отточных клиентов:', seg6.query('churn ==1')['user_id'].count())\n",
    "print('Процент отточных клиентов в сегменте:', \\\n",
    "round(seg6.query('churn ==1')['user_id'].count()/seg6.shape[0]*100, 2))"
   ]
  },
  {
   "cell_type": "code",
   "execution_count": 60,
   "metadata": {},
   "outputs": [
    {
     "name": "stdout",
     "output_type": "stream",
     "text": [
      "Седьмой сегмент: активные клиенты от 25 до 35 лет, с зарплатой более 100 тысяч\n",
      "Численность сегмента: 860\n",
      "Количество отточных клиентов: 326\n",
      "Процент отточных клиентов в сегменте: 37.91\n"
     ]
    }
   ],
   "source": [
    "seg7 = data.query('(25 <= age <= 35) & est_salary > 100000 & last_activity ==1')\n",
    "# формирование сегмента\n",
    "\n",
    "print('Седьмой сегмент: активные клиенты от 25 до 35 лет, с зарплатой более 100 тысяч')\n",
    "print('Численность сегмента:', seg7.shape[0])\n",
    "print('Количество отточных клиентов:', seg7.query('churn ==1')['user_id'].count())\n",
    "print('Процент отточных клиентов в сегменте:', \\\n",
    "round(seg7.query('churn ==1')['user_id'].count()/seg7.shape[0]*100, 2))"
   ]
  },
  {
   "cell_type": "code",
   "execution_count": 61,
   "metadata": {},
   "outputs": [
    {
     "name": "stdout",
     "output_type": "stream",
     "text": [
      "Восьмой сегмент: клиенты от 50 до 60 лет, с кредитным скорингом более 800 и 1-3 продуктами банка\n",
      "Численность сегмента: 1246\n",
      "Количество отточных клиентов: 344\n",
      "Процент отточных клиентов в сегменте: 27.61\n"
     ]
    }
   ],
   "source": [
    "seg8 = data.query('(50 <= age <= 60) & score > 800 & products <= 3')\n",
    "# формирование сегмента\n",
    "\n",
    "print('Восьмой сегмент: клиенты от 50 до 60 лет, с кредитным скорингом более 800 и 1-3 продуктами банка')\n",
    "print('Численность сегмента:', seg8.shape[0])\n",
    "print('Количество отточных клиентов:', seg8.query('churn ==1')['user_id'].count())\n",
    "print('Процент отточных клиентов в сегменте:', \\\n",
    "round(seg8.query('churn ==1')['user_id'].count()/seg8.shape[0]*100, 2))"
   ]
  },
  {
   "cell_type": "code",
   "execution_count": 62,
   "metadata": {
    "scrolled": false
   },
   "outputs": [
    {
     "name": "stdout",
     "output_type": "stream",
     "text": [
      "Девятый сегмент: мужчины из Ярославля, активные клиенты, с кредитной картой\n",
      "Численность сегмента: 1157\n",
      "Количество отточных клиентов: 291\n",
      "Процент отточных клиентов в сегменте: 25.15\n"
     ]
    }
   ],
   "source": [
    "seg9 = data.query('gender == \"М\" & city == \"Ярославль\" & last_activity == 1 & credit_card==1')\n",
    "# формирование сегмента\n",
    "\n",
    "print('Девятый сегмент: мужчины из Ярославля, активные клиенты, с кредитной картой')\n",
    "print('Численность сегмента:', seg9.shape[0])\n",
    "print('Количество отточных клиентов:', seg9.query('churn ==1')['user_id'].count())\n",
    "print('Процент отточных клиентов в сегменте:', \\\n",
    "round(seg9.query('churn ==1')['user_id'].count()/seg9.shape[0]*100, 2))"
   ]
  },
  {
   "cell_type": "markdown",
   "metadata": {},
   "source": [
    "<div style=\"border:solid green 2px; padding: 20px\">\n",
    "    Сформированы и приоретизированы 9 сегментов с большой долей отточных клиентов. В первом сегменте эта доля составляет 50,13%, во втором - 49,8%, в третьем - 47,72%. В последнем девятом сегменте доля ушедших составляет 25,15%."
   ]
  },
  {
   "cell_type": "markdown",
   "metadata": {},
   "source": [
    "## Проверка статистических гипотез"
   ]
  },
  {
   "cell_type": "markdown",
   "metadata": {},
   "source": [
    "### Проверка первой гипотезы о различии дохода между теми клиентами, которые ушли и клиентами, которые остались"
   ]
  },
  {
   "cell_type": "markdown",
   "metadata": {},
   "source": [
    "<div style=\"border:solid green 2px; padding: 20px\">\n",
    "    \n",
    "**Нулевая гипотеза H₀:**\n",
    "     Доходы клиентов, которые остались, и клиентов, которые ушли, не различаются.\n",
    "    \n",
    "**Альтернативная гипотеза H₁:**\n",
    "    Доходы клиентов, которые остались, и клиентов, которые ушли, разные.\n",
    "    \n",
    " В Python есть специальный метод для проверки гипотезы о равенстве среднего двух генеральных совокупностей по взятым из них выборкам: scipy.stats.ttest_ind (array1, array2, equal_var). Этот метод и используем.\n",
    "    \n",
    "    Нулевая гипотеза всегда формулируется с условием равенства внутри. А альтернативная противоположна нулевой (то есть не равно). Выборками являются представленные в датасете данные. Уровень статистической значимости определим как 5%. Поскольку размер выборок значительно отличается и нет оснований предполагать, что дисперсии генеральных совокупностей по выбранному показателю равны, то установим параметр equal_var = False."
   ]
  },
  {
   "cell_type": "code",
   "execution_count": 63,
   "metadata": {},
   "outputs": [
    {
     "name": "stdout",
     "output_type": "stream",
     "text": [
      "p-значение: 0.8354803526840116\n",
      "Не получилось отвергнуть нулевую гипотезу. Нет оснований считать,что зарплата клиентов, которые ушли и клиентов, которые остались, разная\n"
     ]
    }
   ],
   "source": [
    "sample_1 = data[data['churn']==1]['est_salary'] # зарплата ушедших клиентов\n",
    "sample_2 = data[data['churn']==0]['est_salary'] # зарплата оставшихся клиентов\n",
    "\n",
    "alpha = .05 # критический уровень статистической значимости\n",
    "            # если p-value окажется меньше него - отвергнем гипотезу\n",
    "\n",
    "results = st.ttest_ind(sample_1, sample_2, equal_var = False)\n",
    "\n",
    "print('p-значение:', results.pvalue)\n",
    "\n",
    "if (results.pvalue < alpha):\n",
    "    print(\"Отвергаем нулевую гипотезу. Заработная плата клиентов, которые ушли и клиентов, которые остались, разная\")\n",
    "else:\n",
    "    print(\"Не получилось отвергнуть нулевую гипотезу. Нет оснований считать,что зарплата клиентов, которые ушли и клиентов, которые остались, разная\")"
   ]
  },
  {
   "cell_type": "markdown",
   "metadata": {},
   "source": [
    "### Проверка второй гипотезы о различии кредитного скоринга между теми клиентами, которые ушли и клиентами, которые остались"
   ]
  },
  {
   "cell_type": "markdown",
   "metadata": {},
   "source": [
    "<div style=\"border:solid green 2px; padding: 20px\">\n",
    "    \n",
    "**Нулевая гипотеза H₀:**\n",
    "     Кредитный скоринг клиентов, которые остались, и клиентов, которые ушли, не различается.\n",
    "    \n",
    "**Альтернативная гипотеза H₁:**\n",
    "    Кредитный скоринг клиентов, которые остались, и клиентов, которые ушли, разный."
   ]
  },
  {
   "cell_type": "code",
   "execution_count": 64,
   "metadata": {},
   "outputs": [
    {
     "name": "stdout",
     "output_type": "stream",
     "text": [
      "p-значение: 1.3179430198200596e-37\n",
      "Отвергаем нулевую гипотезу. Кредитный скоринг отточных клиентов, и клиентов, которые остались, разный\n"
     ]
    }
   ],
   "source": [
    "sample_3 = data[data['churn']==1]['score'] # кредитный скоринг отточных клиентов\n",
    "sample_4 = data[data['churn']==0]['score'] # кредитный скоринг оставшихся клиентов\n",
    "\n",
    "alpha = .05 # критический уровень статистической значимости\n",
    "            # если p-value окажется меньше него - отвергнем гипотезу\n",
    "\n",
    "results = st.ttest_ind(sample_3, sample_4, equal_var = False) \n",
    "\n",
    "print('p-значение:', results.pvalue)\n",
    "\n",
    "if (results.pvalue < alpha):\n",
    "    print(\"Отвергаем нулевую гипотезу. Кредитный скоринг отточных клиентов, и клиентов, которые остались, разный\")\n",
    "else:\n",
    "    print(\"Не получилось отвергнуть нулевую гипотезу. Нет оснований считать, что кредитный скоринг отточных клиентов и клиентов, которые остались, разный\")"
   ]
  },
  {
   "cell_type": "markdown",
   "metadata": {},
   "source": [
    "### Проверка третьей гипотезы о различии количества продуктов банка между теми клиентами, которые ушли и клиентами, которые остались"
   ]
  },
  {
   "cell_type": "markdown",
   "metadata": {},
   "source": [
    "<div style=\"border:solid green 2px; padding: 20px\">\n",
    "    \n",
    "**Нулевая гипотеза H₀:**\n",
    "     Количество продуктов у клиентов, которые остались, и у клиентов, которые ушли, не различается.\n",
    "    \n",
    "**Альтернативная гипотеза H₁:**\n",
    "    Количество продуктов у клиентов, которые остались, и у клиентов, которые ушли, разное."
   ]
  },
  {
   "cell_type": "code",
   "execution_count": 65,
   "metadata": {},
   "outputs": [
    {
     "name": "stdout",
     "output_type": "stream",
     "text": [
      "p-значение: 1.2671065900765871e-138\n",
      "Отвергаем нулевую гипотезу. Количество продуктов отточных клиентов, и клиентов, которые остались, разное\n"
     ]
    }
   ],
   "source": [
    "sample_5 = data[data['churn']==1]['products'] # количество продуктов у отточных клиентов\n",
    "sample_6 = data[data['churn']==0]['products'] # количество продуктов у оставшихся клиентов\n",
    "\n",
    "alpha = .05 # критический уровень статистической значимости\n",
    "            # если p-value окажется меньше него - отвергнем гипотезу\n",
    "\n",
    "results = st.ttest_ind(sample_5, sample_6, equal_var = False) \n",
    "\n",
    "print('p-значение:', results.pvalue)\n",
    "\n",
    "if (results.pvalue < alpha):\n",
    "    print(\"Отвергаем нулевую гипотезу. Количество продуктов отточных клиентов, и клиентов, которые остались, разное\")\n",
    "else:\n",
    "    print(\"Не получилось отвергнуть нулевую гипотезу. Нет оснований считать, что количество продуктов отточных клиентов и клиентов, которые остались, разное\")"
   ]
  },
  {
   "cell_type": "markdown",
   "metadata": {},
   "source": [
    "### Проверка четвертой гипотезы о различии количества баллов собственности между теми клиентами, которые ушли и клиентами, которые остались"
   ]
  },
  {
   "cell_type": "markdown",
   "metadata": {},
   "source": [
    "<div style=\"border:solid green 2px; padding: 20px\">\n",
    "    \n",
    "**Нулевая гипотеза H₀:**\n",
    "     Количество баллов собственности у клиентов, которые остались, и у клиентов, которые ушли, не различается.\n",
    "    \n",
    "**Альтернативная гипотеза H₁:**\n",
    "    Количество баллов собственности у клиентов, которые остались, и у клиентов, которые ушли, разное."
   ]
  },
  {
   "cell_type": "code",
   "execution_count": 66,
   "metadata": {},
   "outputs": [
    {
     "name": "stdout",
     "output_type": "stream",
     "text": [
      "p-значение: 2.2265321241808214e-196\n",
      "Отвергаем нулевую гипотезу. Количество баллов собственности отточных клиентов, и клиентов, которые остались, разное\n"
     ]
    }
   ],
   "source": [
    "sample_7 = data[data['churn']==1]['equity'] # количество баллов собственности у отточных клиентов\n",
    "sample_8 = data[data['churn']==0]['equity'] # количество баллов собственности у оставшихся клиентов\n",
    "\n",
    "alpha = .05 # критический уровень статистической значимости\n",
    "            # если p-value окажется меньше него - отвергнем гипотезу\n",
    "\n",
    "results = st.ttest_ind(sample_7, sample_8, equal_var = False) \n",
    "\n",
    "print('p-значение:', results.pvalue)\n",
    "\n",
    "if (results.pvalue < alpha):\n",
    "    print(\"Отвергаем нулевую гипотезу. Количество баллов собственности отточных клиентов, и клиентов, которые остались, разное\")\n",
    "else:\n",
    "    print(\"Не получилось отвергнуть нулевую гипотезу. Нет оснований считать, что количество баллов собственности отточных клиентов и клиентов, которые остались, разное\")"
   ]
  },
  {
   "cell_type": "markdown",
   "metadata": {},
   "source": [
    "<div style=\"border:solid green 2px; padding: 20px\">\n",
    "    \n",
    "- Первая гипотеза о различии заработных плат отточных и оставшихся клиентов не подтвердилась.\n",
    "- Вторая гипотеза о различии в баллах кредитного скоринга отточных и оставшихся клиентов подтвердилась: статистически значимые различия есть.\n",
    "- Третья гипотеза о различии в количестве банковских продуктов отточных и оставшихся клиентов подтвердилась: статистически значимые различия есть.\n",
    "- Четвертая гипотеза о различии в количестве баллов собственности отточных и оставшихся клиентов подтвердилась: статистически значимые различия есть."
   ]
  },
  {
   "cell_type": "markdown",
   "metadata": {},
   "source": [
    "## Общие выводы по исследованию и разработка рекомендаций по работе с клиентами, которые на основании выделенных признаков могут уйти из банка"
   ]
  },
  {
   "cell_type": "markdown",
   "metadata": {},
   "source": [
    "**Общие выводы:**\n",
    "\n",
    "- В датасете представлены данные о клиентах банка \"Метанпром\", находящегося в Ярославле, Рыбинске и Ростове. Доля ушедших клиентов составляет около 18%, что является довольно большим оттоком. В связи с этим в банке следует провести маркетинговые кампании, направленные на улучшение взаимодействия с отточными сегментами клиентов.\n",
    "- Чаще всего склонны к оттоку более \"качественные\" клиенты - с большим балансом, высоким кредитным скорингом, бОльшим количеством баллов собственности и количеством банковских продуктов. При этом у большинства из них нет кредитной карты. Больше всего ушедших клиентов в возрасте 25-35 и 50-60 лет, чаще к уходу из банка склонны мужчины.\n",
    "- Наибольшая корреляция наблюдается между оттоком и количеством баллов собственности - 35%, оттоком и двумя параметрами: активностью и количеством продуктов - 26%, оттоком и кредитным скорингом - 23%, оттоком и полом - 22%.\n",
    "- Проверка статистических гипотез выявила, что разницы между зарплатами отточных и оставшихся клиентов нет. А между баллами кредитного скоринга, количеством продуктов и баллом собственности есть.\n",
    "- Выделено девять высокоотточных сегментов. В первом сегменте \"Мужчины с балансом более 1 млн и баллами собственности от 4-х\" доля ушедших клиентов составляет 50,13%. Во втором сегменте \"Клиенты от 25 до 35 лет, с кредитным скорингом более 850 и баллами собственности от 4-х\" - 49,8%, в третьем \"Активные клиенты без кредитной карты скорингом выше 850 баллов\" - 47,72%. \n",
    "\n",
    "**Рекомендации по работе с клиентами, склонными к оттоку:**\n",
    "- Очевидно, что уходят наиболее платежеспособные и \"качественные\" клиенты. Возможно, им не хватает премиального обслуживания, программы лояльности. Большинство из них были активными клиентами, что наталкивает на мысль, что они ушли в другой банк, который предложил лучшие условия премиального обслуживания. Стоит провести анализ конкурентов на предмет предоставления особых условий VIP-клиентам. Так же стоит рассмотреть возможность внедрения особых условий для таких клиентов в этом банке. Можно так же на сайте или в приложении публиковать бизнес-статьи, интервью с региональными бизнесменами и топ-менеджерами. Так же стоит провести мониторинг работы сотрудников офисов банка. Возможно, премиальные клиенты не довольны уровнем обслуживания.\n",
    "- Для клиентов 50-60 лет стоит разработать кампанию по удержанию. Она может содержать улучшенные условия перевода страховой части пенсии в банк, информирование о льготах предпенсионного возраста, скидки или коллаборации с медицинскими и оздоровительными центрами, звонки \"живого\" сотрудника банка, а не сообщения голосового помощника. \n",
    "- Для клиентов 25-35 лет стоит рассмотреть возможность модернизации мобильного приложения банка, внедрения программы кешбэка с выбором категорий, сопровождение в путешествиях, подкасты на тему музыки, кино, моды, путешествий и т.д. Возможно, стоит привлечь инфлюенсеров, популярных у людей этого возраста.\n",
    "- Для клиентов с большим количеством баллов собственности можно предложить скидки на страхование недвижимости, автомобилей.\n",
    "- Для клиентов с высоким кредитным скорингом можно предлагать ставку на кредиты немного ниже стандартной, бесплатное обслуживание кредитной карты, повышенный кешбэк по ней.\n",
    "- Больше всего к оттоку склонны жители Ярославля - самого крупного города из трех. Возможно, это связано с бОльшим количеством конкурентов. Для жителей Ярославля можно предлагать скидки в заведения, магазины, фитнес-центры города, дополнительные услуги."
   ]
  },
  {
   "cell_type": "code",
   "execution_count": null,
   "metadata": {},
   "outputs": [],
   "source": []
  }
 ],
 "metadata": {
  "ExecuteTimeLog": [
   {
    "duration": 1503,
    "start_time": "2023-07-09T19:28:34.581Z"
   },
   {
    "duration": 113,
    "start_time": "2023-07-09T19:28:39.962Z"
   },
   {
    "duration": 19,
    "start_time": "2023-07-09T19:30:23.746Z"
   },
   {
    "duration": 5,
    "start_time": "2023-07-09T19:32:29.570Z"
   },
   {
    "duration": 7,
    "start_time": "2023-07-09T19:32:56.180Z"
   },
   {
    "duration": 6,
    "start_time": "2023-07-09T19:34:19.505Z"
   },
   {
    "duration": 8,
    "start_time": "2023-07-09T19:35:59.734Z"
   },
   {
    "duration": 170,
    "start_time": "2023-07-09T19:36:30.688Z"
   },
   {
    "duration": 143,
    "start_time": "2023-07-09T19:36:47.759Z"
   },
   {
    "duration": 167,
    "start_time": "2023-07-09T19:36:54.427Z"
   },
   {
    "duration": 161,
    "start_time": "2023-07-09T19:37:09.906Z"
   },
   {
    "duration": 159,
    "start_time": "2023-07-09T19:38:14.639Z"
   },
   {
    "duration": 6,
    "start_time": "2023-07-09T19:40:27.801Z"
   },
   {
    "duration": 182,
    "start_time": "2023-07-09T19:41:52.721Z"
   },
   {
    "duration": 6,
    "start_time": "2023-07-09T19:44:18.551Z"
   },
   {
    "duration": 6,
    "start_time": "2023-07-09T19:45:15.335Z"
   },
   {
    "duration": 8,
    "start_time": "2023-07-09T20:32:52.361Z"
   },
   {
    "duration": 6,
    "start_time": "2023-07-09T20:34:11.209Z"
   },
   {
    "duration": 1434,
    "start_time": "2023-07-10T11:07:02.690Z"
   },
   {
    "duration": 88,
    "start_time": "2023-07-10T11:07:04.126Z"
   },
   {
    "duration": 13,
    "start_time": "2023-07-10T11:07:04.215Z"
   },
   {
    "duration": 11,
    "start_time": "2023-07-10T11:07:04.230Z"
   },
   {
    "duration": 14,
    "start_time": "2023-07-10T11:07:04.243Z"
   },
   {
    "duration": 176,
    "start_time": "2023-07-10T11:07:04.258Z"
   },
   {
    "duration": 6,
    "start_time": "2023-07-10T11:07:04.436Z"
   },
   {
    "duration": 178,
    "start_time": "2023-07-10T11:07:04.443Z"
   },
   {
    "duration": 5,
    "start_time": "2023-07-10T11:07:04.624Z"
   },
   {
    "duration": 14,
    "start_time": "2023-07-10T11:07:04.631Z"
   },
   {
    "duration": 15,
    "start_time": "2023-07-10T11:07:04.646Z"
   },
   {
    "duration": 6,
    "start_time": "2023-07-10T11:07:09.360Z"
   },
   {
    "duration": 15,
    "start_time": "2023-07-10T11:07:21.606Z"
   },
   {
    "duration": 109,
    "start_time": "2023-07-10T11:11:22.475Z"
   },
   {
    "duration": 8,
    "start_time": "2023-07-10T11:13:22.105Z"
   },
   {
    "duration": 12,
    "start_time": "2023-07-10T11:13:49.117Z"
   },
   {
    "duration": 15,
    "start_time": "2023-07-10T11:25:38.845Z"
   },
   {
    "duration": 14,
    "start_time": "2023-07-10T11:26:25.869Z"
   },
   {
    "duration": 9,
    "start_time": "2023-07-10T11:31:50.539Z"
   },
   {
    "duration": 16,
    "start_time": "2023-07-10T11:32:18.385Z"
   },
   {
    "duration": 19,
    "start_time": "2023-07-10T11:37:57.771Z"
   },
   {
    "duration": 27,
    "start_time": "2023-07-10T11:40:23.179Z"
   },
   {
    "duration": 7,
    "start_time": "2023-07-10T11:41:17.068Z"
   },
   {
    "duration": 23,
    "start_time": "2023-07-10T11:41:34.593Z"
   },
   {
    "duration": 6,
    "start_time": "2023-07-10T11:42:51.857Z"
   },
   {
    "duration": 53,
    "start_time": "2023-07-10T14:39:34.850Z"
   },
   {
    "duration": 1559,
    "start_time": "2023-07-10T14:39:42.005Z"
   },
   {
    "duration": 92,
    "start_time": "2023-07-10T14:39:43.566Z"
   },
   {
    "duration": 15,
    "start_time": "2023-07-10T14:39:43.660Z"
   },
   {
    "duration": 34,
    "start_time": "2023-07-10T14:39:43.677Z"
   },
   {
    "duration": 39,
    "start_time": "2023-07-10T14:39:43.713Z"
   },
   {
    "duration": 240,
    "start_time": "2023-07-10T14:39:43.754Z"
   },
   {
    "duration": 13,
    "start_time": "2023-07-10T14:39:43.996Z"
   },
   {
    "duration": 200,
    "start_time": "2023-07-10T14:39:44.011Z"
   },
   {
    "duration": 6,
    "start_time": "2023-07-10T14:39:44.213Z"
   },
   {
    "duration": 38,
    "start_time": "2023-07-10T14:39:44.221Z"
   },
   {
    "duration": 42,
    "start_time": "2023-07-10T14:39:44.261Z"
   },
   {
    "duration": 20,
    "start_time": "2023-07-10T14:39:44.305Z"
   },
   {
    "duration": 37,
    "start_time": "2023-07-10T14:39:44.327Z"
   },
   {
    "duration": 26,
    "start_time": "2023-07-10T14:39:44.366Z"
   },
   {
    "duration": 54,
    "start_time": "2023-07-10T14:39:44.394Z"
   },
   {
    "duration": 35,
    "start_time": "2023-07-10T14:39:44.449Z"
   },
   {
    "duration": 34,
    "start_time": "2023-07-10T14:39:44.486Z"
   },
   {
    "duration": 10,
    "start_time": "2023-07-10T14:39:48.461Z"
   },
   {
    "duration": 12,
    "start_time": "2023-07-10T14:41:42.243Z"
   },
   {
    "duration": 85,
    "start_time": "2023-07-10T14:48:08.844Z"
   },
   {
    "duration": 20,
    "start_time": "2023-07-10T14:48:34.199Z"
   },
   {
    "duration": 27,
    "start_time": "2023-07-10T14:49:02.687Z"
   },
   {
    "duration": 15,
    "start_time": "2023-07-10T14:49:19.966Z"
   },
   {
    "duration": 15,
    "start_time": "2023-07-10T14:49:36.864Z"
   },
   {
    "duration": 13,
    "start_time": "2023-07-10T14:49:48.596Z"
   },
   {
    "duration": 10,
    "start_time": "2023-07-10T15:02:50.151Z"
   },
   {
    "duration": 27,
    "start_time": "2023-07-10T15:03:01.951Z"
   },
   {
    "duration": 14,
    "start_time": "2023-07-10T15:09:34.539Z"
   },
   {
    "duration": 15,
    "start_time": "2023-07-10T15:10:01.219Z"
   },
   {
    "duration": 9,
    "start_time": "2023-07-10T15:11:22.083Z"
   },
   {
    "duration": 11,
    "start_time": "2023-07-10T15:16:01.090Z"
   },
   {
    "duration": 15,
    "start_time": "2023-07-10T15:16:51.307Z"
   },
   {
    "duration": 14,
    "start_time": "2023-07-10T15:17:32.902Z"
   },
   {
    "duration": 13,
    "start_time": "2023-07-10T15:17:43.798Z"
   },
   {
    "duration": 11,
    "start_time": "2023-07-10T15:17:53.244Z"
   },
   {
    "duration": 24,
    "start_time": "2023-07-10T15:20:40.262Z"
   },
   {
    "duration": 32,
    "start_time": "2023-07-10T15:24:43.111Z"
   },
   {
    "duration": 23,
    "start_time": "2023-07-10T15:25:37.255Z"
   },
   {
    "duration": 17,
    "start_time": "2023-07-10T15:36:23.476Z"
   },
   {
    "duration": 24,
    "start_time": "2023-07-10T15:36:49.537Z"
   },
   {
    "duration": 19,
    "start_time": "2023-07-10T15:37:44.544Z"
   },
   {
    "duration": 30,
    "start_time": "2023-07-10T15:38:26.895Z"
   },
   {
    "duration": 23,
    "start_time": "2023-07-10T15:38:50.668Z"
   },
   {
    "duration": 28,
    "start_time": "2023-07-10T15:39:02.364Z"
   },
   {
    "duration": 23,
    "start_time": "2023-07-10T15:40:07.758Z"
   },
   {
    "duration": 12,
    "start_time": "2023-07-10T16:02:34.443Z"
   },
   {
    "duration": 59,
    "start_time": "2023-07-10T16:09:31.268Z"
   },
   {
    "duration": 31,
    "start_time": "2023-07-10T16:11:57.141Z"
   },
   {
    "duration": 192,
    "start_time": "2023-07-10T16:12:33.360Z"
   },
   {
    "duration": 10,
    "start_time": "2023-07-10T16:12:53.895Z"
   },
   {
    "duration": 9,
    "start_time": "2023-07-10T16:15:12.977Z"
   },
   {
    "duration": 8,
    "start_time": "2023-07-10T16:15:30.748Z"
   },
   {
    "duration": 7,
    "start_time": "2023-07-10T16:15:46.446Z"
   },
   {
    "duration": 7,
    "start_time": "2023-07-10T16:16:13.940Z"
   },
   {
    "duration": 4,
    "start_time": "2023-07-10T16:19:51.691Z"
   },
   {
    "duration": 7,
    "start_time": "2023-07-10T16:20:23.386Z"
   },
   {
    "duration": 35,
    "start_time": "2023-07-10T16:22:54.347Z"
   },
   {
    "duration": 29,
    "start_time": "2023-07-10T16:23:24.045Z"
   },
   {
    "duration": 39,
    "start_time": "2023-07-10T16:32:18.567Z"
   },
   {
    "duration": 125,
    "start_time": "2023-07-10T18:15:39.552Z"
   },
   {
    "duration": 135,
    "start_time": "2023-07-10T18:19:13.052Z"
   },
   {
    "duration": 124,
    "start_time": "2023-07-10T18:19:37.163Z"
   },
   {
    "duration": 153,
    "start_time": "2023-07-10T18:19:54.015Z"
   },
   {
    "duration": 238,
    "start_time": "2023-07-10T18:20:02.447Z"
   },
   {
    "duration": 140,
    "start_time": "2023-07-10T18:22:36.885Z"
   },
   {
    "duration": 133,
    "start_time": "2023-07-10T18:23:04.858Z"
   },
   {
    "duration": 140,
    "start_time": "2023-07-10T18:23:27.701Z"
   },
   {
    "duration": 123,
    "start_time": "2023-07-10T18:26:54.766Z"
   },
   {
    "duration": 149,
    "start_time": "2023-07-10T18:29:36.350Z"
   },
   {
    "duration": 119,
    "start_time": "2023-07-10T18:29:56.582Z"
   },
   {
    "duration": 115,
    "start_time": "2023-07-10T18:30:03.396Z"
   },
   {
    "duration": 123,
    "start_time": "2023-07-10T18:30:12.655Z"
   },
   {
    "duration": 3027,
    "start_time": "2023-07-11T12:25:05.655Z"
   },
   {
    "duration": 198,
    "start_time": "2023-07-11T12:25:08.684Z"
   },
   {
    "duration": 21,
    "start_time": "2023-07-11T12:25:08.884Z"
   },
   {
    "duration": 85,
    "start_time": "2023-07-11T12:25:08.911Z"
   },
   {
    "duration": 139,
    "start_time": "2023-07-11T12:25:09.003Z"
   },
   {
    "duration": 287,
    "start_time": "2023-07-11T12:25:09.144Z"
   },
   {
    "duration": 8,
    "start_time": "2023-07-11T12:25:09.435Z"
   },
   {
    "duration": 271,
    "start_time": "2023-07-11T12:25:09.445Z"
   },
   {
    "duration": 5,
    "start_time": "2023-07-11T12:25:09.718Z"
   },
   {
    "duration": 77,
    "start_time": "2023-07-11T12:25:09.726Z"
   },
   {
    "duration": 86,
    "start_time": "2023-07-11T12:25:09.805Z"
   },
   {
    "duration": 99,
    "start_time": "2023-07-11T12:25:09.893Z"
   },
   {
    "duration": 87,
    "start_time": "2023-07-11T12:25:09.994Z"
   },
   {
    "duration": 124,
    "start_time": "2023-07-11T12:25:10.085Z"
   },
   {
    "duration": 10,
    "start_time": "2023-07-11T12:25:10.212Z"
   },
   {
    "duration": 71,
    "start_time": "2023-07-11T12:25:10.223Z"
   },
   {
    "duration": 46,
    "start_time": "2023-07-11T12:25:10.296Z"
   },
   {
    "duration": 45,
    "start_time": "2023-07-11T12:25:10.343Z"
   },
   {
    "duration": 30,
    "start_time": "2023-07-11T12:25:10.390Z"
   },
   {
    "duration": 69,
    "start_time": "2023-07-11T12:25:10.422Z"
   },
   {
    "duration": 15,
    "start_time": "2023-07-11T12:25:10.493Z"
   },
   {
    "duration": 106,
    "start_time": "2023-07-11T12:25:10.513Z"
   },
   {
    "duration": 192,
    "start_time": "2023-07-11T12:25:10.621Z"
   },
   {
    "duration": 122,
    "start_time": "2023-07-11T12:25:10.815Z"
   },
   {
    "duration": 124,
    "start_time": "2023-07-11T12:25:10.941Z"
   },
   {
    "duration": 109,
    "start_time": "2023-07-11T12:25:11.069Z"
   },
   {
    "duration": 224,
    "start_time": "2023-07-11T12:28:58.160Z"
   },
   {
    "duration": 149,
    "start_time": "2023-07-11T12:30:33.524Z"
   },
   {
    "duration": 139,
    "start_time": "2023-07-11T12:30:49.322Z"
   },
   {
    "duration": 183,
    "start_time": "2023-07-11T12:32:44.834Z"
   },
   {
    "duration": 29,
    "start_time": "2023-07-11T12:53:39.728Z"
   },
   {
    "duration": 20,
    "start_time": "2023-07-11T12:54:27.774Z"
   },
   {
    "duration": 1418,
    "start_time": "2023-07-11T18:28:30.205Z"
   },
   {
    "duration": 108,
    "start_time": "2023-07-11T18:28:31.625Z"
   },
   {
    "duration": 13,
    "start_time": "2023-07-11T18:28:31.734Z"
   },
   {
    "duration": 27,
    "start_time": "2023-07-11T18:28:31.749Z"
   },
   {
    "duration": 30,
    "start_time": "2023-07-11T18:28:31.779Z"
   },
   {
    "duration": 171,
    "start_time": "2023-07-11T18:28:31.811Z"
   },
   {
    "duration": 5,
    "start_time": "2023-07-11T18:28:31.984Z"
   },
   {
    "duration": 166,
    "start_time": "2023-07-11T18:28:31.990Z"
   },
   {
    "duration": 5,
    "start_time": "2023-07-11T18:28:32.157Z"
   },
   {
    "duration": 16,
    "start_time": "2023-07-11T18:28:32.176Z"
   },
   {
    "duration": 18,
    "start_time": "2023-07-11T18:28:32.193Z"
   },
   {
    "duration": 15,
    "start_time": "2023-07-11T18:28:32.213Z"
   },
   {
    "duration": 11,
    "start_time": "2023-07-11T18:28:32.229Z"
   },
   {
    "duration": 78,
    "start_time": "2023-07-11T18:28:32.241Z"
   },
   {
    "duration": 11,
    "start_time": "2023-07-11T18:28:32.321Z"
   },
   {
    "duration": 39,
    "start_time": "2023-07-11T18:28:32.333Z"
   },
   {
    "duration": 34,
    "start_time": "2023-07-11T18:28:32.374Z"
   },
   {
    "duration": 105,
    "start_time": "2023-07-11T18:28:32.410Z"
   },
   {
    "duration": 46,
    "start_time": "2023-07-11T18:28:32.517Z"
   },
   {
    "duration": 27,
    "start_time": "2023-07-11T18:28:32.565Z"
   },
   {
    "duration": 59,
    "start_time": "2023-07-11T18:28:32.594Z"
   },
   {
    "duration": 90,
    "start_time": "2023-07-11T18:28:32.655Z"
   },
   {
    "duration": 114,
    "start_time": "2023-07-11T18:28:32.746Z"
   },
   {
    "duration": 44,
    "start_time": "2023-07-11T18:38:56.304Z"
   },
   {
    "duration": 1408,
    "start_time": "2023-07-11T18:39:16.620Z"
   },
   {
    "duration": 90,
    "start_time": "2023-07-11T18:39:18.032Z"
   },
   {
    "duration": 12,
    "start_time": "2023-07-11T18:39:18.123Z"
   },
   {
    "duration": 5,
    "start_time": "2023-07-11T18:39:18.137Z"
   },
   {
    "duration": 18,
    "start_time": "2023-07-11T18:39:18.144Z"
   },
   {
    "duration": 161,
    "start_time": "2023-07-11T18:39:18.163Z"
   },
   {
    "duration": 9,
    "start_time": "2023-07-11T18:39:18.326Z"
   },
   {
    "duration": 162,
    "start_time": "2023-07-11T18:39:18.337Z"
   },
   {
    "duration": 5,
    "start_time": "2023-07-11T18:39:18.500Z"
   },
   {
    "duration": 8,
    "start_time": "2023-07-11T18:39:18.508Z"
   },
   {
    "duration": 15,
    "start_time": "2023-07-11T18:39:18.518Z"
   },
   {
    "duration": 6,
    "start_time": "2023-07-11T18:39:18.535Z"
   },
   {
    "duration": 12,
    "start_time": "2023-07-11T18:39:18.542Z"
   },
   {
    "duration": 46,
    "start_time": "2023-07-11T18:39:18.556Z"
   },
   {
    "duration": 29,
    "start_time": "2023-07-11T18:39:18.604Z"
   },
   {
    "duration": 12,
    "start_time": "2023-07-11T18:39:18.634Z"
   },
   {
    "duration": 19,
    "start_time": "2023-07-11T18:39:18.648Z"
   },
   {
    "duration": 14,
    "start_time": "2023-07-11T18:39:18.669Z"
   },
   {
    "duration": 53,
    "start_time": "2023-07-11T18:39:18.685Z"
   },
   {
    "duration": 9,
    "start_time": "2023-07-11T18:39:18.739Z"
   },
   {
    "duration": 11,
    "start_time": "2023-07-11T18:39:18.749Z"
   },
   {
    "duration": 51,
    "start_time": "2023-07-11T18:39:18.762Z"
   },
   {
    "duration": 101,
    "start_time": "2023-07-11T18:39:18.814Z"
   },
   {
    "duration": 19,
    "start_time": "2023-07-11T18:39:26.882Z"
   },
   {
    "duration": 28,
    "start_time": "2023-07-11T18:43:16.608Z"
   },
   {
    "duration": 132,
    "start_time": "2023-07-11T18:44:29.692Z"
   },
   {
    "duration": 130,
    "start_time": "2023-07-11T18:45:00.648Z"
   },
   {
    "duration": 143,
    "start_time": "2023-07-11T18:45:17.855Z"
   },
   {
    "duration": 8,
    "start_time": "2023-07-11T18:48:07.808Z"
   },
   {
    "duration": 11,
    "start_time": "2023-07-11T18:51:04.645Z"
   },
   {
    "duration": 11,
    "start_time": "2023-07-11T18:54:16.547Z"
   },
   {
    "duration": 230,
    "start_time": "2023-07-11T18:57:29.285Z"
   },
   {
    "duration": 19,
    "start_time": "2023-07-11T19:22:05.276Z"
   },
   {
    "duration": 1445,
    "start_time": "2023-07-12T16:35:51.788Z"
   },
   {
    "duration": 88,
    "start_time": "2023-07-12T16:35:53.236Z"
   },
   {
    "duration": 11,
    "start_time": "2023-07-12T16:35:53.326Z"
   },
   {
    "duration": 6,
    "start_time": "2023-07-12T16:35:53.339Z"
   },
   {
    "duration": 8,
    "start_time": "2023-07-12T16:35:53.346Z"
   },
   {
    "duration": 162,
    "start_time": "2023-07-12T16:35:53.356Z"
   },
   {
    "duration": 6,
    "start_time": "2023-07-12T16:35:53.520Z"
   },
   {
    "duration": 167,
    "start_time": "2023-07-12T16:35:53.528Z"
   },
   {
    "duration": 5,
    "start_time": "2023-07-12T16:35:53.697Z"
   },
   {
    "duration": 9,
    "start_time": "2023-07-12T16:35:53.705Z"
   },
   {
    "duration": 8,
    "start_time": "2023-07-12T16:35:53.716Z"
   },
   {
    "duration": 10,
    "start_time": "2023-07-12T16:35:53.725Z"
   },
   {
    "duration": 8,
    "start_time": "2023-07-12T16:35:53.737Z"
   },
   {
    "duration": 64,
    "start_time": "2023-07-12T16:35:53.747Z"
   },
   {
    "duration": 9,
    "start_time": "2023-07-12T16:35:53.813Z"
   },
   {
    "duration": 17,
    "start_time": "2023-07-12T16:35:53.824Z"
   },
   {
    "duration": 46,
    "start_time": "2023-07-12T16:35:53.843Z"
   },
   {
    "duration": 18,
    "start_time": "2023-07-12T16:35:53.891Z"
   },
   {
    "duration": 19,
    "start_time": "2023-07-12T16:35:53.910Z"
   },
   {
    "duration": 11,
    "start_time": "2023-07-12T16:35:53.930Z"
   },
   {
    "duration": 35,
    "start_time": "2023-07-12T16:35:53.942Z"
   },
   {
    "duration": 34,
    "start_time": "2023-07-12T16:35:53.978Z"
   },
   {
    "duration": 124,
    "start_time": "2023-07-12T16:35:54.014Z"
   },
   {
    "duration": 19,
    "start_time": "2023-07-12T16:35:54.139Z"
   },
   {
    "duration": 133,
    "start_time": "2023-07-12T16:35:54.175Z"
   },
   {
    "duration": 147,
    "start_time": "2023-07-12T16:35:54.310Z"
   },
   {
    "duration": 19,
    "start_time": "2023-07-12T16:35:54.459Z"
   },
   {
    "duration": 118,
    "start_time": "2023-07-12T16:35:54.481Z"
   },
   {
    "duration": 181,
    "start_time": "2023-07-12T16:35:54.601Z"
   },
   {
    "duration": 109,
    "start_time": "2023-07-12T16:35:54.784Z"
   },
   {
    "duration": 107,
    "start_time": "2023-07-12T17:07:23.270Z"
   },
   {
    "duration": 9,
    "start_time": "2023-07-12T17:17:49.906Z"
   },
   {
    "duration": 9,
    "start_time": "2023-07-12T17:21:16.761Z"
   },
   {
    "duration": 5648,
    "start_time": "2023-07-12T17:23:59.806Z"
   },
   {
    "duration": 6916,
    "start_time": "2023-07-12T17:43:59.045Z"
   },
   {
    "duration": 105,
    "start_time": "2023-07-12T17:44:25.995Z"
   },
   {
    "duration": 200,
    "start_time": "2023-07-12T17:44:46.236Z"
   },
   {
    "duration": 796,
    "start_time": "2023-07-12T17:45:08.328Z"
   },
   {
    "duration": 179,
    "start_time": "2023-07-12T17:45:16.727Z"
   },
   {
    "duration": 14,
    "start_time": "2023-07-12T17:49:34.215Z"
   },
   {
    "duration": 12,
    "start_time": "2023-07-12T17:50:35.414Z"
   },
   {
    "duration": 14,
    "start_time": "2023-07-12T17:51:07.460Z"
   },
   {
    "duration": 769,
    "start_time": "2023-07-12T18:21:00.043Z"
   },
   {
    "duration": 973,
    "start_time": "2023-07-12T18:29:59.586Z"
   },
   {
    "duration": 935,
    "start_time": "2023-07-12T18:30:27.826Z"
   },
   {
    "duration": 18,
    "start_time": "2023-07-12T18:31:17.590Z"
   },
   {
    "duration": 359,
    "start_time": "2023-07-12T18:51:06.235Z"
   },
   {
    "duration": 299,
    "start_time": "2023-07-12T18:51:32.382Z"
   },
   {
    "duration": 6855,
    "start_time": "2023-07-12T18:52:20.093Z"
   },
   {
    "duration": 6236,
    "start_time": "2023-07-12T18:56:43.199Z"
   },
   {
    "duration": 231,
    "start_time": "2023-07-12T18:57:16.537Z"
   },
   {
    "duration": 254,
    "start_time": "2023-07-12T18:57:27.963Z"
   },
   {
    "duration": 1226,
    "start_time": "2023-07-12T18:57:39.187Z"
   },
   {
    "duration": 3588,
    "start_time": "2023-07-12T18:57:54.319Z"
   },
   {
    "duration": 36194,
    "start_time": "2023-07-12T18:58:05.287Z"
   },
   {
    "duration": 19662,
    "start_time": "2023-07-12T18:58:56.256Z"
   },
   {
    "duration": 8505,
    "start_time": "2023-07-12T19:01:46.127Z"
   },
   {
    "duration": 298,
    "start_time": "2023-07-12T19:01:54.634Z"
   },
   {
    "duration": 579,
    "start_time": "2023-07-12T19:18:42.316Z"
   },
   {
    "duration": 1178,
    "start_time": "2023-07-12T19:19:26.883Z"
   },
   {
    "duration": 625,
    "start_time": "2023-07-12T19:19:45.558Z"
   },
   {
    "duration": 6771,
    "start_time": "2023-07-12T19:29:08.554Z"
   },
   {
    "duration": 11203,
    "start_time": "2023-07-12T19:29:40.240Z"
   },
   {
    "duration": 13650,
    "start_time": "2023-07-12T19:31:33.064Z"
   },
   {
    "duration": 14443,
    "start_time": "2023-07-12T19:36:27.533Z"
   },
   {
    "duration": 13980,
    "start_time": "2023-07-12T19:41:14.178Z"
   },
   {
    "duration": 14143,
    "start_time": "2023-07-12T19:41:41.799Z"
   },
   {
    "duration": 13442,
    "start_time": "2023-07-12T19:42:26.896Z"
   },
   {
    "duration": 13945,
    "start_time": "2023-07-12T19:45:33.040Z"
   },
   {
    "duration": 1412,
    "start_time": "2023-07-13T16:52:05.528Z"
   },
   {
    "duration": 219,
    "start_time": "2023-07-13T16:52:06.941Z"
   },
   {
    "duration": 11,
    "start_time": "2023-07-13T16:52:07.162Z"
   },
   {
    "duration": 150,
    "start_time": "2023-07-13T16:52:07.175Z"
   },
   {
    "duration": 20,
    "start_time": "2023-07-13T16:52:07.327Z"
   },
   {
    "duration": 167,
    "start_time": "2023-07-13T16:52:07.349Z"
   },
   {
    "duration": 6,
    "start_time": "2023-07-13T16:52:07.517Z"
   },
   {
    "duration": 169,
    "start_time": "2023-07-13T16:52:07.524Z"
   },
   {
    "duration": 5,
    "start_time": "2023-07-13T16:52:07.695Z"
   },
   {
    "duration": 20,
    "start_time": "2023-07-13T16:52:07.703Z"
   },
   {
    "duration": 7,
    "start_time": "2023-07-13T16:52:07.725Z"
   },
   {
    "duration": 5,
    "start_time": "2023-07-13T16:52:07.734Z"
   },
   {
    "duration": 17,
    "start_time": "2023-07-13T16:52:07.740Z"
   },
   {
    "duration": 49,
    "start_time": "2023-07-13T16:52:07.758Z"
   },
   {
    "duration": 9,
    "start_time": "2023-07-13T16:52:07.809Z"
   },
   {
    "duration": 24,
    "start_time": "2023-07-13T16:52:07.819Z"
   },
   {
    "duration": 19,
    "start_time": "2023-07-13T16:52:07.857Z"
   },
   {
    "duration": 15,
    "start_time": "2023-07-13T16:52:07.878Z"
   },
   {
    "duration": 22,
    "start_time": "2023-07-13T16:52:07.895Z"
   },
   {
    "duration": 47,
    "start_time": "2023-07-13T16:52:07.919Z"
   },
   {
    "duration": 7,
    "start_time": "2023-07-13T16:52:07.968Z"
   },
   {
    "duration": 37,
    "start_time": "2023-07-13T16:52:07.977Z"
   },
   {
    "duration": 136,
    "start_time": "2023-07-13T16:52:08.016Z"
   },
   {
    "duration": 19,
    "start_time": "2023-07-13T16:52:08.157Z"
   },
   {
    "duration": 146,
    "start_time": "2023-07-13T16:52:08.178Z"
   },
   {
    "duration": 166,
    "start_time": "2023-07-13T16:52:08.325Z"
   },
   {
    "duration": 12,
    "start_time": "2023-07-13T16:52:08.493Z"
   },
   {
    "duration": 122,
    "start_time": "2023-07-13T16:52:08.507Z"
   },
   {
    "duration": 190,
    "start_time": "2023-07-13T16:52:08.630Z"
   },
   {
    "duration": 138,
    "start_time": "2023-07-13T16:52:08.821Z"
   },
   {
    "duration": 2462,
    "start_time": "2023-07-13T17:18:01.171Z"
   },
   {
    "duration": 52,
    "start_time": "2023-07-13T17:19:34.845Z"
   },
   {
    "duration": 4,
    "start_time": "2023-07-13T17:25:10.516Z"
   },
   {
    "duration": 131,
    "start_time": "2023-07-13T17:25:10.553Z"
   },
   {
    "duration": 17,
    "start_time": "2023-07-13T17:25:10.689Z"
   },
   {
    "duration": 7,
    "start_time": "2023-07-13T17:25:10.708Z"
   },
   {
    "duration": 16,
    "start_time": "2023-07-13T17:25:10.717Z"
   },
   {
    "duration": 187,
    "start_time": "2023-07-13T17:25:10.735Z"
   },
   {
    "duration": 6,
    "start_time": "2023-07-13T17:25:10.924Z"
   },
   {
    "duration": 216,
    "start_time": "2023-07-13T17:25:10.931Z"
   },
   {
    "duration": 16,
    "start_time": "2023-07-13T17:25:11.149Z"
   },
   {
    "duration": 11,
    "start_time": "2023-07-13T17:25:11.174Z"
   },
   {
    "duration": 13,
    "start_time": "2023-07-13T17:25:11.188Z"
   },
   {
    "duration": 11,
    "start_time": "2023-07-13T17:25:11.203Z"
   },
   {
    "duration": 10,
    "start_time": "2023-07-13T17:25:11.216Z"
   },
   {
    "duration": 16,
    "start_time": "2023-07-13T17:25:11.228Z"
   },
   {
    "duration": 95,
    "start_time": "2023-07-13T17:25:11.245Z"
   },
   {
    "duration": 12,
    "start_time": "2023-07-13T17:25:11.342Z"
   },
   {
    "duration": 596,
    "start_time": "2023-07-13T17:25:11.356Z"
   },
   {
    "duration": 31,
    "start_time": "2023-07-13T17:25:11.956Z"
   },
   {
    "duration": 25,
    "start_time": "2023-07-13T17:25:11.994Z"
   },
   {
    "duration": 41,
    "start_time": "2023-07-13T17:25:12.020Z"
   },
   {
    "duration": 23,
    "start_time": "2023-07-13T17:25:12.062Z"
   },
   {
    "duration": 55,
    "start_time": "2023-07-13T17:25:31.057Z"
   },
   {
    "duration": 24,
    "start_time": "2023-07-13T17:27:11.541Z"
   },
   {
    "duration": 24,
    "start_time": "2023-07-13T17:27:48.419Z"
   },
   {
    "duration": 2777,
    "start_time": "2023-07-13T17:27:55.410Z"
   },
   {
    "duration": 5,
    "start_time": "2023-07-13T17:28:42.204Z"
   },
   {
    "duration": 16,
    "start_time": "2023-07-13T17:32:50.929Z"
   },
   {
    "duration": 15,
    "start_time": "2023-07-13T17:35:46.454Z"
   },
   {
    "duration": 17,
    "start_time": "2023-07-13T17:36:04.323Z"
   },
   {
    "duration": 26,
    "start_time": "2023-07-13T17:36:28.577Z"
   },
   {
    "duration": 23,
    "start_time": "2023-07-13T17:41:01.050Z"
   },
   {
    "duration": 17,
    "start_time": "2023-07-13T18:07:16.247Z"
   },
   {
    "duration": 19,
    "start_time": "2023-07-13T18:08:34.686Z"
   },
   {
    "duration": 13457,
    "start_time": "2023-07-13T18:18:49.682Z"
   },
   {
    "duration": 13863,
    "start_time": "2023-07-13T18:19:05.725Z"
   },
   {
    "duration": 15077,
    "start_time": "2023-07-13T18:21:42.142Z"
   },
   {
    "duration": 135,
    "start_time": "2023-07-13T18:40:58.785Z"
   },
   {
    "duration": 23,
    "start_time": "2023-07-13T18:41:13.147Z"
   },
   {
    "duration": 192,
    "start_time": "2023-07-13T18:42:18.232Z"
   },
   {
    "duration": 14702,
    "start_time": "2023-07-13T18:42:32.055Z"
   },
   {
    "duration": 15732,
    "start_time": "2023-07-13T18:45:06.828Z"
   },
   {
    "duration": 5790,
    "start_time": "2023-07-13T19:00:49.529Z"
   },
   {
    "duration": 4839,
    "start_time": "2023-07-13T19:01:07.392Z"
   },
   {
    "duration": 4657,
    "start_time": "2023-07-13T19:01:16.935Z"
   },
   {
    "duration": 2645,
    "start_time": "2023-07-13T19:02:07.506Z"
   },
   {
    "duration": 264,
    "start_time": "2023-07-13T19:05:47.058Z"
   },
   {
    "duration": 2670,
    "start_time": "2023-07-13T19:06:00.293Z"
   },
   {
    "duration": 3593,
    "start_time": "2023-07-13T19:06:21.332Z"
   },
   {
    "duration": 7442,
    "start_time": "2023-07-13T19:07:05.480Z"
   },
   {
    "duration": 9695,
    "start_time": "2023-07-13T19:07:58.000Z"
   },
   {
    "duration": 1823,
    "start_time": "2023-07-13T19:13:58.448Z"
   },
   {
    "duration": 8410,
    "start_time": "2023-07-13T19:14:20.756Z"
   },
   {
    "duration": 7224,
    "start_time": "2023-07-13T19:15:06.534Z"
   },
   {
    "duration": 2408,
    "start_time": "2023-07-13T19:27:32.013Z"
   },
   {
    "duration": 437,
    "start_time": "2023-07-13T19:34:13.463Z"
   },
   {
    "duration": 477,
    "start_time": "2023-07-13T19:37:28.978Z"
   },
   {
    "duration": 427,
    "start_time": "2023-07-13T19:37:43.772Z"
   },
   {
    "duration": 417,
    "start_time": "2023-07-13T19:38:00.303Z"
   },
   {
    "duration": 153,
    "start_time": "2023-07-13T19:42:45.153Z"
   },
   {
    "duration": 1457,
    "start_time": "2023-07-15T12:41:25.292Z"
   },
   {
    "duration": 95,
    "start_time": "2023-07-15T12:41:26.751Z"
   },
   {
    "duration": 12,
    "start_time": "2023-07-15T12:41:26.847Z"
   },
   {
    "duration": 6,
    "start_time": "2023-07-15T12:41:26.861Z"
   },
   {
    "duration": 16,
    "start_time": "2023-07-15T12:41:26.868Z"
   },
   {
    "duration": 182,
    "start_time": "2023-07-15T12:41:26.886Z"
   },
   {
    "duration": 5,
    "start_time": "2023-07-15T12:41:27.070Z"
   },
   {
    "duration": 176,
    "start_time": "2023-07-15T12:41:27.077Z"
   },
   {
    "duration": 5,
    "start_time": "2023-07-15T12:41:27.254Z"
   },
   {
    "duration": 27,
    "start_time": "2023-07-15T12:41:27.262Z"
   },
   {
    "duration": 15,
    "start_time": "2023-07-15T12:41:27.290Z"
   },
   {
    "duration": 14,
    "start_time": "2023-07-15T12:41:27.306Z"
   },
   {
    "duration": 7,
    "start_time": "2023-07-15T12:41:27.322Z"
   },
   {
    "duration": 78,
    "start_time": "2023-07-15T12:41:27.330Z"
   },
   {
    "duration": 9,
    "start_time": "2023-07-15T12:41:27.410Z"
   },
   {
    "duration": 64,
    "start_time": "2023-07-15T12:41:27.420Z"
   },
   {
    "duration": 21,
    "start_time": "2023-07-15T12:41:27.485Z"
   },
   {
    "duration": 14,
    "start_time": "2023-07-15T12:41:27.507Z"
   },
   {
    "duration": 20,
    "start_time": "2023-07-15T12:41:27.523Z"
   },
   {
    "duration": 29,
    "start_time": "2023-07-15T12:41:27.544Z"
   },
   {
    "duration": 33,
    "start_time": "2023-07-15T12:41:27.575Z"
   },
   {
    "duration": 37,
    "start_time": "2023-07-15T12:41:27.610Z"
   },
   {
    "duration": 118,
    "start_time": "2023-07-15T12:41:27.649Z"
   },
   {
    "duration": 21,
    "start_time": "2023-07-15T12:41:27.768Z"
   },
   {
    "duration": 170,
    "start_time": "2023-07-15T12:41:27.790Z"
   },
   {
    "duration": 175,
    "start_time": "2023-07-15T12:41:27.962Z"
   },
   {
    "duration": 16,
    "start_time": "2023-07-15T12:41:28.139Z"
   },
   {
    "duration": 214,
    "start_time": "2023-07-15T12:41:28.158Z"
   },
   {
    "duration": 187,
    "start_time": "2023-07-15T12:41:28.373Z"
   },
   {
    "duration": 105,
    "start_time": "2023-07-15T12:41:28.562Z"
   },
   {
    "duration": 114,
    "start_time": "2023-07-15T13:52:27.469Z"
   },
   {
    "duration": 41,
    "start_time": "2023-07-15T13:52:39.466Z"
   },
   {
    "duration": 4,
    "start_time": "2023-07-15T13:53:03.638Z"
   },
   {
    "duration": 102,
    "start_time": "2023-07-15T13:53:03.659Z"
   },
   {
    "duration": 13,
    "start_time": "2023-07-15T13:53:03.763Z"
   },
   {
    "duration": 16,
    "start_time": "2023-07-15T13:53:03.778Z"
   },
   {
    "duration": 45,
    "start_time": "2023-07-15T13:53:03.795Z"
   },
   {
    "duration": 214,
    "start_time": "2023-07-15T13:53:03.842Z"
   },
   {
    "duration": 7,
    "start_time": "2023-07-15T13:53:04.058Z"
   },
   {
    "duration": 226,
    "start_time": "2023-07-15T13:53:04.067Z"
   },
   {
    "duration": 6,
    "start_time": "2023-07-15T13:53:04.295Z"
   },
   {
    "duration": 36,
    "start_time": "2023-07-15T13:53:04.303Z"
   },
   {
    "duration": 33,
    "start_time": "2023-07-15T13:53:04.340Z"
   },
   {
    "duration": 28,
    "start_time": "2023-07-15T13:53:04.375Z"
   },
   {
    "duration": 32,
    "start_time": "2023-07-15T13:53:04.405Z"
   },
   {
    "duration": 34,
    "start_time": "2023-07-15T13:53:04.439Z"
   },
   {
    "duration": 13,
    "start_time": "2023-07-15T13:53:04.477Z"
   },
   {
    "duration": 76,
    "start_time": "2023-07-15T13:53:04.492Z"
   },
   {
    "duration": 37,
    "start_time": "2023-07-15T13:53:04.571Z"
   },
   {
    "duration": 44,
    "start_time": "2023-07-15T13:53:04.610Z"
   },
   {
    "duration": 52,
    "start_time": "2023-07-15T13:53:04.656Z"
   },
   {
    "duration": 64,
    "start_time": "2023-07-15T13:53:04.710Z"
   },
   {
    "duration": 36,
    "start_time": "2023-07-15T13:53:04.776Z"
   },
   {
    "duration": 51,
    "start_time": "2023-07-15T13:53:04.815Z"
   },
   {
    "duration": 161,
    "start_time": "2023-07-15T13:53:04.868Z"
   },
   {
    "duration": 21,
    "start_time": "2023-07-15T13:53:05.032Z"
   },
   {
    "duration": 226,
    "start_time": "2023-07-15T13:53:05.055Z"
   },
   {
    "duration": 166,
    "start_time": "2023-07-15T13:53:05.283Z"
   },
   {
    "duration": 13,
    "start_time": "2023-07-15T13:53:05.450Z"
   },
   {
    "duration": 174,
    "start_time": "2023-07-15T13:53:05.464Z"
   },
   {
    "duration": 144,
    "start_time": "2023-07-15T13:53:05.640Z"
   },
   {
    "duration": 112,
    "start_time": "2023-07-15T13:53:05.786Z"
   },
   {
    "duration": 34,
    "start_time": "2023-07-15T13:53:05.900Z"
   },
   {
    "duration": 119,
    "start_time": "2023-07-15T13:53:05.935Z"
   },
   {
    "duration": 6814,
    "start_time": "2023-07-15T13:53:06.056Z"
   },
   {
    "duration": 1188,
    "start_time": "2023-07-15T13:53:12.872Z"
   },
   {
    "duration": 12,
    "start_time": "2023-07-15T13:55:03.447Z"
   },
   {
    "duration": 6869,
    "start_time": "2023-07-15T13:55:13.029Z"
   },
   {
    "duration": 2181,
    "start_time": "2023-07-15T13:55:32.998Z"
   },
   {
    "duration": 2324,
    "start_time": "2023-07-15T14:01:08.651Z"
   },
   {
    "duration": 620,
    "start_time": "2023-07-15T14:02:17.549Z"
   },
   {
    "duration": 1971,
    "start_time": "2023-07-15T14:02:25.292Z"
   },
   {
    "duration": 7,
    "start_time": "2023-07-15T14:35:47.483Z"
   },
   {
    "duration": 13,
    "start_time": "2023-07-15T14:37:25.584Z"
   },
   {
    "duration": 7,
    "start_time": "2023-07-15T14:39:06.202Z"
   },
   {
    "duration": 29,
    "start_time": "2023-07-15T17:49:45.502Z"
   },
   {
    "duration": 993,
    "start_time": "2023-07-15T18:13:10.450Z"
   },
   {
    "duration": 944,
    "start_time": "2023-07-15T18:13:22.059Z"
   },
   {
    "duration": 967,
    "start_time": "2023-07-15T18:13:27.030Z"
   },
   {
    "duration": 876,
    "start_time": "2023-07-15T18:16:17.815Z"
   },
   {
    "duration": 850,
    "start_time": "2023-07-15T18:17:00.707Z"
   },
   {
    "duration": 923,
    "start_time": "2023-07-15T18:21:41.946Z"
   },
   {
    "duration": 960,
    "start_time": "2023-07-15T18:21:49.216Z"
   },
   {
    "duration": 944,
    "start_time": "2023-07-15T18:22:30.930Z"
   },
   {
    "duration": 861,
    "start_time": "2023-07-15T18:22:48.417Z"
   },
   {
    "duration": 1978,
    "start_time": "2023-07-15T19:10:42.220Z"
   },
   {
    "duration": 441,
    "start_time": "2023-07-15T19:15:15.984Z"
   },
   {
    "duration": 6148,
    "start_time": "2023-07-15T19:16:18.182Z"
   },
   {
    "duration": 6494,
    "start_time": "2023-07-15T19:16:59.664Z"
   },
   {
    "duration": 6944,
    "start_time": "2023-07-15T19:21:51.188Z"
   },
   {
    "duration": 7332,
    "start_time": "2023-07-15T19:22:54.515Z"
   },
   {
    "duration": 650,
    "start_time": "2023-07-15T19:23:36.306Z"
   },
   {
    "duration": 7871,
    "start_time": "2023-07-15T19:25:38.053Z"
   },
   {
    "duration": 8585,
    "start_time": "2023-07-15T19:28:46.809Z"
   },
   {
    "duration": 8174,
    "start_time": "2023-07-15T19:29:29.939Z"
   },
   {
    "duration": 8239,
    "start_time": "2023-07-15T19:29:54.535Z"
   },
   {
    "duration": 8403,
    "start_time": "2023-07-15T19:34:24.130Z"
   },
   {
    "duration": 8897,
    "start_time": "2023-07-15T19:36:56.306Z"
   },
   {
    "duration": 9709,
    "start_time": "2023-07-15T19:43:39.108Z"
   },
   {
    "duration": 9690,
    "start_time": "2023-07-15T19:47:56.658Z"
   },
   {
    "duration": 10005,
    "start_time": "2023-07-15T19:51:45.748Z"
   },
   {
    "duration": 10482,
    "start_time": "2023-07-15T19:55:52.804Z"
   },
   {
    "duration": 11358,
    "start_time": "2023-07-15T19:59:01.675Z"
   },
   {
    "duration": 10614,
    "start_time": "2023-07-15T20:02:32.163Z"
   },
   {
    "duration": 10758,
    "start_time": "2023-07-15T20:03:05.018Z"
   },
   {
    "duration": 10594,
    "start_time": "2023-07-15T20:04:37.725Z"
   },
   {
    "duration": 11010,
    "start_time": "2023-07-15T20:06:00.166Z"
   },
   {
    "duration": 10624,
    "start_time": "2023-07-15T20:07:22.249Z"
   },
   {
    "duration": 10540,
    "start_time": "2023-07-15T20:08:17.966Z"
   },
   {
    "duration": 10708,
    "start_time": "2023-07-15T20:09:21.041Z"
   },
   {
    "duration": 10851,
    "start_time": "2023-07-15T20:11:07.064Z"
   },
   {
    "duration": 3868,
    "start_time": "2023-07-15T20:12:55.328Z"
   },
   {
    "duration": 8170,
    "start_time": "2023-07-15T20:13:44.312Z"
   },
   {
    "duration": 11364,
    "start_time": "2023-07-15T20:14:13.455Z"
   },
   {
    "duration": 14033,
    "start_time": "2023-07-15T20:15:05.502Z"
   },
   {
    "duration": 6455,
    "start_time": "2023-07-16T11:04:01.304Z"
   },
   {
    "duration": 143,
    "start_time": "2023-07-16T11:04:07.762Z"
   },
   {
    "duration": 18,
    "start_time": "2023-07-16T11:04:07.907Z"
   },
   {
    "duration": 8,
    "start_time": "2023-07-16T11:04:07.927Z"
   },
   {
    "duration": 9,
    "start_time": "2023-07-16T11:04:07.937Z"
   },
   {
    "duration": 239,
    "start_time": "2023-07-16T11:04:07.949Z"
   },
   {
    "duration": 8,
    "start_time": "2023-07-16T11:04:08.191Z"
   },
   {
    "duration": 222,
    "start_time": "2023-07-16T11:04:08.201Z"
   },
   {
    "duration": 6,
    "start_time": "2023-07-16T11:04:08.426Z"
   },
   {
    "duration": 15,
    "start_time": "2023-07-16T11:04:08.434Z"
   },
   {
    "duration": 19,
    "start_time": "2023-07-16T11:04:08.451Z"
   },
   {
    "duration": 9,
    "start_time": "2023-07-16T11:04:08.476Z"
   },
   {
    "duration": 20,
    "start_time": "2023-07-16T11:04:08.488Z"
   },
   {
    "duration": 96,
    "start_time": "2023-07-16T11:04:08.510Z"
   },
   {
    "duration": 16,
    "start_time": "2023-07-16T11:04:08.609Z"
   },
   {
    "duration": 54,
    "start_time": "2023-07-16T11:04:08.628Z"
   },
   {
    "duration": 49,
    "start_time": "2023-07-16T11:04:08.695Z"
   },
   {
    "duration": 59,
    "start_time": "2023-07-16T11:04:08.747Z"
   },
   {
    "duration": 48,
    "start_time": "2023-07-16T11:04:08.822Z"
   },
   {
    "duration": 42,
    "start_time": "2023-07-16T11:04:08.876Z"
   },
   {
    "duration": 19,
    "start_time": "2023-07-16T11:04:08.921Z"
   },
   {
    "duration": 46,
    "start_time": "2023-07-16T11:04:08.942Z"
   },
   {
    "duration": 164,
    "start_time": "2023-07-16T11:04:08.991Z"
   },
   {
    "duration": 51,
    "start_time": "2023-07-16T11:04:09.156Z"
   },
   {
    "duration": 198,
    "start_time": "2023-07-16T11:04:09.216Z"
   },
   {
    "duration": 190,
    "start_time": "2023-07-16T11:04:09.416Z"
   },
   {
    "duration": 21,
    "start_time": "2023-07-16T11:04:09.610Z"
   },
   {
    "duration": 318,
    "start_time": "2023-07-16T11:04:09.636Z"
   },
   {
    "duration": 176,
    "start_time": "2023-07-16T11:04:09.957Z"
   },
   {
    "duration": 147,
    "start_time": "2023-07-16T11:04:10.135Z"
   },
   {
    "duration": 20,
    "start_time": "2023-07-16T11:04:10.284Z"
   },
   {
    "duration": 17,
    "start_time": "2023-07-16T11:04:10.306Z"
   },
   {
    "duration": 28,
    "start_time": "2023-07-16T11:04:10.325Z"
   },
   {
    "duration": 39,
    "start_time": "2023-07-16T11:04:10.355Z"
   },
   {
    "duration": 16257,
    "start_time": "2023-07-16T11:04:10.396Z"
   },
   {
    "duration": 2278,
    "start_time": "2023-07-16T11:04:26.656Z"
   },
   {
    "duration": 1112,
    "start_time": "2023-07-16T11:04:28.936Z"
   },
   {
    "duration": 940,
    "start_time": "2023-07-16T12:10:55.039Z"
   },
   {
    "duration": 552,
    "start_time": "2023-07-16T12:53:41.487Z"
   },
   {
    "duration": 248,
    "start_time": "2023-07-16T12:56:36.590Z"
   },
   {
    "duration": 193,
    "start_time": "2023-07-16T12:57:27.637Z"
   },
   {
    "duration": 201,
    "start_time": "2023-07-16T12:57:55.700Z"
   },
   {
    "duration": 230,
    "start_time": "2023-07-16T12:58:22.527Z"
   },
   {
    "duration": 213,
    "start_time": "2023-07-16T12:58:54.117Z"
   },
   {
    "duration": 256,
    "start_time": "2023-07-16T13:04:34.729Z"
   },
   {
    "duration": 150,
    "start_time": "2023-07-16T13:05:01.408Z"
   },
   {
    "duration": 143,
    "start_time": "2023-07-16T13:05:09.776Z"
   },
   {
    "duration": 283,
    "start_time": "2023-07-16T13:07:14.251Z"
   },
   {
    "duration": 152,
    "start_time": "2023-07-16T13:13:31.181Z"
   },
   {
    "duration": 163,
    "start_time": "2023-07-16T13:14:01.934Z"
   },
   {
    "duration": 150,
    "start_time": "2023-07-16T13:17:31.252Z"
   },
   {
    "duration": 194,
    "start_time": "2023-07-16T13:18:14.877Z"
   },
   {
    "duration": 164,
    "start_time": "2023-07-16T13:18:33.348Z"
   },
   {
    "duration": 219,
    "start_time": "2023-07-16T13:19:53.471Z"
   },
   {
    "duration": 166,
    "start_time": "2023-07-16T13:20:46.640Z"
   },
   {
    "duration": 163,
    "start_time": "2023-07-16T13:21:27.045Z"
   },
   {
    "duration": 184,
    "start_time": "2023-07-16T13:21:48.738Z"
   },
   {
    "duration": 195,
    "start_time": "2023-07-16T13:22:34.495Z"
   },
   {
    "duration": 115,
    "start_time": "2023-07-16T13:22:59.611Z"
   },
   {
    "duration": 188,
    "start_time": "2023-07-16T13:23:09.489Z"
   },
   {
    "duration": 203,
    "start_time": "2023-07-16T13:23:35.478Z"
   },
   {
    "duration": 192,
    "start_time": "2023-07-16T13:23:53.595Z"
   },
   {
    "duration": 203,
    "start_time": "2023-07-16T13:36:24.761Z"
   },
   {
    "duration": 3049,
    "start_time": "2023-07-16T14:41:38.261Z"
   },
   {
    "duration": 115,
    "start_time": "2023-07-16T14:41:41.312Z"
   },
   {
    "duration": 18,
    "start_time": "2023-07-16T14:41:41.429Z"
   },
   {
    "duration": 23,
    "start_time": "2023-07-16T14:41:41.450Z"
   },
   {
    "duration": 32,
    "start_time": "2023-07-16T14:41:41.476Z"
   },
   {
    "duration": 220,
    "start_time": "2023-07-16T14:41:41.510Z"
   },
   {
    "duration": 6,
    "start_time": "2023-07-16T14:41:41.733Z"
   },
   {
    "duration": 238,
    "start_time": "2023-07-16T14:41:41.741Z"
   },
   {
    "duration": 13,
    "start_time": "2023-07-16T14:41:41.981Z"
   },
   {
    "duration": 9,
    "start_time": "2023-07-16T14:41:42.007Z"
   },
   {
    "duration": 7,
    "start_time": "2023-07-16T14:41:42.017Z"
   },
   {
    "duration": 18,
    "start_time": "2023-07-16T14:41:42.026Z"
   },
   {
    "duration": 32,
    "start_time": "2023-07-16T14:41:42.047Z"
   },
   {
    "duration": 23,
    "start_time": "2023-07-16T14:41:42.081Z"
   },
   {
    "duration": 15,
    "start_time": "2023-07-16T14:41:42.106Z"
   },
   {
    "duration": 16,
    "start_time": "2023-07-16T14:41:42.123Z"
   },
   {
    "duration": 53,
    "start_time": "2023-07-16T14:41:42.141Z"
   },
   {
    "duration": 21,
    "start_time": "2023-07-16T14:41:42.197Z"
   },
   {
    "duration": 76,
    "start_time": "2023-07-16T14:41:42.221Z"
   },
   {
    "duration": 24,
    "start_time": "2023-07-16T14:41:42.304Z"
   },
   {
    "duration": 11,
    "start_time": "2023-07-16T14:41:42.331Z"
   },
   {
    "duration": 51,
    "start_time": "2023-07-16T14:41:42.345Z"
   },
   {
    "duration": 155,
    "start_time": "2023-07-16T14:41:42.404Z"
   },
   {
    "duration": 29,
    "start_time": "2023-07-16T14:41:42.568Z"
   },
   {
    "duration": 272,
    "start_time": "2023-07-16T14:41:42.600Z"
   },
   {
    "duration": 179,
    "start_time": "2023-07-16T14:41:42.875Z"
   },
   {
    "duration": 31,
    "start_time": "2023-07-16T14:41:43.057Z"
   },
   {
    "duration": 153,
    "start_time": "2023-07-16T14:41:43.092Z"
   },
   {
    "duration": 166,
    "start_time": "2023-07-16T14:41:43.248Z"
   },
   {
    "duration": 133,
    "start_time": "2023-07-16T14:41:43.417Z"
   },
   {
    "duration": 28,
    "start_time": "2023-07-16T14:41:43.553Z"
   },
   {
    "duration": 12,
    "start_time": "2023-07-16T14:41:43.583Z"
   },
   {
    "duration": 61,
    "start_time": "2023-07-16T14:41:43.598Z"
   },
   {
    "duration": 37,
    "start_time": "2023-07-16T14:41:43.661Z"
   },
   {
    "duration": 17548,
    "start_time": "2023-07-16T14:41:43.700Z"
   },
   {
    "duration": 2903,
    "start_time": "2023-07-16T14:42:01.250Z"
   },
   {
    "duration": 1254,
    "start_time": "2023-07-16T14:42:04.156Z"
   },
   {
    "duration": 675,
    "start_time": "2023-07-16T14:44:28.531Z"
   },
   {
    "duration": 171,
    "start_time": "2023-07-16T14:47:55.037Z"
   },
   {
    "duration": 20,
    "start_time": "2023-07-16T14:48:46.650Z"
   },
   {
    "duration": 19,
    "start_time": "2023-07-16T14:49:15.731Z"
   },
   {
    "duration": 10,
    "start_time": "2023-07-16T14:49:57.251Z"
   },
   {
    "duration": 47,
    "start_time": "2023-07-16T14:50:25.351Z"
   },
   {
    "duration": 213,
    "start_time": "2023-07-16T14:50:54.593Z"
   },
   {
    "duration": 128,
    "start_time": "2023-07-16T14:55:54.610Z"
   },
   {
    "duration": 205,
    "start_time": "2023-07-16T15:00:29.645Z"
   },
   {
    "duration": 213,
    "start_time": "2023-07-16T15:02:29.110Z"
   },
   {
    "duration": 172,
    "start_time": "2023-07-16T15:02:37.709Z"
   },
   {
    "duration": 160,
    "start_time": "2023-07-16T15:12:52.539Z"
   },
   {
    "duration": 143,
    "start_time": "2023-07-16T15:13:18.907Z"
   },
   {
    "duration": 172,
    "start_time": "2023-07-16T15:15:02.427Z"
   },
   {
    "duration": 5913,
    "start_time": "2023-07-16T15:18:09.623Z"
   },
   {
    "duration": 270,
    "start_time": "2023-07-16T15:18:15.546Z"
   },
   {
    "duration": 26,
    "start_time": "2023-07-16T15:18:15.821Z"
   },
   {
    "duration": 32,
    "start_time": "2023-07-16T15:18:15.856Z"
   },
   {
    "duration": 16,
    "start_time": "2023-07-16T15:18:15.902Z"
   },
   {
    "duration": 345,
    "start_time": "2023-07-16T15:18:15.926Z"
   },
   {
    "duration": 9,
    "start_time": "2023-07-16T15:18:16.274Z"
   },
   {
    "duration": 276,
    "start_time": "2023-07-16T15:18:16.285Z"
   },
   {
    "duration": 18,
    "start_time": "2023-07-16T15:18:16.573Z"
   },
   {
    "duration": 24,
    "start_time": "2023-07-16T15:18:16.594Z"
   },
   {
    "duration": 11,
    "start_time": "2023-07-16T15:18:16.621Z"
   },
   {
    "duration": 30,
    "start_time": "2023-07-16T15:18:16.634Z"
   },
   {
    "duration": 26,
    "start_time": "2023-07-16T15:18:16.666Z"
   },
   {
    "duration": 112,
    "start_time": "2023-07-16T15:18:16.695Z"
   },
   {
    "duration": 18,
    "start_time": "2023-07-16T15:18:16.814Z"
   },
   {
    "duration": 47,
    "start_time": "2023-07-16T15:18:16.835Z"
   },
   {
    "duration": 47,
    "start_time": "2023-07-16T15:18:16.890Z"
   },
   {
    "duration": 36,
    "start_time": "2023-07-16T15:18:16.944Z"
   },
   {
    "duration": 42,
    "start_time": "2023-07-16T15:18:16.983Z"
   },
   {
    "duration": 29,
    "start_time": "2023-07-16T15:18:17.028Z"
   },
   {
    "duration": 28,
    "start_time": "2023-07-16T15:18:17.068Z"
   },
   {
    "duration": 42,
    "start_time": "2023-07-16T15:18:17.104Z"
   },
   {
    "duration": 203,
    "start_time": "2023-07-16T15:18:17.154Z"
   },
   {
    "duration": 48,
    "start_time": "2023-07-16T15:18:17.359Z"
   },
   {
    "duration": 190,
    "start_time": "2023-07-16T15:18:17.414Z"
   },
   {
    "duration": 195,
    "start_time": "2023-07-16T15:18:17.607Z"
   },
   {
    "duration": 20,
    "start_time": "2023-07-16T15:18:17.804Z"
   },
   {
    "duration": 350,
    "start_time": "2023-07-16T15:18:17.829Z"
   },
   {
    "duration": 192,
    "start_time": "2023-07-16T15:18:18.182Z"
   },
   {
    "duration": 179,
    "start_time": "2023-07-16T15:18:18.379Z"
   },
   {
    "duration": 21,
    "start_time": "2023-07-16T15:18:18.560Z"
   },
   {
    "duration": 14,
    "start_time": "2023-07-16T15:18:18.588Z"
   },
   {
    "duration": 51,
    "start_time": "2023-07-16T15:18:18.608Z"
   },
   {
    "duration": 49,
    "start_time": "2023-07-16T15:18:18.661Z"
   },
   {
    "duration": 19905,
    "start_time": "2023-07-16T15:18:18.715Z"
   },
   {
    "duration": 2558,
    "start_time": "2023-07-16T15:18:38.623Z"
   },
   {
    "duration": 1191,
    "start_time": "2023-07-16T15:18:41.194Z"
   },
   {
    "duration": 195,
    "start_time": "2023-07-16T15:19:10.843Z"
   },
   {
    "duration": 537,
    "start_time": "2023-07-16T15:20:38.094Z"
   },
   {
    "duration": 2366,
    "start_time": "2023-07-16T15:23:40.798Z"
   },
   {
    "duration": 149,
    "start_time": "2023-07-16T15:30:54.693Z"
   },
   {
    "duration": 413,
    "start_time": "2023-07-16T15:34:25.316Z"
   },
   {
    "duration": 375,
    "start_time": "2023-07-16T15:34:51.606Z"
   },
   {
    "duration": 670,
    "start_time": "2023-07-16T15:55:21.674Z"
   },
   {
    "duration": 649,
    "start_time": "2023-07-16T15:55:39.553Z"
   },
   {
    "duration": 692,
    "start_time": "2023-07-16T15:56:15.697Z"
   },
   {
    "duration": 818,
    "start_time": "2023-07-16T15:56:33.721Z"
   },
   {
    "duration": 763,
    "start_time": "2023-07-16T15:56:46.045Z"
   },
   {
    "duration": 737,
    "start_time": "2023-07-16T15:59:41.019Z"
   },
   {
    "duration": 34,
    "start_time": "2023-07-16T16:07:12.438Z"
   },
   {
    "duration": 11,
    "start_time": "2023-07-16T16:11:25.351Z"
   },
   {
    "duration": 14,
    "start_time": "2023-07-16T16:12:00.918Z"
   },
   {
    "duration": 13,
    "start_time": "2023-07-16T16:12:19.512Z"
   },
   {
    "duration": 147,
    "start_time": "2023-07-16T16:17:34.665Z"
   },
   {
    "duration": 157,
    "start_time": "2023-07-16T16:18:17.932Z"
   },
   {
    "duration": 681,
    "start_time": "2023-07-16T16:18:45.919Z"
   },
   {
    "duration": 15,
    "start_time": "2023-07-16T16:20:00.428Z"
   },
   {
    "duration": 39,
    "start_time": "2023-07-16T16:20:44.876Z"
   },
   {
    "duration": 16,
    "start_time": "2023-07-16T16:22:36.514Z"
   },
   {
    "duration": 29,
    "start_time": "2023-07-16T16:23:20.900Z"
   },
   {
    "duration": 30,
    "start_time": "2023-07-16T16:25:24.143Z"
   },
   {
    "duration": 145,
    "start_time": "2023-07-16T16:26:18.863Z"
   },
   {
    "duration": 120,
    "start_time": "2023-07-16T16:26:38.300Z"
   },
   {
    "duration": 140,
    "start_time": "2023-07-16T16:27:00.403Z"
   },
   {
    "duration": 22,
    "start_time": "2023-07-16T16:27:15.809Z"
   },
   {
    "duration": 30,
    "start_time": "2023-07-16T16:30:08.613Z"
   },
   {
    "duration": 33,
    "start_time": "2023-07-16T16:32:13.322Z"
   },
   {
    "duration": 47,
    "start_time": "2023-07-16T16:36:11.905Z"
   },
   {
    "duration": 190,
    "start_time": "2023-07-16T16:59:37.197Z"
   },
   {
    "duration": 228,
    "start_time": "2023-07-16T16:59:57.562Z"
   },
   {
    "duration": 194,
    "start_time": "2023-07-16T17:00:21.116Z"
   },
   {
    "duration": 176,
    "start_time": "2023-07-16T17:02:42.630Z"
   },
   {
    "duration": 130,
    "start_time": "2023-07-16T17:04:15.552Z"
   },
   {
    "duration": 27,
    "start_time": "2023-07-16T17:09:24.726Z"
   },
   {
    "duration": 40,
    "start_time": "2023-07-16T17:11:20.710Z"
   },
   {
    "duration": 45,
    "start_time": "2023-07-16T17:13:23.652Z"
   },
   {
    "duration": 59,
    "start_time": "2023-07-16T17:15:15.170Z"
   },
   {
    "duration": 26,
    "start_time": "2023-07-16T17:42:30.107Z"
   },
   {
    "duration": 7,
    "start_time": "2023-07-16T17:51:18.465Z"
   },
   {
    "duration": 46,
    "start_time": "2023-07-16T17:54:24.448Z"
   },
   {
    "duration": 37,
    "start_time": "2023-07-16T17:55:24.414Z"
   },
   {
    "duration": 30,
    "start_time": "2023-07-16T17:56:19.596Z"
   },
   {
    "duration": 40,
    "start_time": "2023-07-16T17:56:54.083Z"
   },
   {
    "duration": 40,
    "start_time": "2023-07-16T17:57:41.197Z"
   },
   {
    "duration": 15,
    "start_time": "2023-07-16T17:58:53.095Z"
   },
   {
    "duration": 40,
    "start_time": "2023-07-16T17:59:08.053Z"
   },
   {
    "duration": 26,
    "start_time": "2023-07-16T17:59:21.295Z"
   },
   {
    "duration": 42,
    "start_time": "2023-07-16T18:00:20.665Z"
   },
   {
    "duration": 34,
    "start_time": "2023-07-16T18:01:11.963Z"
   },
   {
    "duration": 44,
    "start_time": "2023-07-16T18:04:53.095Z"
   },
   {
    "duration": 54,
    "start_time": "2023-07-16T18:09:51.845Z"
   },
   {
    "duration": 10,
    "start_time": "2023-07-16T18:11:14.531Z"
   },
   {
    "duration": 8,
    "start_time": "2023-07-16T18:11:22.485Z"
   },
   {
    "duration": 46,
    "start_time": "2023-07-16T18:11:32.354Z"
   },
   {
    "duration": 60,
    "start_time": "2023-07-16T18:12:27.701Z"
   },
   {
    "duration": 44,
    "start_time": "2023-07-16T18:14:52.305Z"
   },
   {
    "duration": 39,
    "start_time": "2023-07-16T18:16:20.238Z"
   },
   {
    "duration": 45,
    "start_time": "2023-07-16T18:17:07.145Z"
   },
   {
    "duration": 62,
    "start_time": "2023-07-16T18:18:40.050Z"
   },
   {
    "duration": 28,
    "start_time": "2023-07-16T18:26:08.933Z"
   },
   {
    "duration": 51,
    "start_time": "2023-07-16T18:26:39.133Z"
   },
   {
    "duration": 25,
    "start_time": "2023-07-16T18:32:46.202Z"
   },
   {
    "duration": 30,
    "start_time": "2023-07-16T18:33:00.201Z"
   },
   {
    "duration": 32,
    "start_time": "2023-07-16T18:35:07.503Z"
   },
   {
    "duration": 10,
    "start_time": "2023-07-16T18:37:57.499Z"
   },
   {
    "duration": 20,
    "start_time": "2023-07-16T18:39:34.316Z"
   },
   {
    "duration": 11,
    "start_time": "2023-07-16T18:39:54.671Z"
   },
   {
    "duration": 11,
    "start_time": "2023-07-16T18:40:18.750Z"
   },
   {
    "duration": 17,
    "start_time": "2023-07-16T18:41:32.561Z"
   },
   {
    "duration": 144,
    "start_time": "2023-07-16T18:41:56.204Z"
   },
   {
    "duration": 165,
    "start_time": "2023-07-16T18:42:52.133Z"
   },
   {
    "duration": 882,
    "start_time": "2023-07-16T18:43:23.101Z"
   },
   {
    "duration": 193,
    "start_time": "2023-07-16T18:43:40.722Z"
   },
   {
    "duration": 245,
    "start_time": "2023-07-16T18:43:55.732Z"
   },
   {
    "duration": 227,
    "start_time": "2023-07-16T18:45:54.463Z"
   },
   {
    "duration": 37,
    "start_time": "2023-07-16T18:46:38.964Z"
   },
   {
    "duration": 202,
    "start_time": "2023-07-16T18:47:16.643Z"
   },
   {
    "duration": 206,
    "start_time": "2023-07-16T18:47:34.078Z"
   },
   {
    "duration": 175,
    "start_time": "2023-07-16T18:48:30.205Z"
   },
   {
    "duration": 166,
    "start_time": "2023-07-16T18:50:34.393Z"
   },
   {
    "duration": 212,
    "start_time": "2023-07-16T18:52:04.904Z"
   },
   {
    "duration": 148,
    "start_time": "2023-07-16T18:54:02.011Z"
   },
   {
    "duration": 135,
    "start_time": "2023-07-16T18:54:13.399Z"
   },
   {
    "duration": 45,
    "start_time": "2023-07-16T18:55:36.065Z"
   },
   {
    "duration": 53,
    "start_time": "2023-07-16T18:55:54.534Z"
   },
   {
    "duration": 44,
    "start_time": "2023-07-16T18:56:27.903Z"
   },
   {
    "duration": 50,
    "start_time": "2023-07-16T18:57:00.445Z"
   },
   {
    "duration": 43,
    "start_time": "2023-07-16T18:57:12.205Z"
   },
   {
    "duration": 42,
    "start_time": "2023-07-16T18:57:33.907Z"
   },
   {
    "duration": 36,
    "start_time": "2023-07-16T18:57:58.924Z"
   },
   {
    "duration": 50,
    "start_time": "2023-07-16T18:58:10.293Z"
   },
   {
    "duration": 35,
    "start_time": "2023-07-16T18:58:22.120Z"
   },
   {
    "duration": 54,
    "start_time": "2023-07-16T18:58:38.029Z"
   },
   {
    "duration": 37,
    "start_time": "2023-07-16T18:58:50.796Z"
   },
   {
    "duration": 35,
    "start_time": "2023-07-16T18:59:02.892Z"
   },
   {
    "duration": 41,
    "start_time": "2023-07-16T18:59:17.907Z"
   },
   {
    "duration": 49,
    "start_time": "2023-07-16T18:59:31.541Z"
   },
   {
    "duration": 70,
    "start_time": "2023-07-16T18:59:42.131Z"
   },
   {
    "duration": 49,
    "start_time": "2023-07-16T19:00:00.663Z"
   },
   {
    "duration": 45,
    "start_time": "2023-07-16T19:00:14.113Z"
   },
   {
    "duration": 43,
    "start_time": "2023-07-16T19:00:27.710Z"
   },
   {
    "duration": 35,
    "start_time": "2023-07-16T19:00:45.200Z"
   },
   {
    "duration": 115,
    "start_time": "2023-07-16T19:02:11.032Z"
   },
   {
    "duration": 133,
    "start_time": "2023-07-16T19:08:46.154Z"
   },
   {
    "duration": 157,
    "start_time": "2023-07-16T19:13:03.497Z"
   },
   {
    "duration": 141,
    "start_time": "2023-07-16T19:13:10.413Z"
   },
   {
    "duration": 224,
    "start_time": "2023-07-16T19:13:47.548Z"
   },
   {
    "duration": 303,
    "start_time": "2023-07-16T19:14:00.246Z"
   },
   {
    "duration": 127,
    "start_time": "2023-07-16T19:19:12.663Z"
   },
   {
    "duration": 12,
    "start_time": "2023-07-16T19:19:24.394Z"
   },
   {
    "duration": 11,
    "start_time": "2023-07-16T19:19:32.410Z"
   },
   {
    "duration": 10,
    "start_time": "2023-07-16T19:20:22.220Z"
   },
   {
    "duration": 21,
    "start_time": "2023-07-16T19:21:18.858Z"
   },
   {
    "duration": 13,
    "start_time": "2023-07-16T19:21:30.691Z"
   },
   {
    "duration": 10,
    "start_time": "2023-07-16T19:21:39.393Z"
   },
   {
    "duration": 58,
    "start_time": "2023-07-16T19:23:12.028Z"
   },
   {
    "duration": 50,
    "start_time": "2023-07-16T19:23:51.486Z"
   },
   {
    "duration": 38,
    "start_time": "2023-07-16T19:24:41.392Z"
   },
   {
    "duration": 46,
    "start_time": "2023-07-16T19:24:56.168Z"
   },
   {
    "duration": 40,
    "start_time": "2023-07-16T19:26:13.413Z"
   },
   {
    "duration": 43,
    "start_time": "2023-07-16T19:26:42.679Z"
   },
   {
    "duration": 30,
    "start_time": "2023-07-16T19:27:25.375Z"
   },
   {
    "duration": 34,
    "start_time": "2023-07-16T19:27:47.020Z"
   },
   {
    "duration": 29,
    "start_time": "2023-07-16T19:28:20.837Z"
   },
   {
    "duration": 32,
    "start_time": "2023-07-16T19:28:36.618Z"
   },
   {
    "duration": 31,
    "start_time": "2023-07-16T19:28:49.355Z"
   },
   {
    "duration": 37,
    "start_time": "2023-07-16T19:29:21.674Z"
   },
   {
    "duration": 36,
    "start_time": "2023-07-16T19:29:35.202Z"
   },
   {
    "duration": 253,
    "start_time": "2023-07-16T19:34:06.784Z"
   },
   {
    "duration": 465,
    "start_time": "2023-07-16T19:39:16.970Z"
   },
   {
    "duration": 493,
    "start_time": "2023-07-16T19:43:13.692Z"
   },
   {
    "duration": 354,
    "start_time": "2023-07-16T19:45:10.237Z"
   },
   {
    "duration": 12119,
    "start_time": "2023-07-16T19:48:34.464Z"
   },
   {
    "duration": 2544,
    "start_time": "2023-07-16T19:49:14.353Z"
   },
   {
    "duration": 2951,
    "start_time": "2023-07-16T19:50:21.657Z"
   },
   {
    "duration": 2596,
    "start_time": "2023-07-16T19:51:54.399Z"
   },
   {
    "duration": 13137,
    "start_time": "2023-07-16T19:53:34.822Z"
   },
   {
    "duration": 158893,
    "start_time": "2023-07-16T19:54:09.312Z"
   },
   {
    "duration": 2391,
    "start_time": "2023-07-16T19:56:50.708Z"
   },
   {
    "duration": 2369,
    "start_time": "2023-07-16T19:57:29.806Z"
   },
   {
    "duration": 2434,
    "start_time": "2023-07-16T19:58:13.524Z"
   },
   {
    "duration": 2721,
    "start_time": "2023-07-16T19:58:34.252Z"
   },
   {
    "duration": 2376,
    "start_time": "2023-07-16T19:59:35.603Z"
   },
   {
    "duration": 359,
    "start_time": "2023-07-16T20:01:32.558Z"
   },
   {
    "duration": 336,
    "start_time": "2023-07-16T20:03:13.057Z"
   },
   {
    "duration": 451,
    "start_time": "2023-07-16T20:05:00.690Z"
   },
   {
    "duration": 547,
    "start_time": "2023-07-16T20:15:37.422Z"
   },
   {
    "duration": 192223,
    "start_time": "2023-07-16T20:18:02.567Z"
   },
   {
    "duration": 10,
    "start_time": "2023-07-16T20:34:48.897Z"
   },
   {
    "duration": 10,
    "start_time": "2023-07-16T20:35:56.189Z"
   },
   {
    "duration": 12,
    "start_time": "2023-07-16T20:37:41.193Z"
   },
   {
    "duration": 11,
    "start_time": "2023-07-16T20:38:13.490Z"
   },
   {
    "duration": 19,
    "start_time": "2023-07-16T20:39:01.625Z"
   },
   {
    "duration": 19,
    "start_time": "2023-07-16T20:39:14.394Z"
   },
   {
    "duration": 863,
    "start_time": "2023-07-16T20:40:41.498Z"
   },
   {
    "duration": 595,
    "start_time": "2023-07-16T20:41:20.704Z"
   },
   {
    "duration": 502,
    "start_time": "2023-07-16T20:42:33.324Z"
   },
   {
    "duration": 488,
    "start_time": "2023-07-16T20:43:06.664Z"
   },
   {
    "duration": 618,
    "start_time": "2023-07-16T20:43:38.262Z"
   },
   {
    "duration": 608,
    "start_time": "2023-07-16T20:44:10.654Z"
   },
   {
    "duration": 355,
    "start_time": "2023-07-16T20:45:46.896Z"
   },
   {
    "duration": 303,
    "start_time": "2023-07-16T20:46:45.151Z"
   },
   {
    "duration": 368,
    "start_time": "2023-07-16T20:47:17.716Z"
   },
   {
    "duration": 374,
    "start_time": "2023-07-16T20:48:12.584Z"
   },
   {
    "duration": 36,
    "start_time": "2023-07-16T20:55:03.852Z"
   },
   {
    "duration": 44,
    "start_time": "2023-07-16T20:57:19.434Z"
   },
   {
    "duration": 30,
    "start_time": "2023-07-16T20:58:10.523Z"
   },
   {
    "duration": 37,
    "start_time": "2023-07-16T20:59:48.834Z"
   },
   {
    "duration": 36,
    "start_time": "2023-07-16T21:00:35.058Z"
   },
   {
    "duration": 26,
    "start_time": "2023-07-16T21:00:57.273Z"
   },
   {
    "duration": 23,
    "start_time": "2023-07-16T21:01:56.506Z"
   },
   {
    "duration": 33,
    "start_time": "2023-07-16T21:02:10.655Z"
   },
   {
    "duration": 29,
    "start_time": "2023-07-16T21:02:20.930Z"
   },
   {
    "duration": 21,
    "start_time": "2023-07-16T21:03:22.866Z"
   },
   {
    "duration": 36,
    "start_time": "2023-07-16T21:04:23.845Z"
   },
   {
    "duration": 31,
    "start_time": "2023-07-16T21:04:51.927Z"
   },
   {
    "duration": 31,
    "start_time": "2023-07-16T21:05:01.089Z"
   },
   {
    "duration": 34,
    "start_time": "2023-07-16T21:05:30.605Z"
   },
   {
    "duration": 39,
    "start_time": "2023-07-16T21:06:40.570Z"
   },
   {
    "duration": 39,
    "start_time": "2023-07-16T21:06:48.470Z"
   },
   {
    "duration": 22,
    "start_time": "2023-07-16T21:06:58.705Z"
   },
   {
    "duration": 28,
    "start_time": "2023-07-16T21:07:26.104Z"
   },
   {
    "duration": 11,
    "start_time": "2023-07-16T21:07:58.502Z"
   },
   {
    "duration": 26,
    "start_time": "2023-07-16T21:08:54.516Z"
   },
   {
    "duration": 18,
    "start_time": "2023-07-16T21:09:33.877Z"
   },
   {
    "duration": 37,
    "start_time": "2023-07-16T21:11:04.468Z"
   },
   {
    "duration": 18,
    "start_time": "2023-07-16T21:11:13.964Z"
   },
   {
    "duration": 38,
    "start_time": "2023-07-16T21:12:26.517Z"
   },
   {
    "duration": 13,
    "start_time": "2023-07-16T21:13:12.247Z"
   },
   {
    "duration": 26,
    "start_time": "2023-07-16T21:16:22.726Z"
   },
   {
    "duration": 61,
    "start_time": "2023-07-16T21:16:32.886Z"
   },
   {
    "duration": 39,
    "start_time": "2023-07-16T21:17:17.830Z"
   },
   {
    "duration": 33,
    "start_time": "2023-07-16T21:18:52.117Z"
   },
   {
    "duration": 35,
    "start_time": "2023-07-16T21:19:09.228Z"
   },
   {
    "duration": 43,
    "start_time": "2023-07-16T21:19:36.813Z"
   },
   {
    "duration": 54,
    "start_time": "2023-07-16T21:20:18.539Z"
   },
   {
    "duration": 15,
    "start_time": "2023-07-16T21:20:45.447Z"
   },
   {
    "duration": 56,
    "start_time": "2023-07-16T21:20:59.277Z"
   },
   {
    "duration": 41,
    "start_time": "2023-07-16T21:24:26.854Z"
   },
   {
    "duration": 29,
    "start_time": "2023-07-16T21:26:03.908Z"
   },
   {
    "duration": 23,
    "start_time": "2023-07-16T21:28:07.005Z"
   },
   {
    "duration": 33,
    "start_time": "2023-07-16T21:28:22.757Z"
   },
   {
    "duration": 11,
    "start_time": "2023-07-16T21:29:06.453Z"
   },
   {
    "duration": 11,
    "start_time": "2023-07-16T21:29:45.023Z"
   },
   {
    "duration": 18,
    "start_time": "2023-07-16T21:31:06.937Z"
   },
   {
    "duration": 17,
    "start_time": "2023-07-16T21:31:55.756Z"
   },
   {
    "duration": 12,
    "start_time": "2023-07-16T21:32:26.312Z"
   },
   {
    "duration": 11,
    "start_time": "2023-07-16T21:32:53.520Z"
   },
   {
    "duration": 14,
    "start_time": "2023-07-16T21:35:37.584Z"
   },
   {
    "duration": 23,
    "start_time": "2023-07-16T21:38:05.251Z"
   },
   {
    "duration": 14,
    "start_time": "2023-07-16T21:38:55.987Z"
   },
   {
    "duration": 13,
    "start_time": "2023-07-16T21:39:43.286Z"
   },
   {
    "duration": 18,
    "start_time": "2023-07-16T21:40:11.548Z"
   },
   {
    "duration": 15,
    "start_time": "2023-07-16T21:40:55.721Z"
   },
   {
    "duration": 16,
    "start_time": "2023-07-16T21:41:00.592Z"
   },
   {
    "duration": 21,
    "start_time": "2023-07-16T21:41:58.164Z"
   },
   {
    "duration": 14,
    "start_time": "2023-07-16T21:44:34.149Z"
   },
   {
    "duration": 14,
    "start_time": "2023-07-16T21:44:49.135Z"
   },
   {
    "duration": 65,
    "start_time": "2023-07-16T21:45:13.897Z"
   },
   {
    "duration": 10,
    "start_time": "2023-07-16T21:45:25.047Z"
   },
   {
    "duration": 14,
    "start_time": "2023-07-16T21:46:24.490Z"
   },
   {
    "duration": 14,
    "start_time": "2023-07-16T21:46:30.816Z"
   },
   {
    "duration": 12,
    "start_time": "2023-07-16T21:47:45.208Z"
   },
   {
    "duration": 15,
    "start_time": "2023-07-16T21:48:30.294Z"
   },
   {
    "duration": 12,
    "start_time": "2023-07-16T21:48:42.720Z"
   },
   {
    "duration": 11,
    "start_time": "2023-07-16T21:49:37.299Z"
   },
   {
    "duration": 12,
    "start_time": "2023-07-16T21:49:41.929Z"
   },
   {
    "duration": 11,
    "start_time": "2023-07-16T21:51:06.387Z"
   },
   {
    "duration": 12,
    "start_time": "2023-07-16T21:52:53.347Z"
   },
   {
    "duration": 117,
    "start_time": "2023-07-16T21:54:50.311Z"
   },
   {
    "duration": 10,
    "start_time": "2023-07-16T21:55:00.800Z"
   },
   {
    "duration": 14,
    "start_time": "2023-07-16T21:55:51.788Z"
   },
   {
    "duration": 17,
    "start_time": "2023-07-16T21:58:14.762Z"
   },
   {
    "duration": 13,
    "start_time": "2023-07-16T21:58:41.034Z"
   },
   {
    "duration": 148,
    "start_time": "2023-07-16T22:00:54.498Z"
   },
   {
    "duration": 23,
    "start_time": "2023-07-16T22:01:01.962Z"
   },
   {
    "duration": 127,
    "start_time": "2023-07-16T22:01:21.407Z"
   },
   {
    "duration": 14,
    "start_time": "2023-07-16T22:01:29.136Z"
   },
   {
    "duration": 16,
    "start_time": "2023-07-16T22:02:32.601Z"
   },
   {
    "duration": 18,
    "start_time": "2023-07-16T22:06:01.268Z"
   },
   {
    "duration": 13,
    "start_time": "2023-07-16T22:06:24.067Z"
   },
   {
    "duration": 14,
    "start_time": "2023-07-16T22:07:13.838Z"
   },
   {
    "duration": 12,
    "start_time": "2023-07-16T22:07:38.934Z"
   },
   {
    "duration": 14,
    "start_time": "2023-07-16T22:07:54.206Z"
   },
   {
    "duration": 13,
    "start_time": "2023-07-16T22:09:01.117Z"
   },
   {
    "duration": 14,
    "start_time": "2023-07-16T22:09:15.413Z"
   },
   {
    "duration": 12,
    "start_time": "2023-07-16T22:09:24.541Z"
   },
   {
    "duration": 14,
    "start_time": "2023-07-16T22:09:47.909Z"
   },
   {
    "duration": 21,
    "start_time": "2023-07-16T22:09:50.879Z"
   },
   {
    "duration": 14,
    "start_time": "2023-07-16T22:18:13.845Z"
   },
   {
    "duration": 15,
    "start_time": "2023-07-16T22:19:15.414Z"
   },
   {
    "duration": 22,
    "start_time": "2023-07-16T22:19:48.623Z"
   },
   {
    "duration": 21,
    "start_time": "2023-07-16T22:20:04.655Z"
   },
   {
    "duration": 25,
    "start_time": "2023-07-16T22:22:16.610Z"
   },
   {
    "duration": 37,
    "start_time": "2023-07-16T22:23:03.348Z"
   },
   {
    "duration": 25,
    "start_time": "2023-07-16T22:25:20.013Z"
   },
   {
    "duration": 22,
    "start_time": "2023-07-16T22:26:19.527Z"
   },
   {
    "duration": 18,
    "start_time": "2023-07-16T22:27:05.125Z"
   },
   {
    "duration": 16,
    "start_time": "2023-07-16T22:29:10.415Z"
   },
   {
    "duration": 22,
    "start_time": "2023-07-16T22:30:57.913Z"
   },
   {
    "duration": 16,
    "start_time": "2023-07-16T22:34:12.144Z"
   },
   {
    "duration": 20,
    "start_time": "2023-07-16T22:36:02.436Z"
   },
   {
    "duration": 21,
    "start_time": "2023-07-16T22:36:29.710Z"
   },
   {
    "duration": 13,
    "start_time": "2023-07-16T22:39:14.652Z"
   },
   {
    "duration": 27,
    "start_time": "2023-07-16T22:44:00.062Z"
   },
   {
    "duration": 21,
    "start_time": "2023-07-16T22:45:43.457Z"
   },
   {
    "duration": 22,
    "start_time": "2023-07-16T22:48:02.835Z"
   },
   {
    "duration": 15,
    "start_time": "2023-07-16T22:49:46.089Z"
   },
   {
    "duration": 16,
    "start_time": "2023-07-16T22:50:12.434Z"
   },
   {
    "duration": 17,
    "start_time": "2023-07-16T22:50:39.386Z"
   },
   {
    "duration": 16,
    "start_time": "2023-07-16T22:53:37.590Z"
   },
   {
    "duration": 22,
    "start_time": "2023-07-16T22:57:18.631Z"
   },
   {
    "duration": 16,
    "start_time": "2023-07-16T22:59:05.135Z"
   },
   {
    "duration": 16,
    "start_time": "2023-07-16T23:01:08.533Z"
   },
   {
    "duration": 20,
    "start_time": "2023-07-16T23:02:17.894Z"
   },
   {
    "duration": 26,
    "start_time": "2023-07-16T23:03:47.356Z"
   },
   {
    "duration": 18,
    "start_time": "2023-07-16T23:05:18.983Z"
   },
   {
    "duration": 7,
    "start_time": "2023-07-16T23:30:22.094Z"
   },
   {
    "duration": 12,
    "start_time": "2023-07-16T23:31:08.305Z"
   },
   {
    "duration": 9,
    "start_time": "2023-07-16T23:54:48.007Z"
   },
   {
    "duration": 11,
    "start_time": "2023-07-16T23:55:36.729Z"
   },
   {
    "duration": 9,
    "start_time": "2023-07-17T00:00:51.897Z"
   },
   {
    "duration": 10,
    "start_time": "2023-07-17T00:01:02.752Z"
   },
   {
    "duration": 13,
    "start_time": "2023-07-17T00:01:25.097Z"
   },
   {
    "duration": 21,
    "start_time": "2023-07-17T00:02:45.655Z"
   },
   {
    "duration": 18,
    "start_time": "2023-07-17T00:02:56.916Z"
   },
   {
    "duration": 12,
    "start_time": "2023-07-17T00:04:41.154Z"
   },
   {
    "duration": 23,
    "start_time": "2023-07-17T00:05:05.807Z"
   },
   {
    "duration": 14,
    "start_time": "2023-07-17T00:07:09.399Z"
   },
   {
    "duration": 22,
    "start_time": "2023-07-17T00:07:46.326Z"
   },
   {
    "duration": 22,
    "start_time": "2023-07-17T00:07:58.813Z"
   },
   {
    "duration": 18,
    "start_time": "2023-07-17T00:08:17.388Z"
   },
   {
    "duration": 15,
    "start_time": "2023-07-17T00:15:12.532Z"
   },
   {
    "duration": 10,
    "start_time": "2023-07-17T00:22:32.534Z"
   },
   {
    "duration": 9,
    "start_time": "2023-07-17T00:25:58.803Z"
   },
   {
    "duration": 10,
    "start_time": "2023-07-17T00:28:57.148Z"
   },
   {
    "duration": 10,
    "start_time": "2023-07-17T00:30:25.991Z"
   },
   {
    "duration": 11,
    "start_time": "2023-07-17T00:40:13.478Z"
   },
   {
    "duration": 15,
    "start_time": "2023-07-17T00:44:24.961Z"
   },
   {
    "duration": 10,
    "start_time": "2023-07-17T00:44:37.828Z"
   },
   {
    "duration": 9,
    "start_time": "2023-07-17T00:44:48.984Z"
   },
   {
    "duration": 9,
    "start_time": "2023-07-17T00:47:37.139Z"
   },
   {
    "duration": 5728,
    "start_time": "2023-07-18T12:05:59.342Z"
   },
   {
    "duration": 172,
    "start_time": "2023-07-18T12:06:05.073Z"
   },
   {
    "duration": 20,
    "start_time": "2023-07-18T12:06:05.248Z"
   },
   {
    "duration": 12,
    "start_time": "2023-07-18T12:06:05.271Z"
   },
   {
    "duration": 26,
    "start_time": "2023-07-18T12:06:05.285Z"
   },
   {
    "duration": 219,
    "start_time": "2023-07-18T12:06:05.313Z"
   },
   {
    "duration": 6,
    "start_time": "2023-07-18T12:06:05.534Z"
   },
   {
    "duration": 29,
    "start_time": "2023-07-18T12:06:05.542Z"
   },
   {
    "duration": 198,
    "start_time": "2023-07-18T12:06:05.573Z"
   },
   {
    "duration": 8,
    "start_time": "2023-07-18T12:06:05.774Z"
   },
   {
    "duration": 28,
    "start_time": "2023-07-18T12:06:05.785Z"
   },
   {
    "duration": 47,
    "start_time": "2023-07-18T12:06:05.815Z"
   },
   {
    "duration": 42,
    "start_time": "2023-07-18T12:06:05.863Z"
   },
   {
    "duration": 48,
    "start_time": "2023-07-18T12:06:05.908Z"
   },
   {
    "duration": 89,
    "start_time": "2023-07-18T12:06:05.959Z"
   },
   {
    "duration": 12,
    "start_time": "2023-07-18T12:06:06.050Z"
   },
   {
    "duration": 42,
    "start_time": "2023-07-18T12:06:06.064Z"
   },
   {
    "duration": 27,
    "start_time": "2023-07-18T12:06:06.108Z"
   },
   {
    "duration": 19,
    "start_time": "2023-07-18T12:06:06.137Z"
   },
   {
    "duration": 32,
    "start_time": "2023-07-18T12:06:06.167Z"
   },
   {
    "duration": 48,
    "start_time": "2023-07-18T12:06:06.201Z"
   },
   {
    "duration": 21,
    "start_time": "2023-07-18T12:06:06.251Z"
   },
   {
    "duration": 28,
    "start_time": "2023-07-18T12:06:06.274Z"
   },
   {
    "duration": 153,
    "start_time": "2023-07-18T12:06:06.304Z"
   },
   {
    "duration": 24,
    "start_time": "2023-07-18T12:06:06.466Z"
   },
   {
    "duration": 199,
    "start_time": "2023-07-18T12:06:06.492Z"
   },
   {
    "duration": 214,
    "start_time": "2023-07-18T12:06:06.694Z"
   },
   {
    "duration": 30,
    "start_time": "2023-07-18T12:06:06.913Z"
   },
   {
    "duration": 288,
    "start_time": "2023-07-18T12:06:06.945Z"
   },
   {
    "duration": 136,
    "start_time": "2023-07-18T12:06:07.236Z"
   },
   {
    "duration": 128,
    "start_time": "2023-07-18T12:06:07.374Z"
   },
   {
    "duration": 15,
    "start_time": "2023-07-18T12:06:07.504Z"
   },
   {
    "duration": 10,
    "start_time": "2023-07-18T12:06:12.554Z"
   },
   {
    "duration": 4620,
    "start_time": "2023-07-19T09:23:38.482Z"
   },
   {
    "duration": 79,
    "start_time": "2023-07-19T09:23:43.104Z"
   },
   {
    "duration": 14,
    "start_time": "2023-07-19T09:23:43.185Z"
   },
   {
    "duration": 9,
    "start_time": "2023-07-19T09:23:43.202Z"
   },
   {
    "duration": 10,
    "start_time": "2023-07-19T09:23:43.213Z"
   },
   {
    "duration": 187,
    "start_time": "2023-07-19T09:23:43.224Z"
   },
   {
    "duration": 5,
    "start_time": "2023-07-19T09:23:43.413Z"
   },
   {
    "duration": 7,
    "start_time": "2023-07-19T09:23:43.419Z"
   },
   {
    "duration": 184,
    "start_time": "2023-07-19T09:23:43.428Z"
   },
   {
    "duration": 5,
    "start_time": "2023-07-19T09:23:43.615Z"
   },
   {
    "duration": 7,
    "start_time": "2023-07-19T09:23:43.622Z"
   },
   {
    "duration": 23,
    "start_time": "2023-07-19T09:23:43.631Z"
   },
   {
    "duration": 18,
    "start_time": "2023-07-19T09:23:43.656Z"
   },
   {
    "duration": 26,
    "start_time": "2023-07-19T09:23:43.676Z"
   },
   {
    "duration": 55,
    "start_time": "2023-07-19T09:23:43.704Z"
   },
   {
    "duration": 10,
    "start_time": "2023-07-19T09:23:43.760Z"
   },
   {
    "duration": 23,
    "start_time": "2023-07-19T09:23:43.772Z"
   },
   {
    "duration": 20,
    "start_time": "2023-07-19T09:23:43.796Z"
   },
   {
    "duration": 35,
    "start_time": "2023-07-19T09:23:43.818Z"
   },
   {
    "duration": 20,
    "start_time": "2023-07-19T09:23:43.855Z"
   },
   {
    "duration": 9,
    "start_time": "2023-07-19T09:23:43.877Z"
   },
   {
    "duration": 6,
    "start_time": "2023-07-19T09:23:43.888Z"
   },
   {
    "duration": 19,
    "start_time": "2023-07-19T09:23:43.896Z"
   },
   {
    "duration": 161,
    "start_time": "2023-07-19T09:23:43.917Z"
   },
   {
    "duration": 20,
    "start_time": "2023-07-19T09:23:44.079Z"
   },
   {
    "duration": 166,
    "start_time": "2023-07-19T09:23:44.101Z"
   },
   {
    "duration": 154,
    "start_time": "2023-07-19T09:23:44.268Z"
   },
   {
    "duration": 12,
    "start_time": "2023-07-19T09:23:44.426Z"
   },
   {
    "duration": 209,
    "start_time": "2023-07-19T09:23:44.452Z"
   },
   {
    "duration": 125,
    "start_time": "2023-07-19T09:23:44.662Z"
   },
   {
    "duration": 115,
    "start_time": "2023-07-19T09:23:44.789Z"
   },
   {
    "duration": 12,
    "start_time": "2023-07-19T09:23:44.906Z"
   },
   {
    "duration": 19,
    "start_time": "2023-07-19T09:23:44.919Z"
   },
   {
    "duration": 28,
    "start_time": "2023-07-19T09:23:44.940Z"
   },
   {
    "duration": 21,
    "start_time": "2023-07-19T09:23:44.969Z"
   },
   {
    "duration": 11719,
    "start_time": "2023-07-19T09:23:44.992Z"
   },
   {
    "duration": 2051,
    "start_time": "2023-07-19T09:23:56.712Z"
   },
   {
    "duration": 823,
    "start_time": "2023-07-19T09:23:58.765Z"
   },
   {
    "duration": 908,
    "start_time": "2023-07-19T09:23:59.590Z"
   },
   {
    "duration": 18,
    "start_time": "2023-07-19T09:24:00.501Z"
   },
   {
    "duration": 55,
    "start_time": "2023-07-19T09:24:00.521Z"
   },
   {
    "duration": 26,
    "start_time": "2023-07-19T09:24:00.578Z"
   },
   {
    "duration": 37,
    "start_time": "2023-07-19T09:24:00.606Z"
   },
   {
    "duration": 33,
    "start_time": "2023-07-19T09:24:00.651Z"
   },
   {
    "duration": 222,
    "start_time": "2023-07-19T09:24:00.686Z"
   },
   {
    "duration": 214,
    "start_time": "2023-07-19T09:24:00.910Z"
   },
   {
    "duration": 365,
    "start_time": "2023-07-19T09:24:01.126Z"
   },
   {
    "duration": 289,
    "start_time": "2023-07-19T09:24:01.492Z"
   },
   {
    "duration": 2031,
    "start_time": "2023-07-19T09:24:01.783Z"
   },
   {
    "duration": 275,
    "start_time": "2023-07-19T09:24:03.816Z"
   },
   {
    "duration": 368,
    "start_time": "2023-07-19T09:24:04.094Z"
   },
   {
    "duration": 408,
    "start_time": "2023-07-19T09:24:04.464Z"
   },
   {
    "duration": 517,
    "start_time": "2023-07-19T09:24:04.873Z"
   },
   {
    "duration": 15,
    "start_time": "2023-07-19T09:24:05.392Z"
   },
   {
    "duration": 21,
    "start_time": "2023-07-19T09:24:05.409Z"
   },
   {
    "duration": 40,
    "start_time": "2023-07-19T09:24:05.432Z"
   },
   {
    "duration": 27,
    "start_time": "2023-07-19T09:24:05.473Z"
   },
   {
    "duration": 33,
    "start_time": "2023-07-19T09:24:05.501Z"
   },
   {
    "duration": 36,
    "start_time": "2023-07-19T09:24:05.536Z"
   },
   {
    "duration": 13,
    "start_time": "2023-07-19T09:24:05.574Z"
   },
   {
    "duration": 25,
    "start_time": "2023-07-19T09:24:05.588Z"
   },
   {
    "duration": 20,
    "start_time": "2023-07-19T09:24:05.614Z"
   },
   {
    "duration": 7,
    "start_time": "2023-07-19T09:24:05.636Z"
   },
   {
    "duration": 19,
    "start_time": "2023-07-19T09:24:05.645Z"
   },
   {
    "duration": 38,
    "start_time": "2023-07-19T09:24:05.666Z"
   },
   {
    "duration": 28,
    "start_time": "2023-07-19T09:24:05.706Z"
   },
   {
    "duration": 3476,
    "start_time": "2023-07-19T10:21:39.314Z"
   },
   {
    "duration": 84,
    "start_time": "2023-07-19T10:21:42.792Z"
   },
   {
    "duration": 14,
    "start_time": "2023-07-19T10:21:42.878Z"
   },
   {
    "duration": 19,
    "start_time": "2023-07-19T10:21:42.895Z"
   },
   {
    "duration": 16,
    "start_time": "2023-07-19T10:21:42.916Z"
   },
   {
    "duration": 226,
    "start_time": "2023-07-19T10:21:42.934Z"
   },
   {
    "duration": 7,
    "start_time": "2023-07-19T10:21:43.165Z"
   },
   {
    "duration": 13,
    "start_time": "2023-07-19T10:21:43.174Z"
   },
   {
    "duration": 193,
    "start_time": "2023-07-19T10:21:43.189Z"
   },
   {
    "duration": 6,
    "start_time": "2023-07-19T10:21:43.385Z"
   },
   {
    "duration": 10,
    "start_time": "2023-07-19T10:21:43.393Z"
   },
   {
    "duration": 6,
    "start_time": "2023-07-19T10:21:43.405Z"
   },
   {
    "duration": 16,
    "start_time": "2023-07-19T10:21:43.413Z"
   },
   {
    "duration": 27,
    "start_time": "2023-07-19T10:21:43.430Z"
   },
   {
    "duration": 57,
    "start_time": "2023-07-19T10:21:43.458Z"
   },
   {
    "duration": 11,
    "start_time": "2023-07-19T10:21:43.517Z"
   },
   {
    "duration": 38,
    "start_time": "2023-07-19T10:21:43.530Z"
   },
   {
    "duration": 24,
    "start_time": "2023-07-19T10:21:43.570Z"
   },
   {
    "duration": 19,
    "start_time": "2023-07-19T10:21:43.596Z"
   },
   {
    "duration": 52,
    "start_time": "2023-07-19T10:21:43.617Z"
   },
   {
    "duration": 16,
    "start_time": "2023-07-19T10:21:43.671Z"
   },
   {
    "duration": 10,
    "start_time": "2023-07-19T10:21:43.689Z"
   },
   {
    "duration": 30,
    "start_time": "2023-07-19T10:21:43.701Z"
   },
   {
    "duration": 139,
    "start_time": "2023-07-19T10:21:43.733Z"
   },
   {
    "duration": 20,
    "start_time": "2023-07-19T10:21:43.874Z"
   },
   {
    "duration": 175,
    "start_time": "2023-07-19T10:21:43.896Z"
   },
   {
    "duration": 154,
    "start_time": "2023-07-19T10:21:44.073Z"
   },
   {
    "duration": 36,
    "start_time": "2023-07-19T10:21:44.233Z"
   },
   {
    "duration": 234,
    "start_time": "2023-07-19T10:21:44.272Z"
   },
   {
    "duration": 120,
    "start_time": "2023-07-19T10:21:44.508Z"
   },
   {
    "duration": 118,
    "start_time": "2023-07-19T10:21:44.629Z"
   },
   {
    "duration": 27,
    "start_time": "2023-07-19T10:21:44.749Z"
   },
   {
    "duration": 11,
    "start_time": "2023-07-19T10:21:44.778Z"
   },
   {
    "duration": 23,
    "start_time": "2023-07-19T10:21:44.791Z"
   },
   {
    "duration": 39,
    "start_time": "2023-07-19T10:21:44.816Z"
   },
   {
    "duration": 12420,
    "start_time": "2023-07-19T10:21:44.857Z"
   },
   {
    "duration": 2037,
    "start_time": "2023-07-19T10:21:57.280Z"
   },
   {
    "duration": 863,
    "start_time": "2023-07-19T10:21:59.320Z"
   },
   {
    "duration": 939,
    "start_time": "2023-07-19T10:22:00.185Z"
   },
   {
    "duration": 38,
    "start_time": "2023-07-19T10:22:01.126Z"
   },
   {
    "duration": 70,
    "start_time": "2023-07-19T10:22:01.169Z"
   },
   {
    "duration": 77,
    "start_time": "2023-07-19T10:22:01.241Z"
   },
   {
    "duration": 75,
    "start_time": "2023-07-19T10:22:01.320Z"
   },
   {
    "duration": 68,
    "start_time": "2023-07-19T10:22:01.397Z"
   },
   {
    "duration": 267,
    "start_time": "2023-07-19T10:22:01.467Z"
   },
   {
    "duration": 234,
    "start_time": "2023-07-19T10:22:01.736Z"
   },
   {
    "duration": 354,
    "start_time": "2023-07-19T10:22:01.972Z"
   },
   {
    "duration": 357,
    "start_time": "2023-07-19T10:22:02.328Z"
   },
   {
    "duration": 2081,
    "start_time": "2023-07-19T10:22:02.687Z"
   },
   {
    "duration": 319,
    "start_time": "2023-07-19T10:22:04.770Z"
   },
   {
    "duration": 308,
    "start_time": "2023-07-19T10:22:05.091Z"
   },
   {
    "duration": 414,
    "start_time": "2023-07-19T10:22:05.401Z"
   },
   {
    "duration": 509,
    "start_time": "2023-07-19T10:22:05.817Z"
   },
   {
    "duration": 25,
    "start_time": "2023-07-19T10:22:06.328Z"
   },
   {
    "duration": 37,
    "start_time": "2023-07-19T10:22:06.354Z"
   },
   {
    "duration": 25,
    "start_time": "2023-07-19T10:22:06.393Z"
   },
   {
    "duration": 13,
    "start_time": "2023-07-19T10:22:06.419Z"
   },
   {
    "duration": 12,
    "start_time": "2023-07-19T10:22:06.434Z"
   },
   {
    "duration": 32,
    "start_time": "2023-07-19T10:22:06.448Z"
   },
   {
    "duration": 18,
    "start_time": "2023-07-19T10:22:06.481Z"
   },
   {
    "duration": 13,
    "start_time": "2023-07-19T10:22:06.501Z"
   },
   {
    "duration": 14,
    "start_time": "2023-07-19T10:22:06.515Z"
   },
   {
    "duration": 9,
    "start_time": "2023-07-19T10:22:06.530Z"
   },
   {
    "duration": 31,
    "start_time": "2023-07-19T10:22:06.541Z"
   },
   {
    "duration": 24,
    "start_time": "2023-07-19T10:22:06.574Z"
   },
   {
    "duration": 18,
    "start_time": "2023-07-19T10:22:06.600Z"
   },
   {
    "duration": 13982,
    "start_time": "2023-07-19T10:22:48.329Z"
   },
   {
    "duration": 14036,
    "start_time": "2023-07-19T10:23:38.339Z"
   }
  ],
  "kernelspec": {
   "display_name": "Python 3 (ipykernel)",
   "language": "python",
   "name": "python3"
  },
  "language_info": {
   "codemirror_mode": {
    "name": "ipython",
    "version": 3
   },
   "file_extension": ".py",
   "mimetype": "text/x-python",
   "name": "python",
   "nbconvert_exporter": "python",
   "pygments_lexer": "ipython3",
   "version": "3.9.13"
  },
  "toc": {
   "base_numbering": 1,
   "nav_menu": {},
   "number_sections": true,
   "sideBar": true,
   "skip_h1_title": true,
   "title_cell": "Table of Contents",
   "title_sidebar": "Contents",
   "toc_cell": false,
   "toc_position": {
    "height": "calc(100% - 180px)",
    "left": "10px",
    "top": "150px",
    "width": "165px"
   },
   "toc_section_display": true,
   "toc_window_display": true
  }
 },
 "nbformat": 4,
 "nbformat_minor": 2
}
