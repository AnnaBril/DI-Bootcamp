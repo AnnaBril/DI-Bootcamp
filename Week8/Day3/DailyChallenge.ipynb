{
 "cells": [
  {
   "cell_type": "markdown",
   "id": "10d7937d",
   "metadata": {},
   "source": [
    "# Daily Challenge: Creating A Text Generator"
   ]
  },
  {
   "cell_type": "markdown",
   "id": "b4905c83",
   "metadata": {},
   "source": [
    "## Preprocess Text Data:\n",
    "1. Access the text\n",
    "2. Create a preprocess function to clean non-words not relevant to the context using regular expressions\n",
    "3. Split the text: how you should split the text considering the final objective of this project is to create a sentence?\n",
    "- return the splited text as the corpus\n",
    "\n",
    "4. print the first 200 characteres of the corpus.\n",
    "Are there parts of the text that are not relevant to the analysis? If so, the function should remove them as well.\n",
    "\n",
    "hint: you can use slicing to start and stop the text where you need (ignoring autoral credits in the begining and end) looking for the following phrases:\n",
    "\n",
    "*** START\n",
    "*** END\n",
    "\n",
    "5. Using Tokenizer(), create the vocabulary and a variable called total_words which will be the lenght of tokenizer.word_index + 1"
   ]
  },
  {
   "cell_type": "code",
   "execution_count": null,
   "id": "4df09ffa",
   "metadata": {},
   "outputs": [],
   "source": [
    "pip install numpy tensorflow requests"
   ]
  },
  {
   "cell_type": "code",
   "execution_count": 1,
   "id": "2755c92c",
   "metadata": {},
   "outputs": [
    {
     "name": "stderr",
     "output_type": "stream",
     "text": [
      "C:\\Users\\Acer\\anaconda3\\lib\\site-packages\\scipy\\__init__.py:155: UserWarning: A NumPy version >=1.18.5 and <1.25.0 is required for this version of SciPy (detected version 1.26.3\n",
      "  warnings.warn(f\"A NumPy version >={np_minversion} and <{np_maxversion}\"\n"
     ]
    }
   ],
   "source": [
    "import pandas as pd\n",
    "import re\n",
    "import nltk\n",
    "#nltk.download('punkt')\n",
    "from nltk.tokenize import word_tokenize\n",
    "from nltk.corpus import stopwords\n",
    "from nltk.tokenize import word_tokenize\n",
    "from nltk.stem import PorterStemmer\n",
    "#nltk.download('stopwords')\n",
    "from nltk.stem import PorterStemmer\n",
    "import spacy\n",
    "from nltk import pos_tag\n",
    "from nltk import pos_tag, ne_chunk\n",
    "from gensim.models import Word2Vec\n",
    "import gensim.downloader as api\n",
    "#nltk.download('averaged_perceptron_tagger')\n",
    "#nltk.download('maxent_ne_chunker')\n",
    "#nltk.download('words')\n",
    "from collections import Counter\n",
    "from sklearn.feature_extraction.text import CountVectorizer\n",
    "from sklearn.feature_extraction.text import TfidfVectorizer\n",
    "from sklearn.model_selection import train_test_split\n",
    "from sklearn.linear_model import LogisticRegression\n",
    "from sklearn.metrics import accuracy_score, classification_report, confusion_matrix\n",
    "import numpy as np"
   ]
  },
  {
   "cell_type": "code",
   "execution_count": null,
   "id": "bcd9fd57",
   "metadata": {},
   "outputs": [],
   "source": []
  },
  {
   "cell_type": "code",
   "execution_count": null,
   "id": "0392c02f",
   "metadata": {},
   "outputs": [],
   "source": []
  },
  {
   "cell_type": "code",
   "execution_count": null,
   "id": "9956346f",
   "metadata": {},
   "outputs": [],
   "source": []
  },
  {
   "cell_type": "code",
   "execution_count": null,
   "id": "8872fee0",
   "metadata": {},
   "outputs": [],
   "source": []
  },
  {
   "cell_type": "code",
   "execution_count": null,
   "id": "0e58dad0",
   "metadata": {},
   "outputs": [],
   "source": []
  },
  {
   "cell_type": "code",
   "execution_count": null,
   "id": "40aebba3",
   "metadata": {},
   "outputs": [],
   "source": []
  },
  {
   "cell_type": "code",
   "execution_count": null,
   "id": "38e23c74",
   "metadata": {},
   "outputs": [],
   "source": []
  },
  {
   "cell_type": "code",
   "execution_count": null,
   "id": "a87b4e6b",
   "metadata": {},
   "outputs": [],
   "source": []
  }
 ],
 "metadata": {
  "kernelspec": {
   "display_name": "Python 3 (ipykernel)",
   "language": "python",
   "name": "python3"
  },
  "language_info": {
   "codemirror_mode": {
    "name": "ipython",
    "version": 3
   },
   "file_extension": ".py",
   "mimetype": "text/x-python",
   "name": "python",
   "nbconvert_exporter": "python",
   "pygments_lexer": "ipython3",
   "version": "3.9.13"
  }
 },
 "nbformat": 4,
 "nbformat_minor": 5
}
