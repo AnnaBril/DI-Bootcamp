{
 "cells": [
  {
   "cell_type": "markdown",
   "id": "5e325141",
   "metadata": {},
   "source": [
    "# Mini Project 1: Scraping Data From A Dynamic Webpage"
   ]
  },
  {
   "cell_type": "markdown",
   "id": "70152eb2",
   "metadata": {},
   "source": [
    "## Preparation\n",
    "Install necessary Python libraries: selenium, beautifulsoup4 (bs4), and chromedriver-autoinstaller.\n",
    "Choose a dynamic webpage for scraping. For this project, we will scrape dynamic product data from a demo e-commerce site, like \"https://www.inmotionhosting.com/”.\n",
    "\n",
    "\n",
    "**Task**\n",
    "Initialize Selenium WebDriver\n",
    "Load the Web Page\n",
    "Identify the elements that contain hosting plan details.\n",
    "Extract necessary data such as plan names, features, and pricing.\n",
    "Store and Save the Data\n",
    "Close Selenium WebDriver"
   ]
  },
  {
   "cell_type": "code",
   "execution_count": 13,
   "id": "ff923e25",
   "metadata": {},
   "outputs": [],
   "source": [
    "import pandas as pd\n",
    "import time\n",
    "from selenium import webdriver\n",
    "from selenium.webdriver.common.keys import Keys\n",
    "from selenium.webdriver.common.by import By\n",
    "from selenium.webdriver.support.ui import WebDriverWait\n",
    "from selenium.webdriver.support import expected_conditions as EC\n",
    "from bs4 import BeautifulSoup\n",
    "import chromedriver_autoinstaller"
   ]
  },
  {
   "cell_type": "code",
   "execution_count": 14,
   "id": "e4e435e7",
   "metadata": {},
   "outputs": [
    {
     "data": {
      "text/plain": [
       "'<html lang=\"en-US\">\\n <head>\\n  <meta charset=\"utf-8\"/>\\n  <meta content=\"width=device-width, initial-scale=1\" name=\"viewport\"/>\\n  <link href=\"https://gmpg.org/xfn/11\" rel=\"profile\"/>\\n  <meta charset=\"utf-8\"/>\\n  <meta content=\"width=device-width, initial-scale=1\" name=\"viewport\"/>\\n  <link href=\"https://design.inmotionhosting.com\" rel=\"preconnect\"/>\\n  <link href=\"https://logx.optimizely.com\" rel=\"prec'"
      ]
     },
     "execution_count": 14,
     "metadata": {},
     "output_type": "execute_result"
    }
   ],
   "source": [
    "# Use the specified Chrome executable path\n",
    "options = webdriver.ChromeOptions()\n",
    "options.add_argument('--headless') \n",
    "options.add_argument(\"--no-sandbox\") \n",
    "driver = webdriver.Chrome(options=options)\n",
    "\n",
    "url = \"https://www.inmotionhosting.com/\"\n",
    "driver.get(url)\n",
    "driver.implicitly_wait(10)\n",
    "\n",
    "soup = BeautifulSoup(driver.page_source, 'html.parser')\n",
    "soup.prettify()[:400]"
   ]
  },
  {
   "cell_type": "code",
   "execution_count": 19,
   "id": "1038e2d4",
   "metadata": {},
   "outputs": [
    {
     "name": "stdout",
     "output_type": "stream",
     "text": [
      "The hostings plans are: ['Shared Hosting', 'VPS Hosting', 'Dedicated Hosting', 'cPanel WordPress', 'Platform i Cloud', 'Shared Hosting', 'WordPress Hosting', 'VPS Hosting', 'Dedicated Hosting']\n",
      "\n",
      "The features are: ['Cost effective and fast for small businesses', 'For high traffic sites and larger businesses', 'For the largest sites and custom deployments', 'Expertly tuned hosting with cPanel', 'Next generation managed WordPress']\n",
      "\n",
      "The prices are: ['$2.49/mo', '$2.99/mo', '$3.49/mo', '$14.99/mo', '$14.99/mo', '$14.99/mo', '$14.99/mo', '$14.99/mo', '$69.99/mo', '$69.99/mo', '$69.99/mo', '$69.99/mo', '$3.29/mo', '$3.29/mo', '$14.99/mo', '$7.00/mo', '$7.00/mo', '$7.00/mo', '$7.00/mo', '$7.00/mo', '$2.49/mo', '$2.99/mo', '$3.49/mo', '$3.29/mo', '$3.29/mo', '$14.99/mo', '$14.99/mo', '$14.99/mo', '$14.99/mo', '$14.99/mo', '$21.99/mo', '$69.99/mo', '$69.99/mo', '$69.99/mo', '$69.99/mo']\n"
     ]
    }
   ],
   "source": [
    "hosting_plan = [item.get_text() for item in soup.find_all(class_='h3 imh-rostrum-card-title')]\n",
    "print(f'The hostings plans are: {hosting_plan}')\n",
    "\n",
    "features =[item.get_text() for item in soup.find_all(class_='imh-rostrum-sub-heading')]\n",
    "print(f'\\nThe features are: {features}')\n",
    "\n",
    "price =[item.get_text() for item in soup.find_all(class_='imh-rostrum-starting-at-price-discounted')]\n",
    "print(f'\\nThe prices are: {price}')"
   ]
  },
  {
   "cell_type": "code",
   "execution_count": null,
   "id": "27dc2fa9",
   "metadata": {},
   "outputs": [],
   "source": []
  }
 ],
 "metadata": {
  "kernelspec": {
   "display_name": "Python 3 (ipykernel)",
   "language": "python",
   "name": "python3"
  },
  "language_info": {
   "codemirror_mode": {
    "name": "ipython",
    "version": 3
   },
   "file_extension": ".py",
   "mimetype": "text/x-python",
   "name": "python",
   "nbconvert_exporter": "python",
   "pygments_lexer": "ipython3",
   "version": "3.9.13"
  }
 },
 "nbformat": 4,
 "nbformat_minor": 5
}
