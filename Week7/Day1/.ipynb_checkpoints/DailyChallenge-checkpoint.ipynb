{
 "cells": [
  {
   "cell_type": "markdown",
   "id": "0de215be",
   "metadata": {},
   "source": [
    "# Daily Challenge: End-To-End Web Scraping In Python"
   ]
  },
  {
   "cell_type": "markdown",
   "id": "cdcc1565",
   "metadata": {},
   "source": [
    "## Web Scraping:\n",
    "\n",
    "- use this website : https://github.com/topics\n",
    "- Write a Python script using the requests library to fetch the HTML content of the chosen website.\n",
    "- Print the status code of the response to ensure the request was successful using .status_code, it should be 200.\n",
    "- Print the first 100 characters of the HTML content to verify the response.\n",
    "- Save the HTML content to a file named webpage.html. Ensure you handle the text encoding correctly.\n",
    "- Use BeautifulSoup to parse the saved HTML content.\n",
    "- Identify two distinct pieces of information on the webpage to extract (e.g., titles of the topics and their descriptions).\n",
    "- Write code to extract these pieces of information. Ensure you identify the correct HTML tags and classes used for these elements on the webpage.\n",
    "- Print the length and content of each extracted list to verify the extraction process.\n",
    "- Create a Python dictionary to structure the extracted data, with keys representing the type of information (e.g., ‘title’ and ‘description’).\n",
    "- Convert this dictionary into a pandas DataFrame.\n",
    "- Print the DataFrame to confirm its structure and contents."
   ]
  },
  {
   "cell_type": "code",
   "execution_count": 8,
   "id": "ba9ed2df",
   "metadata": {},
   "outputs": [],
   "source": [
    "import pandas as pd\n",
    "import requests\n",
    "from bs4 import BeautifulSoup"
   ]
  },
  {
   "cell_type": "code",
   "execution_count": 3,
   "id": "16c66432",
   "metadata": {},
   "outputs": [
    {
     "name": "stdout",
     "output_type": "stream",
     "text": [
      "Status Code: 200\n",
      "First 100 characters of HTML content:\n",
      "\n",
      "\n",
      "<!DOCTYPE html>\n",
      "<html\n",
      "  lang=\"en\"\n",
      "  \n",
      "  data-color-mode=\"auto\" data-light-theme=\"light\" data-dark-t\n",
      "HTML content saved to 'webpage.html'\n",
      "\n",
      "Titles:\n",
      "Length: 30\n",
      "['3D', 'Ajax', 'Algorithm', 'Amp', 'Android', 'Angular', 'Ansible', 'API', 'Arduino', 'ASP.NET', 'Atom', 'Awesome Lists', 'Amazon Web Services', 'Azure', 'Babel', 'Bash', 'Bitcoin', 'Bootstrap', 'Bot', 'C', 'Chrome', 'Chrome extension', 'Command line interface', 'Clojure', 'Code quality', 'Code review', 'Compiler', 'Continuous integration', 'COVID-19', 'C++']\n",
      "\n",
      "Descriptions:\n",
      "Length: 0\n",
      "[]\n",
      "An error occurred: All arrays must be of the same length\n"
     ]
    }
   ],
   "source": [
    "url = 'https://github.com/topics'\n",
    "\n",
    "try:\n",
    "    # Send a GET request to fetch the HTML content\n",
    "    response = requests.get(url)\n",
    "   \n",
    "    print(f\"Status Code: {response.status_code}\")\n",
    "\n",
    "    # Check if the request was successful (status code 200)\n",
    "    if response.status_code == 200:        \n",
    "        print(\"First 100 characters of HTML content:\")\n",
    "        print(response.text[:100])\n",
    "\n",
    "        # Save the HTML content to a file named 'webpage.html'\n",
    "        with open('webpage.html', 'w', encoding='utf-8') as file:\n",
    "            file.write(response.text)\n",
    "        print(\"HTML content saved to 'webpage.html'\")\n",
    "\n",
    "        # Use BeautifulSoup to parse the saved HTML content\n",
    "        soup = BeautifulSoup(response.text, 'html.parser')\n",
    "\n",
    "        # Identify and extract information (titles and descriptions)\n",
    "        titles = [topic.text.strip() for topic in soup.find_all('p', class_='f3 lh-condensed mb-0 mt-1 Link--primary')]\n",
    "        descriptions = [desc.text.strip() for desc in soup.find_all('p', class_='col-9 color-text-secondary my-1 pr-4')]\n",
    "        \n",
    "        print(\"\\nTitles:\")\n",
    "        print(\"Length:\", len(titles))\n",
    "        print(titles)\n",
    "\n",
    "        print(\"\\nDescriptions:\")\n",
    "        print(\"Length:\", len(descriptions))\n",
    "        print(descriptions)\n",
    "       \n",
    "        data = {'Title': titles, 'Description': descriptions}  \n",
    "        df = pd.DataFrame(data)\n",
    "       \n",
    "        print(\"\\nDataFrame:\")\n",
    "        print(df)\n",
    "\n",
    "    else:\n",
    "        print(f\"Failed to retrieve HTML content. Status code: {response.status_code}\")\n",
    "\n",
    "except Exception as e:\n",
    "    print(f\"An error occurred: {e}\")"
   ]
  },
  {
   "cell_type": "code",
   "execution_count": null,
   "id": "e96b8b6e",
   "metadata": {},
   "outputs": [],
   "source": []
  },
  {
   "cell_type": "code",
   "execution_count": null,
   "id": "90db9396",
   "metadata": {},
   "outputs": [],
   "source": []
  }
 ],
 "metadata": {
  "kernelspec": {
   "display_name": "Python 3 (ipykernel)",
   "language": "python",
   "name": "python3"
  },
  "language_info": {
   "codemirror_mode": {
    "name": "ipython",
    "version": 3
   },
   "file_extension": ".py",
   "mimetype": "text/x-python",
   "name": "python",
   "nbconvert_exporter": "python",
   "pygments_lexer": "ipython3",
   "version": "3.9.13"
  }
 },
 "nbformat": 4,
 "nbformat_minor": 5
}
