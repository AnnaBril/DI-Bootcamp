{
 "cells": [
  {
   "cell_type": "markdown",
   "id": "cb76ba5b",
   "metadata": {},
   "source": [
    " # Exercises XP"
   ]
  },
  {
   "cell_type": "markdown",
   "id": "e8b4463f",
   "metadata": {},
   "source": [
    "##  Exercise 1 : Array Creation And Manipulation\n",
    "Instructions\n",
    "Create a 1D NumPy array containing numbers from 0 to 9."
   ]
  },
  {
   "cell_type": "code",
   "execution_count": 2,
   "id": "acbe2986",
   "metadata": {},
   "outputs": [],
   "source": [
    "import pandas as pd\n",
    "import numpy as np"
   ]
  },
  {
   "cell_type": "code",
   "execution_count": 3,
   "id": "6abcb850",
   "metadata": {},
   "outputs": [
    {
     "data": {
      "text/plain": [
       "array([0, 1, 2, 3, 4, 5, 6, 7, 8, 9])"
      ]
     },
     "execution_count": 3,
     "metadata": {},
     "output_type": "execute_result"
    }
   ],
   "source": [
    "array1 = np.arange(10)\n",
    "\n",
    "array1"
   ]
  },
  {
   "cell_type": "markdown",
   "id": "c72effcf",
   "metadata": {},
   "source": [
    "##  Exercise 2 : Type Conversion And Array Operations\n",
    "Instructions\n",
    "Convert a list [3.14, 2.17, 0, 1, 2] into a NumPy array and convert its data type to integer."
   ]
  },
  {
   "cell_type": "code",
   "execution_count": 4,
   "id": "99db1ed5",
   "metadata": {},
   "outputs": [
    {
     "data": {
      "text/plain": [
       "array([3, 2, 0, 1, 2])"
      ]
     },
     "execution_count": 4,
     "metadata": {},
     "output_type": "execute_result"
    }
   ],
   "source": [
    "list1 = [3.14, 2.17, 0, 1, 2]\n",
    "\n",
    "array2 = np.array(list1)\n",
    "array_int = array2.astype(int)\n",
    "\n",
    "array_int"
   ]
  },
  {
   "cell_type": "markdown",
   "id": "bec794ec",
   "metadata": {},
   "source": [
    "##  Exercise 3 : Working With Multi-Dimensional Arrays\n",
    "Instructions\n",
    "Create a 3x3 NumPy array with values ranging from 1 to 9."
   ]
  },
  {
   "cell_type": "code",
   "execution_count": 5,
   "id": "cc2eee20",
   "metadata": {},
   "outputs": [
    {
     "data": {
      "text/plain": [
       "array([[1, 2, 3],\n",
       "       [4, 5, 6],\n",
       "       [7, 8, 9]])"
      ]
     },
     "execution_count": 5,
     "metadata": {},
     "output_type": "execute_result"
    }
   ],
   "source": [
    "array3 = np.array([[1, 2, 3], [4, 5, 6], [7, 8, 9]])\n",
    "\n",
    "array3"
   ]
  },
  {
   "cell_type": "markdown",
   "id": "c82beb15",
   "metadata": {},
   "source": [
    "##  Exercise 4 : Creating Multi-Dimensional Array With Random Numbers\n",
    "Instructions\n",
    "Create a 2D NumPy array of shape (4, 5) filled with random numbers."
   ]
  },
  {
   "cell_type": "code",
   "execution_count": 7,
   "id": "8b6444a0",
   "metadata": {},
   "outputs": [
    {
     "data": {
      "text/plain": [
       "array([[0.73, 0.35, 0.39, 0.26, 0.56],\n",
       "       [0.9 , 0.77, 0.38, 0.16, 0.51],\n",
       "       [0.08, 0.49, 0.62, 0.95, 0.55],\n",
       "       [0.23, 0.84, 0.31, 0.35, 0.52]])"
      ]
     },
     "execution_count": 7,
     "metadata": {},
     "output_type": "execute_result"
    }
   ],
   "source": [
    "array4 = np.random.rand(4, 5).round(2)\n",
    "\n",
    "array4"
   ]
  },
  {
   "cell_type": "markdown",
   "id": "293bef80",
   "metadata": {},
   "source": [
    "##  Exercise 5 : Indexing Arrays\n",
    "Instructions\n",
    "Select the second row from a given 2D NumPy array."
   ]
  },
  {
   "cell_type": "code",
   "execution_count": 8,
   "id": "6b4b3379",
   "metadata": {},
   "outputs": [
    {
     "data": {
      "text/plain": [
       "array([20, 21, 22, 23, 24])"
      ]
     },
     "execution_count": 8,
     "metadata": {},
     "output_type": "execute_result"
    }
   ],
   "source": [
    "array5 = np.array([[0, 1, 2, 3, 4],\n",
    "                        [20, 21, 22, 23, 24],\n",
    "                        [40, 41, 42, 43, 44]])\n",
    "\n",
    "second_row = array5[1]\n",
    "second_row"
   ]
  },
  {
   "cell_type": "markdown",
   "id": "e6bb193f",
   "metadata": {},
   "source": [
    "## Exercise 6 : Reversing Elements\n",
    "Instructions\n",
    "Reverse the order of elements in a given 1D NumPy array (first element becomes last)."
   ]
  },
  {
   "cell_type": "code",
   "execution_count": 10,
   "id": "dfe9ea60",
   "metadata": {},
   "outputs": [
    {
     "data": {
      "text/plain": [
       "array([9, 8, 7, 6, 5, 4, 3, 2, 1, 0])"
      ]
     },
     "execution_count": 10,
     "metadata": {},
     "output_type": "execute_result"
    }
   ],
   "source": [
    "array6 = np.array([0, 1, 2, 3, 4, 5, 6, 7, 8, 9])\n",
    "\n",
    "reversed_array = np.flip(array6)\n",
    "reversed_array"
   ]
  },
  {
   "cell_type": "markdown",
   "id": "8774f615",
   "metadata": {},
   "source": [
    "##  Exercise 7 : Identity Matrix\n",
    "Instructions\n",
    "Create a 4x4 identity matrix using NumPy."
   ]
  },
  {
   "cell_type": "code",
   "execution_count": 11,
   "id": "718f188a",
   "metadata": {},
   "outputs": [
    {
     "data": {
      "text/plain": [
       "array([[1., 0., 0., 0.],\n",
       "       [0., 1., 0., 0.],\n",
       "       [0., 0., 1., 0.],\n",
       "       [0., 0., 0., 1.]])"
      ]
     },
     "execution_count": 11,
     "metadata": {},
     "output_type": "execute_result"
    }
   ],
   "source": [
    "identity_matrix = np.eye(4)\n",
    "\n",
    "identity_matrix"
   ]
  },
  {
   "cell_type": "markdown",
   "id": "bed5d2bf",
   "metadata": {},
   "source": [
    "## Exercise 8 : Simple Aggregate Funcs\n",
    "Instructions\n",
    "Find the sum and average of a given 1D array."
   ]
  },
  {
   "cell_type": "code",
   "execution_count": 12,
   "id": "7ca1fb89",
   "metadata": {},
   "outputs": [
    {
     "name": "stdout",
     "output_type": "stream",
     "text": [
      "Sum: 55, Average: 5.5\n"
     ]
    }
   ],
   "source": [
    "array8 = np.array([1, 2, 3, 4, 5, 6, 7, 8, 9, 10])\n",
    "\n",
    "sum_value = np.sum(array8)\n",
    "average_value = np.mean(array8)\n",
    "\n",
    "print(f\"Sum: {sum_value}, Average: {average_value}\")"
   ]
  },
  {
   "cell_type": "markdown",
   "id": "8335261a",
   "metadata": {},
   "source": [
    "##  Exercise 9 : Create Array And Change Its Structure\n",
    "Instructions\n",
    "Create a NumPy array with elements from 1 to 20; then reshape it into a 4x5 matrix."
   ]
  },
  {
   "cell_type": "code",
   "execution_count": 13,
   "id": "20fe8d3b",
   "metadata": {},
   "outputs": [
    {
     "data": {
      "text/plain": [
       "array([[ 1,  2,  3,  4,  5],\n",
       "       [ 6,  7,  8,  9, 10],\n",
       "       [11, 12, 13, 14, 15],\n",
       "       [16, 17, 18, 19, 20]])"
      ]
     },
     "execution_count": 13,
     "metadata": {},
     "output_type": "execute_result"
    }
   ],
   "source": [
    "array9 = np.arange(1, 21)\n",
    "\n",
    "reshaped_array = array9.reshape(4, 5)\n",
    "reshaped_array"
   ]
  },
  {
   "cell_type": "markdown",
   "id": "a52f207e",
   "metadata": {},
   "source": [
    "##  Exercise 10 : Conditional Selection Of Values\n",
    "Instructions\n",
    "Extract all odd numbers from a given NumPy array."
   ]
  },
  {
   "cell_type": "code",
   "execution_count": 14,
   "id": "9cf227ef",
   "metadata": {},
   "outputs": [
    {
     "data": {
      "text/plain": [
       "array([1, 3, 5, 7, 9])"
      ]
     },
     "execution_count": 14,
     "metadata": {},
     "output_type": "execute_result"
    }
   ],
   "source": [
    "array10 = np.array([1, 2, 3, 4, 5, 6, 7, 8, 9, 10])\n",
    "\n",
    "odd_numbers = array10[array10 % 2 != 0]\n",
    "odd_numbers"
   ]
  },
  {
   "cell_type": "code",
   "execution_count": null,
   "id": "aa83db5d",
   "metadata": {},
   "outputs": [],
   "source": []
  }
 ],
 "metadata": {
  "kernelspec": {
   "display_name": "Python 3 (ipykernel)",
   "language": "python",
   "name": "python3"
  },
  "language_info": {
   "codemirror_mode": {
    "name": "ipython",
    "version": 3
   },
   "file_extension": ".py",
   "mimetype": "text/x-python",
   "name": "python",
   "nbconvert_exporter": "python",
   "pygments_lexer": "ipython3",
   "version": "3.9.13"
  }
 },
 "nbformat": 4,
 "nbformat_minor": 5
}
