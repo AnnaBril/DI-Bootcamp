{
 "cells": [
  {
   "cell_type": "markdown",
   "id": "9648393d",
   "metadata": {},
   "source": [
    "# Exercises XP"
   ]
  },
  {
   "cell_type": "markdown",
   "id": "abc2c821",
   "metadata": {},
   "source": [
    "##  Exercise 1 : Linear Regression Analysis\n",
    "Instructions\n",
    "Objective: Apply linear regression to a dataset and interpret the results.\n",
    "\n",
    "Task: Given a dataset of housing prices (house_prices) and their corresponding sizes (house_sizes), use linear regression to predict the price of a house given its size."
   ]
  },
  {
   "cell_type": "code",
   "execution_count": 8,
   "id": "df602764",
   "metadata": {},
   "outputs": [],
   "source": [
    "import numpy as np\n",
    "from sklearn.linear_model import LinearRegression\n",
    "import pandas as pd\n",
    "from scipy import stats\n",
    "from scipy.stats import binom\n",
    "from scipy.stats import pearsonr, spearmanr\n",
    "import matplotlib.pyplot as plt\n",
    "import seaborn as sns"
   ]
  },
  {
   "cell_type": "code",
   "execution_count": 2,
   "id": "36b5bb83",
   "metadata": {},
   "outputs": [
    {
     "name": "stdout",
     "output_type": "stream",
     "text": [
      "Slope of the regression line: 1828.77\n",
      "Intercept of the regression line: 64383.56\n",
      "\n",
      "Predicted price of a house with 90 square meters: 228972.60 currency units\n"
     ]
    }
   ],
   "source": [
    "house_sizes = np.array([50, 70, 80, 100, 120]).reshape(-1, 1)  \n",
    "house_prices = np.array([150000, 200000, 210000, 250000, 280000])\n",
    "\n",
    "# Create and fit the linear regression model\n",
    "model = LinearRegression()\n",
    "model.fit(house_sizes, house_prices)\n",
    "\n",
    "slope = model.coef_[0]\n",
    "intercept = model.intercept_\n",
    "\n",
    "# Predict the price of a house that is 90 square meters\n",
    "predicted_price_90sqm = model.predict(np.array([[90]]))[0]\n",
    "\n",
    "print(f\"Slope of the regression line: {slope:.2f}\")\n",
    "print(f\"Intercept of the regression line: {intercept:.2f}\")\n",
    "print(f\"\\nPredicted price of a house with 90 square meters: {predicted_price_90sqm:.2f} currency units\")"
   ]
  },
  {
   "cell_type": "markdown",
   "id": "c2349526",
   "metadata": {},
   "source": [
    "## Exercise 2 : Understanding ANOVA\n",
    "Instructions\n",
    "Objective: Test understanding of ANOVA and its application.\n",
    "\n",
    "Task: Three different fertilizers are applied to three separate groups of plants to test their effectiveness. The growth in centimeters is recorded."
   ]
  },
  {
   "cell_type": "code",
   "execution_count": 3,
   "id": "51112be4",
   "metadata": {},
   "outputs": [
    {
     "name": "stdout",
     "output_type": "stream",
     "text": [
      "F-value: 28.53\n",
      "P-value: 0.0000\n",
      "The fertilizers have significantly different effects on plant growth.\n"
     ]
    }
   ],
   "source": [
    "fertilizer_1 = [5, 6, 7, 6, 5]\n",
    "fertilizer_2 = [7, 8, 7, 9, 8]\n",
    "fertilizer_3 = [4, 5, 4, 3, 4]\n",
    "\n",
    "# Perform ANOVA test\n",
    "f_value, p_value = stats.f_oneway(fertilizer_1, fertilizer_2, fertilizer_3)\n",
    "\n",
    "print(f\"F-value: {f_value:.2f}\")\n",
    "print(f\"P-value: {p_value:.4f}\")\n",
    "\n",
    "alpha = 0.05\n",
    "if p_value < alpha:\n",
    "    print(\"The fertilizers have significantly different effects on plant growth.\")\n",
    "else:\n",
    "    print(\"There is no significant difference in the effects of the fertilizers on plant growth.\")"
   ]
  },
  {
   "cell_type": "markdown",
   "id": "11e5f475",
   "metadata": {},
   "source": [
    "**Interpretation:**\n",
    "\n",
    "The low P-value (less than 0.05) suggests that there is a significant difference in the effects of the fertilizers on plant growth.\n",
    "Interpretation of P-value Greater than 0.05:\n",
    "If the P-value were greater than 0.05, it would indicate that there is not enough evidence to reject the null hypothesis. In this context, it would mean that the fertilizers do not have significantly different effects on plant growth."
   ]
  },
  {
   "cell_type": "markdown",
   "id": "5732bb08",
   "metadata": {},
   "source": [
    "##  Exercise 3 : Probability Distributions\n",
    "Instructions\n",
    "Work with a binomial distribution: calculate probabilities for different numbers of successes.\n",
    "Example: Calculating the probability of getting exactly 5 heads in 10 coin flips."
   ]
  },
  {
   "cell_type": "code",
   "execution_count": 5,
   "id": "4e6f3581",
   "metadata": {},
   "outputs": [
    {
     "name": "stdout",
     "output_type": "stream",
     "text": [
      "The probability of getting exactly 5 heads in 10 coin flips is: 0.2461\n"
     ]
    }
   ],
   "source": [
    "n_flips = 10  \n",
    "p_heads = 0.5\n",
    "\n",
    "# Calculate the probability of getting exactly 5 heads\n",
    "num_heads = 5\n",
    "probability_5_heads = binom.pmf(num_heads, n_flips, p_heads)\n",
    "\n",
    "print(f\"The probability of getting exactly 5 heads in {n_flips} coin flips is: {probability_5_heads:.4f}\")"
   ]
  },
  {
   "cell_type": "markdown",
   "id": "09a9f09f",
   "metadata": {},
   "source": [
    "##  Exercise 4 : Correlation Coefficients\n",
    "Instructions\n",
    "Calculate the Pearson and Spearman correlation coefficients between two variables in a dataset."
   ]
  },
  {
   "cell_type": "code",
   "execution_count": 7,
   "id": "addff869",
   "metadata": {},
   "outputs": [
    {
     "name": "stdout",
     "output_type": "stream",
     "text": [
      "Pearson correlation coefficient: 0.9997\n",
      "Spearman correlation coefficient: 1.0000\n"
     ]
    }
   ],
   "source": [
    "data = pd.DataFrame({'age': [23, 25, 30, 35, 40], 'income': [35000, 40000, 50000, 60000, 70000]})\n",
    "\n",
    "# Calculate Pearson correlation coefficient\n",
    "pearson_corr, _ = pearsonr(data['age'], data['income'])\n",
    "\n",
    "# Calculate Spearman correlation coefficient\n",
    "spearman_corr, _ = spearmanr(data['age'], data['income'])\n",
    "\n",
    "print(f\"Pearson correlation coefficient: {pearson_corr:.4f}\")\n",
    "print(f\"Spearman correlation coefficient: {spearman_corr:.4f}\")"
   ]
  },
  {
   "cell_type": "markdown",
   "id": "7b5583d5",
   "metadata": {},
   "source": [
    "##  Exercise 5 : Linear Relationships\n",
    "Instructions\n",
    "Create a scatter plot of two variables (age and income) and visually assess the linear relationship. Use the dataset from Exercise 4."
   ]
  },
  {
   "cell_type": "code",
   "execution_count": 10,
   "id": "7b3fae60",
   "metadata": {},
   "outputs": [
    {
     "data": {
      "image/png": "[encoded data removed]",
      "text/plain": [
       "<Figure size 800x600 with 1 Axes>"
      ]
     },
     "metadata": {},
     "output_type": "display_data"
    }
   ],
   "source": [
    "sns.set(style=\"whitegrid\")\n",
    "plt.figure(figsize=(8, 6))\n",
    "sns.scatterplot(x='age', y='income', data=data, color='green')\n",
    "\n",
    "plt.title('Scatter plot of age vs. income')\n",
    "plt.xlabel('Age')\n",
    "plt.ylabel('Income')\n",
    "\n",
    "plt.show()"
   ]
  },
  {
   "cell_type": "code",
   "execution_count": null,
   "id": "3bf62241",
   "metadata": {},
   "outputs": [],
   "source": []
  }
 ],
 "metadata": {
  "kernelspec": {
   "display_name": "Python 3 (ipykernel)",
   "language": "python",
   "name": "python3"
  },
  "language_info": {
   "codemirror_mode": {
    "name": "ipython",
    "version": 3
   },
   "file_extension": ".py",
   "mimetype": "text/x-python",
   "name": "python",
   "nbconvert_exporter": "python",
   "pygments_lexer": "ipython3",
   "version": "3.9.13"
  }
 },
 "nbformat": 4,
 "nbformat_minor": 5
}
