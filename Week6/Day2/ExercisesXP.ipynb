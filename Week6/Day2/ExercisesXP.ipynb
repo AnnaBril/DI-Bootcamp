{
 "cells": [
  {
   "cell_type": "markdown",
   "metadata": {},
   "source": [
    "# Exercises XP\n",
    "\n",
    "What You Will Learn:\n",
    "Understanding and calculating the determinant and inverse of matrices.\n",
    "Application of these concepts in linear algebra and their significance.\n",
    "\n",
    "What You Will Create:\n",
    "Practical examples demonstrating the computation of matrix determinants and inverses using NumPy, applying these concepts to solve real-world problems."
   ]
  },
  {
   "cell_type": "markdown",
   "metadata": {},
   "source": [
    "##  Exercise 1 : Matrix Operations\n",
    "Instructions\n",
    "In this exercise, you’ll work with a 3x3 matrix. Here’s a brief explanation of the concepts:\n",
    "- Determinant: The determinant is a value that can be computed from the elements of a square matrix. It provides important information about the matrix, such as whether it has an inverse, and is used in various areas like linear algebra and calculus.\n",
    "- Inverse of a Matrix: The inverse of a matrix is a matrix that, when multiplied with the original matrix, results in an identity matrix. Not all matrices have inverses. The inverse is crucial in solving systems of linear equations.\n",
    "\n",
    "Create a 3x3 matrix and perform the following operations:\n",
    "1. Calculate the determinant.\n",
    "2. Find the inverse of the matrix."
   ]
  },
  {
   "cell_type": "code",
   "execution_count": 11,
   "metadata": {},
   "outputs": [],
   "source": [
    "import numpy as np\n",
    "import pandas as pd\n",
    "import matplotlib.pyplot as plt\n",
    "from scipy.stats import ttest_rel"
   ]
  },
  {
   "cell_type": "code",
   "execution_count": 2,
   "metadata": {},
   "outputs": [
    {
     "name": "stdout",
     "output_type": "stream",
     "text": [
      "Original matrix:\n",
      "[[2 5 3]\n",
      " [0 1 4]\n",
      " [1 3 2]]\n",
      "\n",
      "Determinant: -2.9999999999999996\n",
      "\n",
      "Inverse matrix:\n",
      "[[ 3.33333333  0.33333333 -5.66666667]\n",
      " [-1.33333333 -0.33333333  2.66666667]\n",
      " [ 0.33333333  0.33333333 -0.66666667]]\n"
     ]
    }
   ],
   "source": [
    "matrix = np.array([\n",
    "    [2, 5, 3],\n",
    "    [0, 1, 4],\n",
    "    [1, 3, 2]\n",
    "])\n",
    "\n",
    "# 1. Calculate the determinant\n",
    "determinant = np.linalg.det(matrix)\n",
    "\n",
    "# 2. Find the inverse of the matrix\n",
    "try:\n",
    "    inverse_matrix = np.linalg.inv(matrix)\n",
    "except np.linalg.LinAlgError:\n",
    "    inverse_matrix = None\n",
    "\n",
    "print(\"Original matrix:\")\n",
    "print(matrix)\n",
    "\n",
    "print(\"\\nDeterminant:\", determinant)\n",
    "\n",
    "print(\"\\nInverse matrix:\")\n",
    "print(inverse_matrix)"
   ]
  },
  {
   "cell_type": "markdown",
   "metadata": {},
   "source": [
    "##  Exercise 2 : Statistical Analysis\n",
    "Instructions\n",
    "In this exercise, you’ll calculate statistical measures for a dataset:\n",
    "- Mean: The average value of a dataset.\n",
    "- Median: The middle value in a dataset when it is arranged in ascending or descending order.\n",
    "- Standard Deviation: A measure of the amount of variation or dispersion in a set of values.\n",
    "\n",
    "Using NumPy, generate an array of 50 random numbers and compute:\n",
    "1. The mean and median.\n",
    "2. The standard deviation."
   ]
  },
  {
   "cell_type": "code",
   "execution_count": 5,
   "metadata": {},
   "outputs": [
    {
     "name": "stdout",
     "output_type": "stream",
     "text": [
      "Random numbers:\n",
      "[0.89797019 0.2837158  0.90740543 0.44234728 0.0532419  0.60768342\n",
      " 0.93118644 0.75548647 0.21461231 0.05082052 0.42007052 0.8762782\n",
      " 0.72484256 0.00674208 0.85985501 0.44257054 0.83955326 0.9357518\n",
      " 0.31409093 0.38867674 0.95761862 0.23639351 0.12522178 0.39612287\n",
      " 0.65361777 0.32719932 0.67596775 0.80514395 0.7378472  0.08080318\n",
      " 0.29567153 0.49247426 0.55744783 0.50255687 0.12382414 0.56347852\n",
      " 0.25420276 0.23055874 0.53379818 0.19654946 0.60107696 0.11157826\n",
      " 0.53139347 0.51088912 0.25917493 0.69788963 0.33469922 0.00368587\n",
      " 0.97858079 0.13231682]\n",
      "\n",
      "Mean: 0.48\n",
      "Median: 0.47\n",
      "Standard deviation: 0.29\n"
     ]
    }
   ],
   "source": [
    "random_numbers = np.random.rand(50)\n",
    "\n",
    "# 1. Calculate the mean and median\n",
    "mean_value = np.mean(random_numbers)\n",
    "median_value = np.median(random_numbers)\n",
    "\n",
    "# 2. Calculate the standard deviation\n",
    "std_deviation = np.std(random_numbers)\n",
    "\n",
    "print(\"Random numbers:\")\n",
    "print(random_numbers)\n",
    "print(\"\\nMean:\", mean_value.round(2))\n",
    "print(\"Median:\", median_value.round(2))\n",
    "print(\"Standard deviation:\", std_deviation.round(2))"
   ]
  },
  {
   "cell_type": "markdown",
   "metadata": {},
   "source": [
    "##  Exercise 3 : Date Manipulation\n",
    "Instructions\n",
    "Create a NumPy array of dates for the month of January 2023. Convert these dates to another format (e.g., YYYY/MM/DD)."
   ]
  },
  {
   "cell_type": "code",
   "execution_count": 7,
   "metadata": {},
   "outputs": [
    {
     "name": "stdout",
     "output_type": "stream",
     "text": [
      "\n",
      "Formatted dates (YYYY/MM/DD):\n",
      "['2023-01-01' '2023-01-02' '2023-01-03' '2023-01-04' '2023-01-05'\n",
      " '2023-01-06' '2023-01-07' '2023-01-08' '2023-01-09' '2023-01-10'\n",
      " '2023-01-11' '2023-01-12' '2023-01-13' '2023-01-14' '2023-01-15'\n",
      " '2023-01-16' '2023-01-17' '2023-01-18' '2023-01-19' '2023-01-20'\n",
      " '2023-01-21' '2023-01-22' '2023-01-23' '2023-01-24' '2023-01-25'\n",
      " '2023-01-26' '2023-01-27' '2023-01-28' '2023-01-29' '2023-01-30'\n",
      " '2023-01-31']\n"
     ]
    }
   ],
   "source": [
    "start_date = np.datetime64('2023-01-01')\n",
    "end_date = np.datetime64('2023-01-31')\n",
    "dates = np.arange(start_date, end_date + np.timedelta64(1, 'D'), dtype='datetime64[D]')\n",
    "\n",
    "# Convert the dates to another format (YYYY/MM/DD)\n",
    "formatted_dates = np.datetime_as_string(dates, unit='D')\n",
    "\n",
    "print(\"\\nFormatted dates (YYYY/MM/DD):\")\n",
    "print(formatted_dates)"
   ]
  },
  {
   "cell_type": "markdown",
   "metadata": {},
   "source": [
    "## Exercise 4 : Data Manipulation With NumPy And Pandas\n",
    "Instructions\n",
    "Create a DataFrame with random numbers and perform:\n",
    "1. Conditional selection of data.\n",
    "2. Aggregation functions like sum and average."
   ]
  },
  {
   "cell_type": "code",
   "execution_count": 8,
   "metadata": {},
   "outputs": [
    {
     "name": "stdout",
     "output_type": "stream",
     "text": [
      "Original DataFrame:\n",
      "          A         B         C\n",
      "0  0.374540  0.950714  0.731994\n",
      "1  0.598658  0.156019  0.155995\n",
      "2  0.058084  0.866176  0.601115\n",
      "3  0.708073  0.020584  0.969910\n",
      "4  0.832443  0.212339  0.181825\n",
      "\n",
      "Data with B > 0.5:\n",
      "          A         B         C\n",
      "0  0.374540  0.950714  0.731994\n",
      "2  0.058084  0.866176  0.601115\n",
      "\n",
      "Sum of Each Column:\n",
      "A    2.571797\n",
      "B    2.205833\n",
      "C    2.640838\n",
      "dtype: float64\n",
      "\n",
      "Average of Each Column:\n",
      "A    0.514359\n",
      "B    0.441167\n",
      "C    0.528168\n",
      "dtype: float64\n"
     ]
    }
   ],
   "source": [
    "np.random.seed(42) \n",
    "data = np.random.rand(5, 3)\n",
    "df = pd.DataFrame(data, columns=['A', 'B', 'C'])\n",
    "\n",
    "print(\"Original DataFrame:\")\n",
    "print(df)\n",
    "\n",
    "# 1. Conditional selection of data\n",
    "condition = df['B'] > 0.5\n",
    "selected_data = df[condition]\n",
    "print(\"\\nData with B > 0.5:\")\n",
    "print(selected_data)\n",
    "\n",
    "# 2. Aggregation functions: sum and average\n",
    "sum_result = df.sum()\n",
    "average_result = df.mean()\n",
    "print(\"\\nSum of Each Column:\")\n",
    "print(sum_result)\n",
    "print(\"\\nAverage of Each Column:\")\n",
    "print(average_result)"
   ]
  },
  {
   "cell_type": "markdown",
   "metadata": {},
   "source": [
    "## Exercise 5 : Image Representation\n",
    "Instructions\n",
    "Explain how images are represented in NumPy arrays and demonstrate with a simple example (e.g., creating a 5x5 grayscale image)."
   ]
  },
  {
   "cell_type": "code",
   "execution_count": 10,
   "metadata": {},
   "outputs": [
    {
     "data": {
      "image/png": "[encoded data removed]",
      "text/plain": [
       "<Figure size 640x480 with 1 Axes>"
      ]
     },
     "metadata": {},
     "output_type": "display_data"
    }
   ],
   "source": [
    "image_array = np.array([\n",
    "    [50, 100, 150, 200, 250],\n",
    "    [50, 100, 150, 200, 250],\n",
    "    [50, 100, 150, 200, 250],\n",
    "    [50, 100, 150, 200, 250],\n",
    "    [50, 100, 150, 200, 250],\n",
    "], dtype=np.uint8) \n",
    "\n",
    "plt.imshow(image_array, cmap='gray', vmin=0, vmax=255)\n",
    "plt.title('Grayscale image')\n",
    "plt.show()"
   ]
  },
  {
   "cell_type": "markdown",
   "metadata": {},
   "source": [
    "## Exercise 6 : Basic Hypothesis Testing\n",
    "Instructions\n",
    "Create a sample dataset to test the effectiveness of a new training program on employee productivity.\n",
    "\n",
    "Given a dataset, formulate a simple hypothesis and test it using basic statistical functions in NumPy."
   ]
  },
  {
   "cell_type": "code",
   "execution_count": 12,
   "metadata": {},
   "outputs": [
    {
     "name": "stdout",
     "output_type": "stream",
     "text": [
      "Results of the hypothesis test:\n",
      "T-statistic: 10.2387\n",
      "P-value: 0.0000\n",
      "\n",
      "The null hypothesis is rejected. There is evidence of a significant increase in productivity.\n"
     ]
    }
   ],
   "source": [
    "# Productivity scores of employees before the training program\n",
    "productivity_before = np.random.normal(loc=50, scale=10, size=30)\n",
    "\n",
    "# Productivity scores of the same employees after the training program\n",
    "productivity_after = productivity_before + np.random.normal(loc=5, scale=3, size=30)\n",
    "\n",
    "t_statistic, p_value = ttest_rel(productivity_after, productivity_before)\n",
    "\n",
    "print(\"Results of the hypothesis test:\")\n",
    "print(f\"T-statistic: {t_statistic:.4f}\")\n",
    "print(f\"P-value: {p_value:.4f}\")\n",
    "\n",
    "alpha = 0.05 \n",
    "if p_value < alpha:\n",
    "    print(\"\\nThe null hypothesis is rejected. There is evidence of a significant increase in productivity.\")\n",
    "else:\n",
    "    print(\"\\nThe null hypothesis is not rejected. There is no significant evidence of an increase in productivity.\")"
   ]
  },
  {
   "cell_type": "markdown",
   "metadata": {},
   "source": [
    "## Exercise 7 : Complex Array Comparison\n",
    "Instructions\n",
    "Create two arrays and perform element-wise comparison to find which elements are greater in the first array.\n",
    "\n",
    "The expected output is a boolean array showing which elements in the first array are greater than the corresponding elements in the second array."
   ]
  },
  {
   "cell_type": "code",
   "execution_count": 13,
   "metadata": {},
   "outputs": [
    {
     "name": "stdout",
     "output_type": "stream",
     "text": [
      "Array 1:\n",
      "[1 5 3 8 6]\n",
      "\n",
      "Array 2:\n",
      "[2 4 3 7 5]\n",
      "\n",
      "Element-wise comparison result (array 1 > array 2):\n",
      "[False  True False  True  True]\n"
     ]
    }
   ],
   "source": [
    "array1 = np.array([1, 5, 3, 8, 6])\n",
    "array2 = np.array([2, 4, 3, 7, 5])\n",
    "\n",
    "comparison_result = array1 > array2\n",
    "\n",
    "print(\"Array 1:\")\n",
    "print(array1)\n",
    "print(\"\\nArray 2:\")\n",
    "print(array2)\n",
    "print(\"\\nElement-wise comparison result (array 1 > array 2):\")\n",
    "print(comparison_result)"
   ]
  },
  {
   "cell_type": "markdown",
   "metadata": {},
   "source": [
    "## Exercise 8 : Time Series Data Manipulation\n",
    "Instructions\n",
    "Generate time series data for the year 2023. Demonstrate slicing for the following intervals:\n",
    "\n",
    "January to March\n",
    "April to June\n",
    "July to September\n",
    "October to December\n",
    "Generate a time series data for a specific period and demonstrate how to slice this data for different intervals."
   ]
  },
  {
   "cell_type": "code",
   "execution_count": 14,
   "metadata": {},
   "outputs": [
    {
     "name": "stdout",
     "output_type": "stream",
     "text": [
      "Time Series Data:\n",
      "               Value\n",
      "2023-01-01  3.372296\n",
      "2023-01-02 -0.920391\n",
      "2023-01-03 -0.398638\n",
      "2023-01-04 -0.060864\n",
      "2023-01-05 -1.418750\n",
      "\n",
      "Sliced data for January to March:\n",
      "               Value\n",
      "2023-01-01  3.372296\n",
      "2023-01-02 -0.920391\n",
      "2023-01-03 -0.398638\n",
      "2023-01-04 -0.060864\n",
      "2023-01-05 -1.418750\n",
      "\n",
      "Sliced data for April to June:\n",
      "               Value\n",
      "2023-04-01  0.174833\n",
      "2023-04-02 -1.216855\n",
      "2023-04-03  1.049347\n",
      "2023-04-04  1.325106\n",
      "2023-04-05  0.734501\n",
      "\n",
      "Sliced data for July to September:\n",
      "               Value\n",
      "2023-07-01 -1.612227\n",
      "2023-07-02  0.945382\n",
      "2023-07-03  1.266407\n",
      "2023-07-04  0.377296\n",
      "2023-07-05  1.651351\n",
      "\n",
      "Sliced data for October to December:\n",
      "               Value\n",
      "2023-10-01  1.570032\n",
      "2023-10-02 -0.302324\n",
      "2023-10-03 -0.004563\n",
      "2023-10-04 -0.682343\n",
      "2023-10-05 -0.048195\n"
     ]
    }
   ],
   "source": [
    "start_date = \"2023-01-01\"\n",
    "end_date = \"2023-12-31\"\n",
    "date_index = pd.date_range(start=start_date, end=end_date, freq='D')\n",
    "\n",
    "time_series_data = pd.DataFrame({'Value': np.random.randn(len(date_index))}, index=date_index)\n",
    "\n",
    "print(\"Time Series Data:\")\n",
    "print(time_series_data.head())\n",
    "\n",
    "jan_to_mar = time_series_data['2023-01-01':'2023-03-31']\n",
    "apr_to_jun = time_series_data['2023-04-01':'2023-06-30']\n",
    "jul_to_sep = time_series_data['2023-07-01':'2023-09-30']\n",
    "oct_to_dec = time_series_data['2023-10-01':'2023-12-31']\n",
    "\n",
    "print(\"\\nSliced data for January to March:\")\n",
    "print(jan_to_mar.head())\n",
    "print(\"\\nSliced data for April to June:\")\n",
    "print(apr_to_jun.head())\n",
    "print(\"\\nSliced data for July to September:\")\n",
    "print(jul_to_sep.head())\n",
    "print(\"\\nSliced data for October to December:\")\n",
    "print(oct_to_dec.head())"
   ]
  },
  {
   "cell_type": "markdown",
   "metadata": {},
   "source": [
    "## Exercise 9 : Data Conversion\n",
    "Instructions\n",
    "Demonstrate how to convert a NumPy array to a Pandas DataFrame and vice versa."
   ]
  },
  {
   "cell_type": "code",
   "execution_count": 15,
   "metadata": {},
   "outputs": [
    {
     "name": "stdout",
     "output_type": "stream",
     "text": [
      "Pandas DataFrame from NumPy array:\n",
      "   A  B  C\n",
      "0  1  2  3\n",
      "1  4  5  6\n",
      "2  7  8  9\n",
      "\n",
      "NumPy array from Pandas DataFrame:\n",
      "[[1 2 3]\n",
      " [4 5 6]\n",
      " [7 8 9]]\n"
     ]
    }
   ],
   "source": [
    "numpy_array = np.array([\n",
    "    [1, 2, 3],\n",
    "    [4, 5, 6],\n",
    "    [7, 8, 9]\n",
    "])\n",
    "\n",
    "# Convert NumPy array to Pandas DataFrame\n",
    "dataframe_from_numpy = pd.DataFrame(numpy_array, columns=['A', 'B', 'C'])\n",
    "\n",
    "print(\"Pandas DataFrame from NumPy array:\")\n",
    "print(dataframe_from_numpy)\n",
    "\n",
    "# Convert Pandas DataFrame to NumPy array\n",
    "numpy_array_from_dataframe = dataframe_from_numpy.to_numpy()\n",
    "\n",
    "print(\"\\nNumPy array from Pandas DataFrame:\")\n",
    "print(numpy_array_from_dataframe)"
   ]
  },
  {
   "cell_type": "markdown",
   "metadata": {},
   "source": [
    "## Exercise 10 : Basic Visualization\n",
    "Instructions\n",
    "Use Matplotlib to visualize a simple dataset created with NumPy (e.g., a line graph of random numbers)."
   ]
  },
  {
   "cell_type": "code",
   "execution_count": 19,
   "metadata": {},
   "outputs": [
    {
     "data": {
      "image/png": "[encoded data removed]",
      "text/plain": [
       "<Figure size 640x480 with 1 Axes>"
      ]
     },
     "metadata": {},
     "output_type": "display_data"
    }
   ],
   "source": [
    "np.random.seed(42)\n",
    "x_values = np.arange(1, 11)\n",
    "y_values = np.random.randint(1, 20, size=10)\n",
    "\n",
    "# Plot a line graph using Matplotlib\n",
    "plt.plot(x_values, y_values, marker='o', linestyle='-', color='c', label='Random numbers')\n",
    "\n",
    "plt.xlabel('X-axis')\n",
    "plt.ylabel('Y-axis')\n",
    "plt.title('Line graph of random numbers')\n",
    "plt.legend()\n",
    "plt.grid(True)\n",
    "plt.show()"
   ]
  },
  {
   "cell_type": "code",
   "execution_count": null,
   "metadata": {},
   "outputs": [],
   "source": []
  }
 ],
 "metadata": {
  "kernelspec": {
   "display_name": "Python 3 (ipykernel)",
   "language": "python",
   "name": "python3"
  },
  "language_info": {
   "codemirror_mode": {
    "name": "ipython",
    "version": 3
   },
   "file_extension": ".py",
   "mimetype": "text/x-python",
   "name": "python",
   "nbconvert_exporter": "python",
   "pygments_lexer": "ipython3",
   "version": "3.9.13"
  }
 },
 "nbformat": 4,
 "nbformat_minor": 2
}
