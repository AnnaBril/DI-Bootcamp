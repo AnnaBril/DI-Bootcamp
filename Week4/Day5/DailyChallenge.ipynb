{
 "cells": [
  {
   "cell_type": "markdown",
   "id": "b9f1159b",
   "metadata": {},
   "source": [
    "# Daily Challenge: Complete Exploratory Data Analysis"
   ]
  },
  {
   "cell_type": "markdown",
   "id": "7369138c",
   "metadata": {},
   "source": [
    "## Instructions\n",
    "Download and import the Data Science Job Salary dataset.\n",
    "Identify and differentiate between structured and unstructured data within the dataset, and discuss how this impacts your analysis approach.\n",
    "Preprocess the data by handling missing values and removing duplicates if needed.\n",
    "Perform a group-wise analysis of the experience_level column, calculating the mean and median salaries for each group using Pandas’ .groupby.\n",
    "Utilize Pandas’ integration with Matplotlib to create a bar chart visualizing the average salaries for each experience level. Ensure the chart includes appropriate labels, a title, and a color scheme that enhances readability."
   ]
  },
  {
   "cell_type": "code",
   "execution_count": 1,
   "id": "0607978f",
   "metadata": {},
   "outputs": [],
   "source": [
    "# import libraries\n",
    "import pandas as pd\n",
    "import matplotlib.pyplot as plt\n",
    "#import seaborn as sns"
   ]
  },
  {
   "cell_type": "code",
   "execution_count": 6,
   "id": "3a92fd26",
   "metadata": {
    "scrolled": true
   },
   "outputs": [
    {
     "name": "stdout",
     "output_type": "stream",
     "text": [
      "<class 'pandas.core.frame.DataFrame'>\n",
      "RangeIndex: 1171 entries, 0 to 1170\n",
      "Data columns (total 7 columns):\n",
      " #   Column            Non-Null Count  Dtype \n",
      "---  ------            --------------  ----- \n",
      " 0   Unnamed: 0        1171 non-null   int64 \n",
      " 1   job_title         1171 non-null   object\n",
      " 2   job_type          1171 non-null   object\n",
      " 3   experience_level  1171 non-null   object\n",
      " 4   location          1171 non-null   object\n",
      " 5   salary_currency   1171 non-null   object\n",
      " 6   salary            1171 non-null   int64 \n",
      "dtypes: int64(2), object(5)\n",
      "memory usage: 64.2+ KB\n",
      "None\n"
     ]
    },
    {
     "data": {
      "text/html": [
       "<div>\n",
       "<style scoped>\n",
       "    .dataframe tbody tr th:only-of-type {\n",
       "        vertical-align: middle;\n",
       "    }\n",
       "\n",
       "    .dataframe tbody tr th {\n",
       "        vertical-align: top;\n",
       "    }\n",
       "\n",
       "    .dataframe thead th {\n",
       "        text-align: right;\n",
       "    }\n",
       "</style>\n",
       "<table border=\"1\" class=\"dataframe\">\n",
       "  <thead>\n",
       "    <tr style=\"text-align: right;\">\n",
       "      <th></th>\n",
       "      <th>Unnamed: 0</th>\n",
       "      <th>job_title</th>\n",
       "      <th>job_type</th>\n",
       "      <th>experience_level</th>\n",
       "      <th>location</th>\n",
       "      <th>salary_currency</th>\n",
       "      <th>salary</th>\n",
       "    </tr>\n",
       "  </thead>\n",
       "  <tbody>\n",
       "    <tr>\n",
       "      <th>0</th>\n",
       "      <td>0</td>\n",
       "      <td>Data scientist</td>\n",
       "      <td>Full Time</td>\n",
       "      <td>Senior</td>\n",
       "      <td>New York City</td>\n",
       "      <td>USD</td>\n",
       "      <td>149000</td>\n",
       "    </tr>\n",
       "    <tr>\n",
       "      <th>1</th>\n",
       "      <td>2</td>\n",
       "      <td>Data scientist</td>\n",
       "      <td>Full Time</td>\n",
       "      <td>Senior</td>\n",
       "      <td>Boston</td>\n",
       "      <td>USD</td>\n",
       "      <td>120000</td>\n",
       "    </tr>\n",
       "    <tr>\n",
       "      <th>2</th>\n",
       "      <td>3</td>\n",
       "      <td>Data scientist</td>\n",
       "      <td>Full Time</td>\n",
       "      <td>Senior</td>\n",
       "      <td>London</td>\n",
       "      <td>USD</td>\n",
       "      <td>68000</td>\n",
       "    </tr>\n",
       "    <tr>\n",
       "      <th>3</th>\n",
       "      <td>4</td>\n",
       "      <td>Data scientist</td>\n",
       "      <td>Full Time</td>\n",
       "      <td>Senior</td>\n",
       "      <td>Boston</td>\n",
       "      <td>USD</td>\n",
       "      <td>120000</td>\n",
       "    </tr>\n",
       "    <tr>\n",
       "      <th>4</th>\n",
       "      <td>5</td>\n",
       "      <td>Data scientist</td>\n",
       "      <td>Full Time</td>\n",
       "      <td>Senior</td>\n",
       "      <td>New York City</td>\n",
       "      <td>USD</td>\n",
       "      <td>149000</td>\n",
       "    </tr>\n",
       "    <tr>\n",
       "      <th>5</th>\n",
       "      <td>6</td>\n",
       "      <td>Data scientist</td>\n",
       "      <td>Full Time</td>\n",
       "      <td>Senior</td>\n",
       "      <td>London</td>\n",
       "      <td>USD</td>\n",
       "      <td>68000</td>\n",
       "    </tr>\n",
       "    <tr>\n",
       "      <th>6</th>\n",
       "      <td>7</td>\n",
       "      <td>Data scientist</td>\n",
       "      <td>Full Time</td>\n",
       "      <td>Senior</td>\n",
       "      <td>Research Triangle Park</td>\n",
       "      <td>USD</td>\n",
       "      <td>69000</td>\n",
       "    </tr>\n",
       "    <tr>\n",
       "      <th>7</th>\n",
       "      <td>8</td>\n",
       "      <td>Data scientist</td>\n",
       "      <td>Full Time</td>\n",
       "      <td>Senior</td>\n",
       "      <td>Sydney</td>\n",
       "      <td>USD</td>\n",
       "      <td>68000</td>\n",
       "    </tr>\n",
       "    <tr>\n",
       "      <th>8</th>\n",
       "      <td>9</td>\n",
       "      <td>Data scientist</td>\n",
       "      <td>Full Time</td>\n",
       "      <td>Senior</td>\n",
       "      <td>San Francisco</td>\n",
       "      <td>USD</td>\n",
       "      <td>140000</td>\n",
       "    </tr>\n",
       "    <tr>\n",
       "      <th>9</th>\n",
       "      <td>10</td>\n",
       "      <td>Data scientist</td>\n",
       "      <td>Full Time</td>\n",
       "      <td>Senior</td>\n",
       "      <td>Sofia</td>\n",
       "      <td>USD</td>\n",
       "      <td>68000</td>\n",
       "    </tr>\n",
       "  </tbody>\n",
       "</table>\n",
       "</div>"
      ],
      "text/plain": [
       "   Unnamed: 0       job_title   job_type experience_level  \\\n",
       "0           0  Data scientist  Full Time           Senior   \n",
       "1           2  Data scientist  Full Time           Senior   \n",
       "2           3  Data scientist  Full Time           Senior   \n",
       "3           4  Data scientist  Full Time           Senior   \n",
       "4           5  Data scientist  Full Time           Senior   \n",
       "5           6  Data scientist  Full Time           Senior   \n",
       "6           7  Data scientist  Full Time           Senior   \n",
       "7           8  Data scientist  Full Time           Senior   \n",
       "8           9  Data scientist  Full Time           Senior   \n",
       "9          10  Data scientist  Full Time           Senior   \n",
       "\n",
       "                 location salary_currency  salary  \n",
       "0           New York City             USD  149000  \n",
       "1                  Boston             USD  120000  \n",
       "2                  London             USD   68000  \n",
       "3                  Boston             USD  120000  \n",
       "4           New York City             USD  149000  \n",
       "5                  London             USD   68000  \n",
       "6  Research Triangle Park             USD   69000  \n",
       "7                  Sydney             USD   68000  \n",
       "8           San Francisco             USD  140000  \n",
       "9                   Sofia             USD   68000  "
      ]
     },
     "execution_count": 6,
     "metadata": {},
     "output_type": "execute_result"
    }
   ],
   "source": [
    "job_salary = pd.read_csv('datascience_salaries.csv')\n",
    "\n",
    "print(job_salary.info())\n",
    "job_salary.head(10)"
   ]
  },
  {
   "cell_type": "markdown",
   "id": "a7b4479b",
   "metadata": {},
   "source": [
    "<div style=\"border:solid green 2px; padding: 20px\">\n",
    "    This dataset appears to contain structured data, as the information is organized into columns with well-defined categories such as \"job_title,\" \"job_type,\" \"experience_level,\" \"location,\" \"salary_currency,\" and \"salary.\" Structured data is typically organized into rows and columns, where each column represents a specific attribute or feature, and each row represents an individual record or observation.\n",
    "\n",
    "Structured data is well-suited for traditional tabular representations and can be easily analyzed using statistical and machine learning techniques. It allows for straightforward querying, filtering, and aggregating operations. The structured nature of the data facilitates the use of standard analytical tools and databases.\n",
    "\n",
    "On the other hand, unstructured data refers to data that does not have a predefined data model or is not organized in a tabular form. Examples of unstructured data include text, images, audio, and video.\n",
    "    \n",
    "The impact of having structured data in your dataset includes:\n",
    "\n",
    "Ease of Analysis: Structured data is easier to analyze using traditional statistical and analytical methods. You can easily perform aggregations, filtering, and sorting operations.\n",
    "\n",
    "Compatibility with Tools: Structured data is compatible with a wide range of data analysis tools, including spreadsheets, relational databases, and statistical software.\n",
    "\n",
    "Querying and Reporting: Structured data facilitates straightforward querying and reporting. You can use SQL queries or Pandas operations to extract specific information from the dataset.\n",
    "\n",
    "If there were unstructured data within the dataset, such as free-form text comments or resumes, your analysis approach might need to incorporate natural language processing (NLP) techniques or image/audio processing methods, depending on the type of unstructured data. Advanced tools and techniques, such as text mining or sentiment analysis, would be required to derive insights from unstructured information."
   ]
  },
  {
   "cell_type": "code",
   "execution_count": 3,
   "id": "78945754",
   "metadata": {},
   "outputs": [
    {
     "name": "stdout",
     "output_type": "stream",
     "text": [
      "Data scientist      394\n",
      "Data analyst        368\n",
      "Machine learning    289\n",
      "Big data            101\n",
      "ML Ops               19\n",
      "Name: job_title, dtype: int64\n",
      "-----\n",
      "Full Time     1136\n",
      "Internship      35\n",
      "Name: job_type, dtype: int64\n",
      "-----\n",
      "Senior       727\n",
      "Mid          305\n",
      "Entry        126\n",
      "Executive     13\n",
      "Name: experience_level, dtype: int64\n",
      "-----\n",
      "USD    1157\n",
      "EUR       9\n",
      "GBP       5\n",
      "Name: salary_currency, dtype: int64\n"
     ]
    }
   ],
   "source": [
    "print(job_salary['job_title'].value_counts())\n",
    "print('-----')\n",
    "print(job_salary['job_type'].value_counts())\n",
    "print('-----')\n",
    "print(job_salary['experience_level'].value_counts())\n",
    "print('-----')\n",
    "print(job_salary['salary_currency'].value_counts())"
   ]
  },
  {
   "cell_type": "code",
   "execution_count": 4,
   "id": "822e4f99",
   "metadata": {},
   "outputs": [
    {
     "data": {
      "text/plain": [
       "0"
      ]
     },
     "execution_count": 4,
     "metadata": {},
     "output_type": "execute_result"
    }
   ],
   "source": [
    "# checking for duplicate strings\n",
    "job_salary.duplicated().sum()"
   ]
  },
  {
   "cell_type": "markdown",
   "id": "48ab4134",
   "metadata": {},
   "source": [
    "<div style=\"border:solid green 2px; padding: 20px\">\n",
    "\n",
    "- The dataset contains 7 columns and 1171 rows. \n",
    "- There are no missing values or duplicates in the dataset.\n",
    "- The dataset has an \"Unnamed\" column that duplicates the indexes, however, there are missing numbers. Since we do not know what these numbers mean, and they are not needed for further analysis, this column can be deleted.\n",
    "- There are 35 \"Internship\" rows in the job_type column. Since only full-time employees are needed for the analysis, these 35 rows can be deleted.\n",
    "- In the salary_currency column, most of the rows are USD. However, there are 9 rows with the EUR currency and 5 lines with the GBP currency. Since we do not know when the dataset was created, we cannot know what the exchange rate was at that time in order to bring all lines to USD. Therefore, 14 lines with other currencies can be deleted."
   ]
  },
  {
   "cell_type": "code",
   "execution_count": 7,
   "id": "4da22fc0",
   "metadata": {},
   "outputs": [
    {
     "data": {
      "text/html": [
       "<div>\n",
       "<style scoped>\n",
       "    .dataframe tbody tr th:only-of-type {\n",
       "        vertical-align: middle;\n",
       "    }\n",
       "\n",
       "    .dataframe tbody tr th {\n",
       "        vertical-align: top;\n",
       "    }\n",
       "\n",
       "    .dataframe thead th {\n",
       "        text-align: right;\n",
       "    }\n",
       "</style>\n",
       "<table border=\"1\" class=\"dataframe\">\n",
       "  <thead>\n",
       "    <tr style=\"text-align: right;\">\n",
       "      <th></th>\n",
       "      <th>job_title</th>\n",
       "      <th>job_type</th>\n",
       "      <th>experience_level</th>\n",
       "      <th>location</th>\n",
       "      <th>salary_currency</th>\n",
       "      <th>salary</th>\n",
       "    </tr>\n",
       "  </thead>\n",
       "  <tbody>\n",
       "    <tr>\n",
       "      <th>0</th>\n",
       "      <td>Data scientist</td>\n",
       "      <td>Full Time</td>\n",
       "      <td>Senior</td>\n",
       "      <td>New York City</td>\n",
       "      <td>USD</td>\n",
       "      <td>149000</td>\n",
       "    </tr>\n",
       "    <tr>\n",
       "      <th>1</th>\n",
       "      <td>Data scientist</td>\n",
       "      <td>Full Time</td>\n",
       "      <td>Senior</td>\n",
       "      <td>Boston</td>\n",
       "      <td>USD</td>\n",
       "      <td>120000</td>\n",
       "    </tr>\n",
       "    <tr>\n",
       "      <th>2</th>\n",
       "      <td>Data scientist</td>\n",
       "      <td>Full Time</td>\n",
       "      <td>Senior</td>\n",
       "      <td>London</td>\n",
       "      <td>USD</td>\n",
       "      <td>68000</td>\n",
       "    </tr>\n",
       "    <tr>\n",
       "      <th>3</th>\n",
       "      <td>Data scientist</td>\n",
       "      <td>Full Time</td>\n",
       "      <td>Senior</td>\n",
       "      <td>Boston</td>\n",
       "      <td>USD</td>\n",
       "      <td>120000</td>\n",
       "    </tr>\n",
       "    <tr>\n",
       "      <th>4</th>\n",
       "      <td>Data scientist</td>\n",
       "      <td>Full Time</td>\n",
       "      <td>Senior</td>\n",
       "      <td>New York City</td>\n",
       "      <td>USD</td>\n",
       "      <td>149000</td>\n",
       "    </tr>\n",
       "  </tbody>\n",
       "</table>\n",
       "</div>"
      ],
      "text/plain": [
       "        job_title   job_type experience_level       location salary_currency  \\\n",
       "0  Data scientist  Full Time           Senior  New York City             USD   \n",
       "1  Data scientist  Full Time           Senior         Boston             USD   \n",
       "2  Data scientist  Full Time           Senior         London             USD   \n",
       "3  Data scientist  Full Time           Senior         Boston             USD   \n",
       "4  Data scientist  Full Time           Senior  New York City             USD   \n",
       "\n",
       "   salary  \n",
       "0  149000  \n",
       "1  120000  \n",
       "2   68000  \n",
       "3  120000  \n",
       "4  149000  "
      ]
     },
     "execution_count": 7,
     "metadata": {},
     "output_type": "execute_result"
    }
   ],
   "source": [
    "# Removing unnecessary Unnamed: 0 column\n",
    "job_salary.drop(columns=['Unnamed: 0'], inplace=True)"
   ]
  },
  {
   "cell_type": "code",
   "execution_count": 8,
   "id": "12f1d27c",
   "metadata": {},
   "outputs": [
    {
     "data": {
      "text/plain": [
       "1122"
      ]
     },
     "execution_count": 8,
     "metadata": {},
     "output_type": "execute_result"
    }
   ],
   "source": [
    "# Deleting lines with the currency EUR and GBP, and the job type of Internship\n",
    "filtered_job_salary = job_salary.query('salary_currency not in [\"EUR\", \"GBP\"] and job_type != \"Internship\"')\n",
    "len(filtered_job_salary)"
   ]
  },
  {
   "cell_type": "markdown",
   "id": "52cca013",
   "metadata": {},
   "source": [
    "### Perform a group-wise analysis of the experience_level column, calculating the mean and median salaries for each group using Pandas’ .groupby"
   ]
  },
  {
   "cell_type": "code",
   "execution_count": 10,
   "id": "4925c909",
   "metadata": {
    "scrolled": true
   },
   "outputs": [
    {
     "data": {
      "text/plain": [
       "count      1122.000000\n",
       "mean      65360.071301\n",
       "std       32951.083297\n",
       "min       30000.000000\n",
       "25%       45000.000000\n",
       "50%       63000.000000\n",
       "75%       68000.000000\n",
       "max      228000.000000\n",
       "Name: salary, dtype: float64"
      ]
     },
     "execution_count": 10,
     "metadata": {},
     "output_type": "execute_result"
    }
   ],
   "source": [
    "filtered_job_salary['salary'].describe()"
   ]
  },
  {
   "cell_type": "code",
   "execution_count": 12,
   "id": "6895da60",
   "metadata": {},
   "outputs": [
    {
     "data": {
      "text/html": [
       "<div>\n",
       "<style scoped>\n",
       "    .dataframe tbody tr th:only-of-type {\n",
       "        vertical-align: middle;\n",
       "    }\n",
       "\n",
       "    .dataframe tbody tr th {\n",
       "        vertical-align: top;\n",
       "    }\n",
       "\n",
       "    .dataframe thead th {\n",
       "        text-align: right;\n",
       "    }\n",
       "</style>\n",
       "<table border=\"1\" class=\"dataframe\">\n",
       "  <thead>\n",
       "    <tr style=\"text-align: right;\">\n",
       "      <th></th>\n",
       "      <th>mean</th>\n",
       "      <th>median</th>\n",
       "    </tr>\n",
       "    <tr>\n",
       "      <th>experience_level</th>\n",
       "      <th></th>\n",
       "      <th></th>\n",
       "    </tr>\n",
       "  </thead>\n",
       "  <tbody>\n",
       "    <tr>\n",
       "      <th>Entry</th>\n",
       "      <td>35678.57</td>\n",
       "      <td>30000.0</td>\n",
       "    </tr>\n",
       "    <tr>\n",
       "      <th>Executive</th>\n",
       "      <td>76076.92</td>\n",
       "      <td>46000.0</td>\n",
       "    </tr>\n",
       "    <tr>\n",
       "      <th>Mid</th>\n",
       "      <td>51512.03</td>\n",
       "      <td>51000.0</td>\n",
       "    </tr>\n",
       "    <tr>\n",
       "      <th>Senior</th>\n",
       "      <td>75579.32</td>\n",
       "      <td>68000.0</td>\n",
       "    </tr>\n",
       "  </tbody>\n",
       "</table>\n",
       "</div>"
      ],
      "text/plain": [
       "                      mean   median\n",
       "experience_level                   \n",
       "Entry             35678.57  30000.0\n",
       "Executive         76076.92  46000.0\n",
       "Mid               51512.03  51000.0\n",
       "Senior            75579.32  68000.0"
      ]
     },
     "execution_count": 12,
     "metadata": {},
     "output_type": "execute_result"
    }
   ],
   "source": [
    "# Group-wise analysis\n",
    "experience_level_salary = filtered_job_salary.groupby('experience_level')['salary'].agg(['mean', 'median']).round(2)\n",
    "experience_level_salary"
   ]
  },
  {
   "cell_type": "code",
   "execution_count": 16,
   "id": "62359feb",
   "metadata": {},
   "outputs": [
    {
     "data": {
      "image/png": "[encoded data removed]",
      "text/plain": [
       "<Figure size 900x500 with 1 Axes>"
      ]
     },
     "metadata": {},
     "output_type": "display_data"
    }
   ],
   "source": [
    "# Plotting the bar chart\n",
    "fig, ax = plt.subplots(figsize=(9, 5))\n",
    "experience_level_salary.plot(kind='bar', ax=ax, color=['blue', 'lightcoral'], edgecolor='black')\n",
    "\n",
    "ax.set_xlabel('Experience level')\n",
    "ax.set_ylabel('Salary (USD)')\n",
    "ax.set_title('Average salary by experience level')\n",
    "ax.legend(['Mean Salary', 'Median Salary'])\n",
    "plt.xticks(rotation=0)\n",
    "ax.grid(axis='y', alpha=0.7)\n",
    "\n",
    "plt.show()"
   ]
  },
  {
   "cell_type": "markdown",
   "id": "39c79bf7",
   "metadata": {},
   "source": [
    "<div style=\"border:solid green 2px; padding: 20px\">\n",
    "    The mean value is influenced by outliers (for example, a very large salary), so sometimes the mean value is very different from the median.\n",
    "    \n",
    "    For specialists with the experience level \"Mid\", the mean and median are almost the same, which indicates the homogeneity of this group. The mean and median of the \"Executive\" are the most different."
   ]
  },
  {
   "cell_type": "code",
   "execution_count": null,
   "id": "e1fa9a8a",
   "metadata": {},
   "outputs": [],
   "source": []
  }
 ],
 "metadata": {
  "kernelspec": {
   "display_name": "Python 3 (ipykernel)",
   "language": "python",
   "name": "python3"
  },
  "language_info": {
   "codemirror_mode": {
    "name": "ipython",
    "version": 3
   },
   "file_extension": ".py",
   "mimetype": "text/x-python",
   "name": "python",
   "nbconvert_exporter": "python",
   "pygments_lexer": "ipython3",
   "version": "3.9.13"
  }
 },
 "nbformat": 4,
 "nbformat_minor": 5
}
